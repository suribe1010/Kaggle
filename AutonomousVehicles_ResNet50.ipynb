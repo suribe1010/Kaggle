{
  "nbformat": 4,
  "nbformat_minor": 0,
  "metadata": {
    "colab": {
      "name": "AutonomousVehicles_ResNet50",
      "provenance": [],
      "authorship_tag": "ABX9TyOyax+iN0CeBmtssKVne1aF",
      "include_colab_link": true
    },
    "kernelspec": {
      "name": "python3",
      "display_name": "Python 3"
    }
  },
  "cells": [
    {
      "cell_type": "markdown",
      "metadata": {
        "id": "view-in-github",
        "colab_type": "text"
      },
      "source": [
        "<a href=\"https://colab.research.google.com/github/suribe1010/Kaggle/blob/master/AutonomousVehicles_ResNet50.ipynb\" target=\"_parent\"><img src=\"https://colab.research.google.com/assets/colab-badge.svg\" alt=\"Open In Colab\"/></a>"
      ]
    },
    {
      "cell_type": "markdown",
      "metadata": {
        "id": "Dkf44PpFzl8I",
        "colab_type": "text"
      },
      "source": [
        "This is a script for me to understand how to implement a CNN ResNet50 in autonomous vehicles, in real-time."
      ]
    },
    {
      "cell_type": "code",
      "metadata": {
        "id": "xIJzNBSBzo3A",
        "colab_type": "code",
        "outputId": "c8710d59-734c-49de-b06b-5777fe787132",
        "colab": {
          "base_uri": "https://localhost:8080/",
          "height": 55
        }
      },
      "source": [
        "!git clone https://github.com/abhinavsagar/Self-Driving-Car.git\n"
      ],
      "execution_count": 0,
      "outputs": [
        {
          "output_type": "stream",
          "text": [
            "fatal: destination path 'Self-Driving-Car' already exists and is not an empty directory.\n"
          ],
          "name": "stdout"
        }
      ]
    },
    {
      "cell_type": "code",
      "metadata": {
        "id": "ZXaE0QepzTwb",
        "colab_type": "code",
        "outputId": "a708e9d3-6a52-44b1-e5b7-3ff5a8142ca7",
        "colab": {
          "base_uri": "https://localhost:8080/",
          "height": 35
        }
      },
      "source": [
        "!ls Self-Driving-Car"
      ],
      "execution_count": 0,
      "outputs": [
        {
          "output_type": "stream",
          "text": [
            "autonomous_car.ipynb  driving_log.csv  IMG  LICENSE  README.md\trun.gif\n"
          ],
          "name": "stdout"
        }
      ]
    },
    {
      "cell_type": "code",
      "metadata": {
        "id": "cpBTeqTozbdl",
        "colab_type": "code",
        "colab": {}
      },
      "source": [
        "## IMPORT NEEDED LIBRARIES\n",
        "\n",
        "import numpy as np\n",
        "import matplotlib.pyplot as plt\n",
        "import matplotlib.image as npimg\n",
        "import os\n",
        "\n",
        "## Keras\n",
        "import keras\n",
        "from keras.models import Sequential\n",
        "from keras.optimizers import Adam\n",
        "from keras.layers import Convolution2D, MaxPooling2D, Dropout, Flatten, Dense\n",
        "\n",
        "import cv2\n",
        "import pandas as pd\n",
        "import random\n",
        "import ntpath\n",
        "\n",
        "## Sklearn\n",
        "from sklearn.utils import shuffle\n",
        "from sklearn.model_selection import train_test_split"
      ],
      "execution_count": 0,
      "outputs": []
    },
    {
      "cell_type": "code",
      "metadata": {
        "id": "SzJ1iV8507ep",
        "colab_type": "code",
        "outputId": "54c890a7-d25c-4d27-aeec-c1e043f2aea8",
        "colab": {
          "base_uri": "https://localhost:8080/",
          "height": 313
        }
      },
      "source": [
        "## STORE DATA\n",
        "datadir = 'Self-Driving-Car'\n",
        "columns = ['center', 'left', 'right', 'steering', 'throttle', 'reverse', 'speed']\n",
        "data = pd.read_csv(os.path.join(datadir, 'driving_log.csv'), names = columns)\n",
        "pd.set_option('display.max_colwidth', -1)\n",
        "data.head()"
      ],
      "execution_count": 0,
      "outputs": [
        {
          "output_type": "execute_result",
          "data": {
            "text/html": [
              "<div>\n",
              "<style scoped>\n",
              "    .dataframe tbody tr th:only-of-type {\n",
              "        vertical-align: middle;\n",
              "    }\n",
              "\n",
              "    .dataframe tbody tr th {\n",
              "        vertical-align: top;\n",
              "    }\n",
              "\n",
              "    .dataframe thead th {\n",
              "        text-align: right;\n",
              "    }\n",
              "</style>\n",
              "<table border=\"1\" class=\"dataframe\">\n",
              "  <thead>\n",
              "    <tr style=\"text-align: right;\">\n",
              "      <th></th>\n",
              "      <th>center</th>\n",
              "      <th>left</th>\n",
              "      <th>right</th>\n",
              "      <th>steering</th>\n",
              "      <th>throttle</th>\n",
              "      <th>reverse</th>\n",
              "      <th>speed</th>\n",
              "    </tr>\n",
              "  </thead>\n",
              "  <tbody>\n",
              "    <tr>\n",
              "      <th>0</th>\n",
              "      <td>C:\\Users\\Win 10\\Desktop\\benign\\IMG\\center_2019_07_22_20_38_15_382.jpg</td>\n",
              "      <td>C:\\Users\\Win 10\\Desktop\\benign\\IMG\\left_2019_07_22_20_38_15_382.jpg</td>\n",
              "      <td>C:\\Users\\Win 10\\Desktop\\benign\\IMG\\right_2019_07_22_20_38_15_382.jpg</td>\n",
              "      <td>0.0</td>\n",
              "      <td>0.0</td>\n",
              "      <td>0</td>\n",
              "      <td>0.000079</td>\n",
              "    </tr>\n",
              "    <tr>\n",
              "      <th>1</th>\n",
              "      <td>C:\\Users\\Win 10\\Desktop\\benign\\IMG\\center_2019_07_22_20_38_15_526.jpg</td>\n",
              "      <td>C:\\Users\\Win 10\\Desktop\\benign\\IMG\\left_2019_07_22_20_38_15_526.jpg</td>\n",
              "      <td>C:\\Users\\Win 10\\Desktop\\benign\\IMG\\right_2019_07_22_20_38_15_526.jpg</td>\n",
              "      <td>0.0</td>\n",
              "      <td>0.0</td>\n",
              "      <td>0</td>\n",
              "      <td>0.000082</td>\n",
              "    </tr>\n",
              "    <tr>\n",
              "      <th>2</th>\n",
              "      <td>C:\\Users\\Win 10\\Desktop\\benign\\IMG\\center_2019_07_22_20_38_15_669.jpg</td>\n",
              "      <td>C:\\Users\\Win 10\\Desktop\\benign\\IMG\\left_2019_07_22_20_38_15_669.jpg</td>\n",
              "      <td>C:\\Users\\Win 10\\Desktop\\benign\\IMG\\right_2019_07_22_20_38_15_669.jpg</td>\n",
              "      <td>0.0</td>\n",
              "      <td>0.0</td>\n",
              "      <td>0</td>\n",
              "      <td>0.000078</td>\n",
              "    </tr>\n",
              "    <tr>\n",
              "      <th>3</th>\n",
              "      <td>C:\\Users\\Win 10\\Desktop\\benign\\IMG\\center_2019_07_22_20_38_15_802.jpg</td>\n",
              "      <td>C:\\Users\\Win 10\\Desktop\\benign\\IMG\\left_2019_07_22_20_38_15_802.jpg</td>\n",
              "      <td>C:\\Users\\Win 10\\Desktop\\benign\\IMG\\right_2019_07_22_20_38_15_802.jpg</td>\n",
              "      <td>0.0</td>\n",
              "      <td>0.0</td>\n",
              "      <td>0</td>\n",
              "      <td>0.000078</td>\n",
              "    </tr>\n",
              "    <tr>\n",
              "      <th>4</th>\n",
              "      <td>C:\\Users\\Win 10\\Desktop\\benign\\IMG\\center_2019_07_22_20_38_15_937.jpg</td>\n",
              "      <td>C:\\Users\\Win 10\\Desktop\\benign\\IMG\\left_2019_07_22_20_38_15_937.jpg</td>\n",
              "      <td>C:\\Users\\Win 10\\Desktop\\benign\\IMG\\right_2019_07_22_20_38_15_937.jpg</td>\n",
              "      <td>0.0</td>\n",
              "      <td>0.0</td>\n",
              "      <td>0</td>\n",
              "      <td>0.000080</td>\n",
              "    </tr>\n",
              "  </tbody>\n",
              "</table>\n",
              "</div>"
            ],
            "text/plain": [
              "                                                                  center  ...     speed\n",
              "0  C:\\Users\\Win 10\\Desktop\\benign\\IMG\\center_2019_07_22_20_38_15_382.jpg  ...  0.000079\n",
              "1  C:\\Users\\Win 10\\Desktop\\benign\\IMG\\center_2019_07_22_20_38_15_526.jpg  ...  0.000082\n",
              "2  C:\\Users\\Win 10\\Desktop\\benign\\IMG\\center_2019_07_22_20_38_15_669.jpg  ...  0.000078\n",
              "3  C:\\Users\\Win 10\\Desktop\\benign\\IMG\\center_2019_07_22_20_38_15_802.jpg  ...  0.000078\n",
              "4  C:\\Users\\Win 10\\Desktop\\benign\\IMG\\center_2019_07_22_20_38_15_937.jpg  ...  0.000080\n",
              "\n",
              "[5 rows x 7 columns]"
            ]
          },
          "metadata": {
            "tags": []
          },
          "execution_count": 64
        }
      ]
    },
    {
      "cell_type": "code",
      "metadata": {
        "id": "hduOjJm014Se",
        "colab_type": "code",
        "outputId": "6095dcca-663e-45a6-c26e-3fb20370b066",
        "colab": {
          "base_uri": "https://localhost:8080/",
          "height": 340
        }
      },
      "source": [
        "## VISUALIZE THE DATA\n",
        "\n",
        "num_bins = 25\n",
        "samples_per_bin = 200\n",
        "hist, bins = np.histogram(data['steering'], num_bins)\n",
        "center = bins[:-1] + bins[1:] #center the bins to 0\n",
        "\n",
        "# Plot\n",
        "\n",
        "plt.bar(center, hist, width=0.05)\n",
        "print('Bins: ', bins)"
      ],
      "execution_count": 0,
      "outputs": [
        {
          "output_type": "stream",
          "text": [
            "Bins:  [-1.   -0.92 -0.84 -0.76 -0.68 -0.6  -0.52 -0.44 -0.36 -0.28 -0.2  -0.12\n",
            " -0.04  0.04  0.12  0.2   0.28  0.36  0.44  0.52  0.6   0.68  0.76  0.84\n",
            "  0.92  1.  ]\n"
          ],
          "name": "stdout"
        },
        {
          "output_type": "display_data",
          "data": {
            "image/png": "[encoded data removed]",
            "text/plain": [
              "<Figure size 432x288 with 1 Axes>"
            ]
          },
          "metadata": {
            "tags": []
          }
        }
      ]
    },
    {
      "cell_type": "code",
      "metadata": {
        "id": "luDFOeLx-VJx",
        "colab_type": "code",
        "outputId": "c40fab4c-dfd6-4fb2-cca0-e3aecb53992a",
        "colab": {
          "base_uri": "https://localhost:8080/",
          "height": 320
        }
      },
      "source": [
        "## REMOVE DATA STEERING = 0, GOING STRAIGHT\n",
        "remove_list = []\n",
        "for j in range(num_bins):\n",
        "  list_ = []\n",
        "  for i in range(len(data['steering'])):\n",
        "    steering_angle = data['steering'][i]\n",
        "    if steering_angle >= bins[j] and steering_angle <= bins[j+1]:\n",
        "      list_.append(i)\n",
        "  list_ = shuffle(list_)\n",
        "  list_ = list_[samples_per_bin:]\n",
        "  remove_list.extend(list_)\n",
        "  \n",
        "## Remove from extras from list\n",
        "data.drop(data.index[remove_list], inplace=True)\n",
        "print('Removed: {0}'.format(len(remove_list)))\n",
        "print('Remaining: {0}'.format(len(data)))\n",
        "\n",
        "## Plot\n",
        "hist, _ = np.histogram(data['steering'], (num_bins))\n",
        "plt.bar(center, hist, width=0.05)\n",
        "plt.plot((np.min(data['steering']), np.max(data['steering'])), (samples_per_bin, samples_per_bin))"
      ],
      "execution_count": 0,
      "outputs": [
        {
          "output_type": "stream",
          "text": [
            "Removed: 1203\n",
            "Remaining: 540\n"
          ],
          "name": "stdout"
        },
        {
          "output_type": "execute_result",
          "data": {
            "text/plain": [
              "[<matplotlib.lines.Line2D at 0x7f16df684358>]"
            ]
          },
          "metadata": {
            "tags": []
          },
          "execution_count": 66
        },
        {
          "output_type": "display_data",
          "data": {
            "image/png": "[encoded data removed]",
            "text/plain": [
              "<Figure size 432x288 with 1 Axes>"
            ]
          },
          "metadata": {
            "tags": []
          }
        }
      ]
    },
    {
      "cell_type": "code",
      "metadata": {
        "id": "_0EgwDxGAueD",
        "colab_type": "code",
        "outputId": "fd52ee97-b589-4db6-a0cf-ceaf5c71f97c",
        "colab": {
          "base_uri": "https://localhost:8080/",
          "height": 273
        }
      },
      "source": [
        "## IMAGE AND STEERING DATA INTO ARRAYS\n",
        "\n",
        "def load_img_steering(datadir, df):\n",
        "  \n",
        "  image_path = []\n",
        "  steering = []\n",
        "  for i in range(len(data)):\n",
        "    indexed_data = data.iloc[i]\n",
        "    center, left, right = indexed_data[0], indexed_data[1], indexed_data[2]\n",
        "    image_path.append(os.path.join(datadir, center.strip()))\n",
        "    steering.append(float(indexed_data[3]))\n",
        "  image_paths = np.asarray(image_path)\n",
        "  steerings = np.asarray(steering)\n",
        "  return image_paths, steerings\n",
        "\n",
        "image_paths, steerings = load_img_steering(datadir + '/IMG', data)\n",
        "print('Image Paths: ', image_paths[:8])\n",
        "print('Steerings: ', steerings[:30])"
      ],
      "execution_count": 0,
      "outputs": [
        {
          "output_type": "stream",
          "text": [
            "Image Paths:  ['Self-Driving-Car/IMG/C:\\\\Users\\\\Win 10\\\\Desktop\\\\benign\\\\IMG\\\\center_2019_07_22_20_38_15_937.jpg'\n",
            " 'Self-Driving-Car/IMG/C:\\\\Users\\\\Win 10\\\\Desktop\\\\benign\\\\IMG\\\\center_2019_07_22_20_38_17_547.jpg'\n",
            " 'Self-Driving-Car/IMG/C:\\\\Users\\\\Win 10\\\\Desktop\\\\benign\\\\IMG\\\\center_2019_07_22_20_38_17_823.jpg'\n",
            " 'Self-Driving-Car/IMG/C:\\\\Users\\\\Win 10\\\\Desktop\\\\benign\\\\IMG\\\\center_2019_07_22_20_38_18_123.jpg'\n",
            " 'Self-Driving-Car/IMG/C:\\\\Users\\\\Win 10\\\\Desktop\\\\benign\\\\IMG\\\\center_2019_07_22_20_38_18_495.jpg'\n",
            " 'Self-Driving-Car/IMG/C:\\\\Users\\\\Win 10\\\\Desktop\\\\benign\\\\IMG\\\\center_2019_07_22_20_38_18_633.jpg'\n",
            " 'Self-Driving-Car/IMG/C:\\\\Users\\\\Win 10\\\\Desktop\\\\benign\\\\IMG\\\\center_2019_07_22_20_38_18_893.jpg'\n",
            " 'Self-Driving-Car/IMG/C:\\\\Users\\\\Win 10\\\\Desktop\\\\benign\\\\IMG\\\\center_2019_07_22_20_38_19_514.jpg']\n",
            "Steerings:  [ 0.        -1.        -0.1616194  0.        -0.713801  -0.293242\n",
            "  0.        -0.5423487 -0.9730906 -1.         0.        -0.7876602\n",
            " -0.1776071 -0.8362509  0.         0.         0.        -0.5763551\n",
            " -0.8140205 -1.        -0.2999952  0.         0.7109125  0.1537359\n",
            "  0.851765   1.         1.         1.         1.         1.       ]\n"
          ],
          "name": "stdout"
        }
      ]
    },
    {
      "cell_type": "code",
      "metadata": {
        "id": "dkwGeuxFO4J2",
        "colab_type": "code",
        "outputId": "42deba7b-4063-4a0a-a430-c2dee04e05a2",
        "colab": {
          "base_uri": "https://localhost:8080/",
          "height": 356
        }
      },
      "source": [
        "## DIVIDE DATA AND CHECK THAT IS VALID\n",
        "#The next step was to split the data using the 80–20 rule which means using 80% of the data for training while the rest for testing the model on unseen images. Also, I plotted the sample training and validation steering angle distributions.\n",
        "X_train, X_valid, Y_train, Y_valid = train_test_split(image_paths, steerings, test_size=0.2, random_state=0)\n",
        "\n",
        "## Check that data is valid\n",
        "print(\"Training Samples: {}\\nValid Samples: {}\".format(len(X_train), len(X_valid)))\n",
        "fig, axes = plt.subplots(1, 2, figsize=(12, 4))\n",
        "axes[0].hist(Y_train, bins=num_bins, width=0.05, color='blue')\n",
        "axes[0].set_title('Training set')\n",
        "axes[1].hist(Y_valid, bins=num_bins, width=0.05, color='red')\n",
        "axes[1].set_title('Validation set')"
      ],
      "execution_count": 0,
      "outputs": [
        {
          "output_type": "stream",
          "text": [
            "Training Samples: 432\n",
            "Valid Samples: 108\n"
          ],
          "name": "stdout"
        },
        {
          "output_type": "execute_result",
          "data": {
            "text/plain": [
              "Text(0.5, 1.0, 'Validation set')"
            ]
          },
          "metadata": {
            "tags": []
          },
          "execution_count": 68
        },
        {
          "output_type": "display_data",
          "data": {
            "image/png": "[encoded data removed]",
            "text/plain": [
              "<Figure size 864x288 with 2 Axes>"
            ]
          },
          "metadata": {
            "tags": []
          }
        }
      ]
    },
    {
      "cell_type": "code",
      "metadata": {
        "id": "J0OKW8rkQuqA",
        "colab_type": "code",
        "colab": {}
      },
      "source": [
        "## IMAGE PREPROCESSING\n",
        "#I continued by doing some image processing. I cropped the image to remove the unnecessary features, changes the images to YUV format, \n",
        "#used gaussian blur, decreased the size for easier processing and normalized the values.\n",
        "def img_preprocess(img):\n",
        "  \"\"\"Take in path of img, returns preprocessed image\"\"\"\n",
        "  img = npimg.imread(img)\n",
        "  \n",
        "  ## Crop image to remove unnecessary features\n",
        "  img = img[60:135, :, :]\n",
        "  \n",
        "  ## Change to YUV image\n",
        "  img = cv2.cvtColor(img, cv2.COLOR_RGB2YUV)\n",
        "  \n",
        "  ## Gaussian blur\n",
        "  img = cv2.GaussianBlur(img, (3, 3), 0)\n",
        "  \n",
        "  ## Decrease size for easier processing\n",
        "  img = cv2.resize(img, (100, 100))\n",
        "  \n",
        "  ## Normalize values\n",
        "  img = img / 255\n",
        "  return img\n",
        "\n",
        "\n"
      ],
      "execution_count": 0,
      "outputs": []
    },
    {
      "cell_type": "code",
      "metadata": {
        "id": "zLl5XZ8wUECf",
        "colab_type": "code",
        "outputId": "6ee9479c-bd1a-4dae-d422-3174a7468941",
        "colab": {
          "base_uri": "https://localhost:8080/",
          "height": 376
        }
      },
      "source": [
        "## Get any image\n",
        "image = image_paths[100]\n",
        "#original_image = npimg.imread(image)\n",
        "preprocessed_image = img_preprocess(image)\n",
        "\n"
      ],
      "execution_count": 78,
      "outputs": [
        {
          "output_type": "error",
          "ename": "FileNotFoundError",
          "evalue": "ignored",
          "traceback": [
            "\u001b[0;31m---------------------------------------------------------------------------\u001b[0m",
            "\u001b[0;31mFileNotFoundError\u001b[0m                         Traceback (most recent call last)",
            "\u001b[0;32m<ipython-input-78-c3e76f030422>\u001b[0m in \u001b[0;36m<module>\u001b[0;34m()\u001b[0m\n\u001b[1;32m      1\u001b[0m \u001b[0mimage\u001b[0m \u001b[0;34m=\u001b[0m \u001b[0mimage_paths\u001b[0m\u001b[0;34m[\u001b[0m\u001b[0;36m100\u001b[0m\u001b[0;34m]\u001b[0m\u001b[0;34m\u001b[0m\u001b[0;34m\u001b[0m\u001b[0m\n\u001b[1;32m      2\u001b[0m \u001b[0;31m#original_image = npimg.imread(image)\u001b[0m\u001b[0;34m\u001b[0m\u001b[0;34m\u001b[0m\u001b[0;34m\u001b[0m\u001b[0m\n\u001b[0;32m----> 3\u001b[0;31m \u001b[0mpreprocessed_image\u001b[0m \u001b[0;34m=\u001b[0m \u001b[0mimg_preprocess\u001b[0m\u001b[0;34m(\u001b[0m\u001b[0mimage\u001b[0m\u001b[0;34m)\u001b[0m\u001b[0;34m\u001b[0m\u001b[0;34m\u001b[0m\u001b[0m\n\u001b[0m\u001b[1;32m      4\u001b[0m \u001b[0;34m\u001b[0m\u001b[0m\n",
            "\u001b[0;32m<ipython-input-69-d7ec786c23ce>\u001b[0m in \u001b[0;36mimg_preprocess\u001b[0;34m(img)\u001b[0m\n\u001b[1;32m      1\u001b[0m \u001b[0;32mdef\u001b[0m \u001b[0mimg_preprocess\u001b[0m\u001b[0;34m(\u001b[0m\u001b[0mimg\u001b[0m\u001b[0;34m)\u001b[0m\u001b[0;34m:\u001b[0m\u001b[0;34m\u001b[0m\u001b[0;34m\u001b[0m\u001b[0m\n\u001b[1;32m      2\u001b[0m   \u001b[0;34m\"\"\"Take in path of img, returns preprocessed image\"\"\"\u001b[0m\u001b[0;34m\u001b[0m\u001b[0;34m\u001b[0m\u001b[0m\n\u001b[0;32m----> 3\u001b[0;31m   \u001b[0mimg\u001b[0m \u001b[0;34m=\u001b[0m \u001b[0mnpimg\u001b[0m\u001b[0;34m.\u001b[0m\u001b[0mimread\u001b[0m\u001b[0;34m(\u001b[0m\u001b[0mimg\u001b[0m\u001b[0;34m)\u001b[0m\u001b[0;34m\u001b[0m\u001b[0;34m\u001b[0m\u001b[0m\n\u001b[0m\u001b[1;32m      4\u001b[0m \u001b[0;34m\u001b[0m\u001b[0m\n\u001b[1;32m      5\u001b[0m   \u001b[0;31m## Crop image to remove unnecessary features\u001b[0m\u001b[0;34m\u001b[0m\u001b[0;34m\u001b[0m\u001b[0;34m\u001b[0m\u001b[0m\n",
            "\u001b[0;32m/usr/local/lib/python3.6/dist-packages/matplotlib/image.py\u001b[0m in \u001b[0;36mimread\u001b[0;34m(fname, format)\u001b[0m\n\u001b[1;32m   1415\u001b[0m                              \u001b[0;34m'with Pillow installed matplotlib can handle '\u001b[0m\u001b[0;34m\u001b[0m\u001b[0;34m\u001b[0m\u001b[0m\n\u001b[1;32m   1416\u001b[0m                              'more images' % list(handlers))\n\u001b[0;32m-> 1417\u001b[0;31m         \u001b[0;32mwith\u001b[0m \u001b[0mImage\u001b[0m\u001b[0;34m.\u001b[0m\u001b[0mopen\u001b[0m\u001b[0;34m(\u001b[0m\u001b[0mfname\u001b[0m\u001b[0;34m)\u001b[0m \u001b[0;32mas\u001b[0m \u001b[0mimage\u001b[0m\u001b[0;34m:\u001b[0m\u001b[0;34m\u001b[0m\u001b[0;34m\u001b[0m\u001b[0m\n\u001b[0m\u001b[1;32m   1418\u001b[0m             \u001b[0;32mreturn\u001b[0m \u001b[0mpil_to_array\u001b[0m\u001b[0;34m(\u001b[0m\u001b[0mimage\u001b[0m\u001b[0;34m)\u001b[0m\u001b[0;34m\u001b[0m\u001b[0;34m\u001b[0m\u001b[0m\n\u001b[1;32m   1419\u001b[0m \u001b[0;34m\u001b[0m\u001b[0m\n",
            "\u001b[0;32m/usr/local/lib/python3.6/dist-packages/PIL/Image.py\u001b[0m in \u001b[0;36mopen\u001b[0;34m(fp, mode)\u001b[0m\n\u001b[1;32m   2764\u001b[0m \u001b[0;34m\u001b[0m\u001b[0m\n\u001b[1;32m   2765\u001b[0m     \u001b[0;32mif\u001b[0m \u001b[0mfilename\u001b[0m\u001b[0;34m:\u001b[0m\u001b[0;34m\u001b[0m\u001b[0;34m\u001b[0m\u001b[0m\n\u001b[0;32m-> 2766\u001b[0;31m         \u001b[0mfp\u001b[0m \u001b[0;34m=\u001b[0m \u001b[0mbuiltins\u001b[0m\u001b[0;34m.\u001b[0m\u001b[0mopen\u001b[0m\u001b[0;34m(\u001b[0m\u001b[0mfilename\u001b[0m\u001b[0;34m,\u001b[0m \u001b[0;34m\"rb\"\u001b[0m\u001b[0;34m)\u001b[0m\u001b[0;34m\u001b[0m\u001b[0;34m\u001b[0m\u001b[0m\n\u001b[0m\u001b[1;32m   2767\u001b[0m         \u001b[0mexclusive_fp\u001b[0m \u001b[0;34m=\u001b[0m \u001b[0;32mTrue\u001b[0m\u001b[0;34m\u001b[0m\u001b[0;34m\u001b[0m\u001b[0m\n\u001b[1;32m   2768\u001b[0m \u001b[0;34m\u001b[0m\u001b[0m\n",
            "\u001b[0;31mFileNotFoundError\u001b[0m: [Errno 2] No such file or directory: 'Self-Driving-Car/IMG/C:\\\\Users\\\\Win 10\\\\Desktop\\\\benign\\\\IMG\\\\center_2019_07_22_20_39_35_548.jpg'"
          ]
        }
      ]
    },
    {
      "cell_type": "code",
      "metadata": {
        "id": "UgIpwEXoUn0v",
        "colab_type": "code",
        "outputId": "b199a8af-a685-4cd0-baea-899c99024f2b",
        "colab": {
          "base_uri": "https://localhost:8080/",
          "height": 378
        }
      },
      "source": [
        "## Converted all the images into numpy array\n",
        "\n",
        "X_train = np.array(list(map(img_preprocess, X_train)))\n",
        "X_valid = np.array(list(map(img_preprocess, X_valid)))"
      ],
      "execution_count": 0,
      "outputs": [
        {
          "output_type": "error",
          "ename": "FileNotFoundError",
          "evalue": "ignored",
          "traceback": [
            "\u001b[0;31m---------------------------------------------------------------------------\u001b[0m",
            "\u001b[0;31mFileNotFoundError\u001b[0m                         Traceback (most recent call last)",
            "\u001b[0;32m<ipython-input-73-ce30c9bcf1f9>\u001b[0m in \u001b[0;36m<module>\u001b[0;34m()\u001b[0m\n\u001b[1;32m      1\u001b[0m \u001b[0;34m\u001b[0m\u001b[0m\n\u001b[0;32m----> 2\u001b[0;31m \u001b[0mX_train\u001b[0m \u001b[0;34m=\u001b[0m \u001b[0mnp\u001b[0m\u001b[0;34m.\u001b[0m\u001b[0marray\u001b[0m\u001b[0;34m(\u001b[0m\u001b[0mlist\u001b[0m\u001b[0;34m(\u001b[0m\u001b[0mmap\u001b[0m\u001b[0;34m(\u001b[0m\u001b[0mimg_preprocess\u001b[0m\u001b[0;34m,\u001b[0m \u001b[0mX_train\u001b[0m\u001b[0;34m)\u001b[0m\u001b[0;34m)\u001b[0m\u001b[0;34m)\u001b[0m\u001b[0;34m\u001b[0m\u001b[0;34m\u001b[0m\u001b[0m\n\u001b[0m\u001b[1;32m      3\u001b[0m \u001b[0mX_valid\u001b[0m \u001b[0;34m=\u001b[0m \u001b[0mnp\u001b[0m\u001b[0;34m.\u001b[0m\u001b[0marray\u001b[0m\u001b[0;34m(\u001b[0m\u001b[0mlist\u001b[0m\u001b[0;34m(\u001b[0m\u001b[0mmap\u001b[0m\u001b[0;34m(\u001b[0m\u001b[0mimg_preprocess\u001b[0m\u001b[0;34m,\u001b[0m \u001b[0mX_valid\u001b[0m\u001b[0;34m)\u001b[0m\u001b[0;34m)\u001b[0m\u001b[0;34m)\u001b[0m\u001b[0;34m\u001b[0m\u001b[0;34m\u001b[0m\u001b[0m\n",
            "\u001b[0;32m<ipython-input-69-d7ec786c23ce>\u001b[0m in \u001b[0;36mimg_preprocess\u001b[0;34m(img)\u001b[0m\n\u001b[1;32m      1\u001b[0m \u001b[0;32mdef\u001b[0m \u001b[0mimg_preprocess\u001b[0m\u001b[0;34m(\u001b[0m\u001b[0mimg\u001b[0m\u001b[0;34m)\u001b[0m\u001b[0;34m:\u001b[0m\u001b[0;34m\u001b[0m\u001b[0;34m\u001b[0m\u001b[0m\n\u001b[1;32m      2\u001b[0m   \u001b[0;34m\"\"\"Take in path of img, returns preprocessed image\"\"\"\u001b[0m\u001b[0;34m\u001b[0m\u001b[0;34m\u001b[0m\u001b[0m\n\u001b[0;32m----> 3\u001b[0;31m   \u001b[0mimg\u001b[0m \u001b[0;34m=\u001b[0m \u001b[0mnpimg\u001b[0m\u001b[0;34m.\u001b[0m\u001b[0mimread\u001b[0m\u001b[0;34m(\u001b[0m\u001b[0mimg\u001b[0m\u001b[0;34m)\u001b[0m\u001b[0;34m\u001b[0m\u001b[0;34m\u001b[0m\u001b[0m\n\u001b[0m\u001b[1;32m      4\u001b[0m \u001b[0;34m\u001b[0m\u001b[0m\n\u001b[1;32m      5\u001b[0m   \u001b[0;31m## Crop image to remove unnecessary features\u001b[0m\u001b[0;34m\u001b[0m\u001b[0;34m\u001b[0m\u001b[0;34m\u001b[0m\u001b[0m\n",
            "\u001b[0;32m/usr/local/lib/python3.6/dist-packages/matplotlib/image.py\u001b[0m in \u001b[0;36mimread\u001b[0;34m(fname, format)\u001b[0m\n\u001b[1;32m   1415\u001b[0m                              \u001b[0;34m'with Pillow installed matplotlib can handle '\u001b[0m\u001b[0;34m\u001b[0m\u001b[0;34m\u001b[0m\u001b[0m\n\u001b[1;32m   1416\u001b[0m                              'more images' % list(handlers))\n\u001b[0;32m-> 1417\u001b[0;31m         \u001b[0;32mwith\u001b[0m \u001b[0mImage\u001b[0m\u001b[0;34m.\u001b[0m\u001b[0mopen\u001b[0m\u001b[0;34m(\u001b[0m\u001b[0mfname\u001b[0m\u001b[0;34m)\u001b[0m \u001b[0;32mas\u001b[0m \u001b[0mimage\u001b[0m\u001b[0;34m:\u001b[0m\u001b[0;34m\u001b[0m\u001b[0;34m\u001b[0m\u001b[0m\n\u001b[0m\u001b[1;32m   1418\u001b[0m             \u001b[0;32mreturn\u001b[0m \u001b[0mpil_to_array\u001b[0m\u001b[0;34m(\u001b[0m\u001b[0mimage\u001b[0m\u001b[0;34m)\u001b[0m\u001b[0;34m\u001b[0m\u001b[0;34m\u001b[0m\u001b[0m\n\u001b[1;32m   1419\u001b[0m \u001b[0;34m\u001b[0m\u001b[0m\n",
            "\u001b[0;32m/usr/local/lib/python3.6/dist-packages/PIL/Image.py\u001b[0m in \u001b[0;36mopen\u001b[0;34m(fp, mode)\u001b[0m\n\u001b[1;32m   2764\u001b[0m \u001b[0;34m\u001b[0m\u001b[0m\n\u001b[1;32m   2765\u001b[0m     \u001b[0;32mif\u001b[0m \u001b[0mfilename\u001b[0m\u001b[0;34m:\u001b[0m\u001b[0;34m\u001b[0m\u001b[0;34m\u001b[0m\u001b[0m\n\u001b[0;32m-> 2766\u001b[0;31m         \u001b[0mfp\u001b[0m \u001b[0;34m=\u001b[0m \u001b[0mbuiltins\u001b[0m\u001b[0;34m.\u001b[0m\u001b[0mopen\u001b[0m\u001b[0;34m(\u001b[0m\u001b[0mfilename\u001b[0m\u001b[0;34m,\u001b[0m \u001b[0;34m\"rb\"\u001b[0m\u001b[0;34m)\u001b[0m\u001b[0;34m\u001b[0m\u001b[0;34m\u001b[0m\u001b[0m\n\u001b[0m\u001b[1;32m   2767\u001b[0m         \u001b[0mexclusive_fp\u001b[0m \u001b[0;34m=\u001b[0m \u001b[0;32mTrue\u001b[0m\u001b[0;34m\u001b[0m\u001b[0;34m\u001b[0m\u001b[0m\n\u001b[1;32m   2768\u001b[0m \u001b[0;34m\u001b[0m\u001b[0m\n",
            "\u001b[0;31mFileNotFoundError\u001b[0m: [Errno 2] No such file or directory: 'Self-Driving-Car/IMG/C:\\\\Users\\\\Win 10\\\\Desktop\\\\benign\\\\IMG\\\\center_2019_07_22_20_38_22_360.jpg'"
          ]
        }
      ]
    },
    {
      "cell_type": "code",
      "metadata": {
        "id": "N8NAB6mdWAMd",
        "colab_type": "code",
        "colab": {
          "base_uri": "https://localhost:8080/",
          "height": 1000
        },
        "outputId": "86b0a523-074f-4830-d178-273e5a865ed7"
      },
      "source": [
        "## Build the model. I have used ResNet as the pre-trained weights. I have removed the last 4 layers to make my own custom neural network.\n",
        "\n",
        "from keras.applications import ResNet50\n",
        "#Load the ResNet50 model\n",
        "resnet = ResNet50(weights='imagenet', include_top=False, input_shape=(100, 100, 3))\n",
        "\n",
        "#I have removed the last 4 layers to make my own custom neural network.\n",
        "# Freeze the layers except the last 4 layers\n",
        "for layer in resnet.layers[:-4]:\n",
        "    layer.trainable = False\n",
        " \n",
        "for layer in resnet.layers:\n",
        "    print(layer, layer.trainable)"
      ],
      "execution_count": 74,
      "outputs": [
        {
          "output_type": "stream",
          "text": [
            "WARNING:tensorflow:From /usr/local/lib/python3.6/dist-packages/keras/backend/tensorflow_backend.py:66: The name tf.get_default_graph is deprecated. Please use tf.compat.v1.get_default_graph instead.\n",
            "\n",
            "WARNING:tensorflow:From /usr/local/lib/python3.6/dist-packages/keras/backend/tensorflow_backend.py:541: The name tf.placeholder is deprecated. Please use tf.compat.v1.placeholder instead.\n",
            "\n",
            "WARNING:tensorflow:From /usr/local/lib/python3.6/dist-packages/keras/backend/tensorflow_backend.py:4479: The name tf.truncated_normal is deprecated. Please use tf.random.truncated_normal instead.\n",
            "\n",
            "WARNING:tensorflow:From /usr/local/lib/python3.6/dist-packages/keras/backend/tensorflow_backend.py:190: The name tf.get_default_session is deprecated. Please use tf.compat.v1.get_default_session instead.\n",
            "\n",
            "WARNING:tensorflow:From /usr/local/lib/python3.6/dist-packages/keras/backend/tensorflow_backend.py:197: The name tf.ConfigProto is deprecated. Please use tf.compat.v1.ConfigProto instead.\n",
            "\n",
            "WARNING:tensorflow:From /usr/local/lib/python3.6/dist-packages/keras/backend/tensorflow_backend.py:203: The name tf.Session is deprecated. Please use tf.compat.v1.Session instead.\n",
            "\n",
            "WARNING:tensorflow:From /usr/local/lib/python3.6/dist-packages/keras/backend/tensorflow_backend.py:207: The name tf.global_variables is deprecated. Please use tf.compat.v1.global_variables instead.\n",
            "\n",
            "WARNING:tensorflow:From /usr/local/lib/python3.6/dist-packages/keras/backend/tensorflow_backend.py:216: The name tf.is_variable_initialized is deprecated. Please use tf.compat.v1.is_variable_initialized instead.\n",
            "\n",
            "WARNING:tensorflow:From /usr/local/lib/python3.6/dist-packages/keras/backend/tensorflow_backend.py:223: The name tf.variables_initializer is deprecated. Please use tf.compat.v1.variables_initializer instead.\n",
            "\n",
            "WARNING:tensorflow:From /usr/local/lib/python3.6/dist-packages/keras/backend/tensorflow_backend.py:2041: The name tf.nn.fused_batch_norm is deprecated. Please use tf.compat.v1.nn.fused_batch_norm instead.\n",
            "\n",
            "WARNING:tensorflow:From /usr/local/lib/python3.6/dist-packages/keras/backend/tensorflow_backend.py:148: The name tf.placeholder_with_default is deprecated. Please use tf.compat.v1.placeholder_with_default instead.\n",
            "\n",
            "WARNING:tensorflow:From /usr/local/lib/python3.6/dist-packages/keras/backend/tensorflow_backend.py:4267: The name tf.nn.max_pool is deprecated. Please use tf.nn.max_pool2d instead.\n",
            "\n"
          ],
          "name": "stdout"
        },
        {
          "output_type": "stream",
          "text": [
            "/usr/local/lib/python3.6/dist-packages/keras_applications/resnet50.py:265: UserWarning: The output shape of `ResNet50(include_top=False)` has been changed since Keras 2.2.0.\n",
            "  warnings.warn('The output shape of `ResNet50(include_top=False)` '\n"
          ],
          "name": "stderr"
        },
        {
          "output_type": "stream",
          "text": [
            "Downloading data from https://github.com/fchollet/deep-learning-models/releases/download/v0.2/resnet50_weights_tf_dim_ordering_tf_kernels_notop.h5\n",
            "94658560/94653016 [==============================] - 2s 0us/step\n",
            "<keras.engine.input_layer.InputLayer object at 0x7f16df4d8588> False\n",
            "<keras.layers.convolutional.ZeroPadding2D object at 0x7f16df4d8828> False\n",
            "<keras.layers.convolutional.Conv2D object at 0x7f16df4d89b0> False\n",
            "<keras.layers.normalization.BatchNormalization object at 0x7f16df4ee7f0> False\n",
            "<keras.layers.core.Activation object at 0x7f16df4eedd8> False\n",
            "<keras.layers.convolutional.ZeroPadding2D object at 0x7f16df4fa828> False\n",
            "<keras.layers.pooling.MaxPooling2D object at 0x7f16d9205b00> False\n",
            "<keras.layers.convolutional.Conv2D object at 0x7f16d9227e80> False\n",
            "<keras.layers.normalization.BatchNormalization object at 0x7f16d922f2e8> False\n",
            "<keras.layers.core.Activation object at 0x7f16d922ff60> False\n",
            "<keras.layers.convolutional.Conv2D object at 0x7f16d92374e0> False\n",
            "<keras.layers.normalization.BatchNormalization object at 0x7f16d91f1390> False\n",
            "<keras.layers.core.Activation object at 0x7f16d91f1320> False\n",
            "<keras.layers.convolutional.Conv2D object at 0x7f16d91f9ef0> False\n",
            "<keras.layers.convolutional.Conv2D object at 0x7f16d91b4320> False\n",
            "<keras.layers.normalization.BatchNormalization object at 0x7f16d91b4390> False\n",
            "<keras.layers.normalization.BatchNormalization object at 0x7f16d917d2e8> False\n",
            "<keras.layers.merge.Add object at 0x7f16d917d208> False\n",
            "<keras.layers.core.Activation object at 0x7f16d913af60> False\n",
            "<keras.layers.convolutional.Conv2D object at 0x7f16d911ec50> False\n",
            "<keras.layers.normalization.BatchNormalization object at 0x7f16d90c1b70> False\n",
            "<keras.layers.core.Activation object at 0x7f16d90c9e80> False\n",
            "<keras.layers.convolutional.Conv2D object at 0x7f16d90c9f28> False\n",
            "<keras.layers.normalization.BatchNormalization object at 0x7f16d9087438> False\n",
            "<keras.layers.core.Activation object at 0x7f16d9091f60> False\n",
            "<keras.layers.convolutional.Conv2D object at 0x7f16d90974e0> False\n",
            "<keras.layers.normalization.BatchNormalization object at 0x7f16d904f4a8> False\n",
            "<keras.layers.merge.Add object at 0x7f16d9057dd8> False\n",
            "<keras.layers.core.Activation object at 0x7f16d9069f98> False\n",
            "<keras.layers.convolutional.Conv2D object at 0x7f16d90085f8> False\n",
            "<keras.layers.normalization.BatchNormalization object at 0x7f16d9014ef0> False\n",
            "<keras.layers.core.Activation object at 0x7f16d901ef60> False\n",
            "<keras.layers.convolutional.Conv2D object at 0x7f16d9025780> False\n",
            "<keras.layers.normalization.BatchNormalization object at 0x7f16d8fdc780> False\n",
            "<keras.layers.core.Activation object at 0x7f16d8fdc710> False\n",
            "<keras.layers.convolutional.Conv2D object at 0x7f16d8fed2b0> False\n",
            "<keras.layers.normalization.BatchNormalization object at 0x7f16d8fa47f0> False\n",
            "<keras.layers.merge.Add object at 0x7f16d8fa4780> False\n",
            "<keras.layers.core.Activation object at 0x7f16d8fbfd30> False\n",
            "<keras.layers.convolutional.Conv2D object at 0x7f16d8f47e48> False\n",
            "<keras.layers.normalization.BatchNormalization object at 0x7f16d8f6be48> False\n",
            "<keras.layers.core.Activation object at 0x7f16d8f716a0> False\n",
            "<keras.layers.convolutional.Conv2D object at 0x7f16d8f782e8> False\n",
            "<keras.layers.normalization.BatchNormalization object at 0x7f16d8f30a20> False\n",
            "<keras.layers.core.Activation object at 0x7f16d8f30f98> False\n",
            "<keras.layers.convolutional.Conv2D object at 0x7f16d8f3e358> False\n",
            "<keras.layers.convolutional.Conv2D object at 0x7f16d8efd0b8> False\n",
            "<keras.layers.normalization.BatchNormalization object at 0x7f16d8ef6a90> False\n",
            "<keras.layers.normalization.BatchNormalization object at 0x7f16d8ebfa90> False\n",
            "<keras.layers.merge.Add object at 0x7f16d8ebfba8> False\n",
            "<keras.layers.core.Activation object at 0x7f16d8e5ce10> False\n",
            "<keras.layers.convolutional.Conv2D object at 0x7f16d8e63f98> False\n",
            "<keras.layers.normalization.BatchNormalization object at 0x7f16d8e06f98> False\n",
            "<keras.layers.core.Activation object at 0x7f16d8e0f7b8> False\n",
            "<keras.layers.convolutional.Conv2D object at 0x7f16d8e143c8> False\n",
            "<keras.layers.normalization.BatchNormalization object at 0x7f16d8dceb38> False\n",
            "<keras.layers.core.Activation object at 0x7f16d8dd5080> False\n",
            "<keras.layers.convolutional.Conv2D object at 0x7f16d8ddb470> False\n",
            "<keras.layers.normalization.BatchNormalization object at 0x7f16d8d96ba8> False\n",
            "<keras.layers.merge.Add object at 0x7f16d8d9c0f0> False\n",
            "<keras.layers.core.Activation object at 0x7f16d8db2860> False\n",
            "<keras.layers.convolutional.Conv2D object at 0x7f16d8db2eb8> False\n",
            "<keras.layers.normalization.BatchNormalization object at 0x7f16d8d647f0> False\n",
            "<keras.layers.core.Activation object at 0x7f16d8d64b00> False\n",
            "<keras.layers.convolutional.Conv2D object at 0x7f16d8d69780> False\n",
            "<keras.layers.normalization.BatchNormalization object at 0x7f16d8d22e80> False\n",
            "<keras.layers.core.Activation object at 0x7f16d8d28390> False\n",
            "<keras.layers.convolutional.Conv2D object at 0x7f16d8d307b8> False\n",
            "<keras.layers.normalization.BatchNormalization object at 0x7f16d8ce8eb8> False\n",
            "<keras.layers.merge.Add object at 0x7f16d8cee400> False\n",
            "<keras.layers.core.Activation object at 0x7f16d8c83d68> False\n",
            "<keras.layers.convolutional.Conv2D object at 0x7f16d8ca7128> False\n",
            "<keras.layers.normalization.BatchNormalization object at 0x7f16e2699320> False\n",
            "<keras.layers.core.Activation object at 0x7f16df631a20> False\n",
            "<keras.layers.convolutional.Conv2D object at 0x7f16df71d550> False\n",
            "<keras.layers.normalization.BatchNormalization object at 0x7f16df742da0> False\n",
            "<keras.layers.core.Activation object at 0x7f16e2822400> False\n",
            "<keras.layers.convolutional.Conv2D object at 0x7f16e28146d8> False\n",
            "<keras.layers.normalization.BatchNormalization object at 0x7f16e240ec18> False\n",
            "<keras.layers.merge.Add object at 0x7f16e240ed68> False\n",
            "<keras.layers.core.Activation object at 0x7f16e2474e48> False\n",
            "<keras.layers.convolutional.Conv2D object at 0x7f16df9e1908> False\n",
            "<keras.layers.normalization.BatchNormalization object at 0x7f16dfb31e10> False\n",
            "<keras.layers.core.Activation object at 0x7f16dfb313c8> False\n",
            "<keras.layers.convolutional.Conv2D object at 0x7f16e28131d0> False\n",
            "<keras.layers.normalization.BatchNormalization object at 0x7f16df743780> False\n",
            "<keras.layers.core.Activation object at 0x7f16df743710> False\n",
            "<keras.layers.convolutional.Conv2D object at 0x7f16df7352b0> False\n",
            "<keras.layers.convolutional.Conv2D object at 0x7f16d8c52780> False\n",
            "<keras.layers.normalization.BatchNormalization object at 0x7f16d8c527f0> False\n",
            "<keras.layers.normalization.BatchNormalization object at 0x7f16d8c09e48> False\n",
            "<keras.layers.merge.Add object at 0x7f16d8c09f60> False\n",
            "<keras.layers.core.Activation object at 0x7f16d8c20898> False\n",
            "<keras.layers.convolutional.Conv2D object at 0x7f16d8c20ef0> False\n",
            "<keras.layers.normalization.BatchNormalization object at 0x7f16d8bcdf28> False\n",
            "<keras.layers.core.Activation object at 0x7f16d8bd6eb8> False\n",
            "<keras.layers.convolutional.Conv2D object at 0x7f16d8bdc6d8> False\n",
            "<keras.layers.normalization.BatchNormalization object at 0x7f16d8b926d8> False\n",
            "<keras.layers.core.Activation object at 0x7f16d8b92668> False\n",
            "<keras.layers.convolutional.Conv2D object at 0x7f16d8ba0198> False\n",
            "<keras.layers.normalization.BatchNormalization object at 0x7f16d8b57710> False\n",
            "<keras.layers.merge.Add object at 0x7f16d8b576a0> False\n",
            "<keras.layers.core.Activation object at 0x7f16d8b73c88> False\n",
            "<keras.layers.convolutional.Conv2D object at 0x7f16d8b78da0> False\n",
            "<keras.layers.normalization.BatchNormalization object at 0x7f16d8b209e8> False\n",
            "<keras.layers.core.Activation object at 0x7f16d8b20cf8> False\n",
            "<keras.layers.convolutional.Conv2D object at 0x7f16d8b28b38> False\n",
            "<keras.layers.normalization.BatchNormalization object at 0x7f16d8ae5198> False\n",
            "<keras.layers.core.Activation object at 0x7f16d8ae50f0> False\n",
            "<keras.layers.convolutional.Conv2D object at 0x7f16d8aecba8> False\n",
            "<keras.layers.normalization.BatchNormalization object at 0x7f16d8aa81d0> False\n",
            "<keras.layers.merge.Add object at 0x7f16d8aa8160> False\n",
            "<keras.layers.core.Activation object at 0x7f16d8abea20> False\n",
            "<keras.layers.convolutional.Conv2D object at 0x7f16d8a626a0> False\n",
            "<keras.layers.normalization.BatchNormalization object at 0x7f16d8a6ffd0> False\n",
            "<keras.layers.core.Activation object at 0x7f16d8a75780> False\n",
            "<keras.layers.convolutional.Conv2D object at 0x7f16d8a7e3c8> False\n",
            "<keras.layers.normalization.BatchNormalization object at 0x7f16d8a35b00> False\n",
            "<keras.layers.core.Activation object at 0x7f16d8a39048> False\n",
            "<keras.layers.convolutional.Conv2D object at 0x7f16d89c1438> False\n",
            "<keras.layers.normalization.BatchNormalization object at 0x7f16d89f9b70> False\n",
            "<keras.layers.merge.Add object at 0x7f16d89fe0b8> False\n",
            "<keras.layers.core.Activation object at 0x7f16d8993828> False\n",
            "<keras.layers.convolutional.Conv2D object at 0x7f16d8993fd0> False\n",
            "<keras.layers.normalization.BatchNormalization object at 0x7f16d8944a58> False\n",
            "<keras.layers.core.Activation object at 0x7f16d894bdd8> False\n",
            "<keras.layers.convolutional.Conv2D object at 0x7f16d8950630> False\n",
            "<keras.layers.normalization.BatchNormalization object at 0x7f16d8909630> False\n",
            "<keras.layers.core.Activation object at 0x7f16d89095c0> False\n",
            "<keras.layers.convolutional.Conv2D object at 0x7f16d89160b8> False\n",
            "<keras.layers.normalization.BatchNormalization object at 0x7f16d88cd6a0> False\n",
            "<keras.layers.merge.Add object at 0x7f16d88d4ef0> False\n",
            "<keras.layers.core.Activation object at 0x7f16d88e9fd0> False\n",
            "<keras.layers.convolutional.Conv2D object at 0x7f16d88efcf8> False\n",
            "<keras.layers.normalization.BatchNormalization object at 0x7f16d8897940> False\n",
            "<keras.layers.core.Activation object at 0x7f16d8897c50> False\n",
            "<keras.layers.convolutional.Conv2D object at 0x7f16d88a0a90> False\n",
            "<keras.layers.normalization.BatchNormalization object at 0x7f16d8856f28> False\n",
            "<keras.layers.core.Activation object at 0x7f16d885c048> False\n",
            "<keras.layers.convolutional.Conv2D object at 0x7f16d8864cc0> False\n",
            "<keras.layers.normalization.BatchNormalization object at 0x7f16d8821128> False\n",
            "<keras.layers.merge.Add object at 0x7f16d88210b8> False\n",
            "<keras.layers.core.Activation object at 0x7f16d883cf98> False\n",
            "<keras.layers.convolutional.Conv2D object at 0x7f16d87d75f8> False\n",
            "<keras.layers.normalization.BatchNormalization object at 0x7f16d87e4ef0> False\n",
            "<keras.layers.core.Activation object at 0x7f16d87eb6d8> False\n",
            "<keras.layers.convolutional.Conv2D object at 0x7f16d87f12b0> False\n",
            "<keras.layers.normalization.BatchNormalization object at 0x7f16d87a7a58> False\n",
            "<keras.layers.core.Activation object at 0x7f16d87ae0f0> False\n",
            "<keras.layers.convolutional.Conv2D object at 0x7f16d87b5390> False\n",
            "<keras.layers.convolutional.Conv2D object at 0x7f16d87760b8> False\n",
            "<keras.layers.normalization.BatchNormalization object at 0x7f16d876dac8> False\n",
            "<keras.layers.normalization.BatchNormalization object at 0x7f16d8739208> False\n",
            "<keras.layers.merge.Add object at 0x7f16d8739128> False\n",
            "<keras.layers.core.Activation object at 0x7f16d86dafd0> False\n",
            "<keras.layers.convolutional.Conv2D object at 0x7f16d86f5518> False\n",
            "<keras.layers.normalization.BatchNormalization object at 0x7f16d8700e10> False\n",
            "<keras.layers.core.Activation object at 0x7f16d8688630> False\n",
            "<keras.layers.convolutional.Conv2D object at 0x7f16d8692240> False\n",
            "<keras.layers.normalization.BatchNormalization object at 0x7f16d8644a58> False\n",
            "<keras.layers.core.Activation object at 0x7f16d86449e8> False\n",
            "<keras.layers.convolutional.Conv2D object at 0x7f16d86592e8> False\n",
            "<keras.layers.normalization.BatchNormalization object at 0x7f16d860fa20> False\n",
            "<keras.layers.merge.Add object at 0x7f16d860ff98> False\n",
            "<keras.layers.core.Activation object at 0x7f16d862c6d8> False\n",
            "<keras.layers.convolutional.Conv2D object at 0x7f16d862cfd0> False\n",
            "<keras.layers.normalization.BatchNormalization object at 0x7f16d85ddd68> False\n",
            "<keras.layers.core.Activation object at 0x7f16d85e6f98> False\n",
            "<keras.layers.convolutional.Conv2D object at 0x7f16d85eb518> False\n",
            "<keras.layers.normalization.BatchNormalization object at 0x7f16d85a34e0> False\n",
            "<keras.layers.core.Activation object at 0x7f16d85b2588> False\n",
            "<keras.layers.convolutional.Conv2D object at 0x7f16d85c0f98> True\n",
            "<keras.layers.normalization.BatchNormalization object at 0x7f16d8569550> True\n",
            "<keras.layers.merge.Add object at 0x7f16d8572dd8> True\n",
            "<keras.layers.core.Activation object at 0x7f16d8507f98> True\n"
          ],
          "name": "stdout"
        }
      ]
    },
    {
      "cell_type": "code",
      "metadata": {
        "id": "yWsArS5SW-Z6",
        "colab_type": "code",
        "colab": {}
      },
      "source": [
        "def nvidia_model():\n",
        "  model = Sequential()\n",
        "  \n",
        "  model.add(resnet)#pre-trained model\n",
        "\n",
        "  model.add(Dropout(0.5))\n",
        "  \n",
        "  model.add(Flatten()) # On top of the heavy resnet architecture, I have used the flatten layer to normalize the weights. \n",
        "  \n",
        "  model.add(Dense(100, activation='elu')) #three dense layers with 100, 50 and 10 neurons\n",
        "  model.add(Dropout(0.5)) #50% dropouts to reduce over-fitting the values to the training set.\n",
        "  \n",
        "  model.add(Dense(50, activation='elu'))# elu as the activation function\n",
        "  model.add(Dropout(0.5))\n",
        "  \n",
        "  model.add(Dense(10, activation='elu'))\n",
        "  model.add(Dropout(0.5))\n",
        "  \n",
        "  model.add(Dense(1))\n",
        "  \n",
        "  optimizer = Adam(lr=1e-3)\n",
        "  model.compile(loss='mse', optimizer=optimizer, metrics=['accuracy'])\n",
        "  return model"
      ],
      "execution_count": 0,
      "outputs": []
    },
    {
      "cell_type": "code",
      "metadata": {
        "id": "TcLViaNqXUjM",
        "colab_type": "code",
        "colab": {
          "base_uri": "https://localhost:8080/",
          "height": 691
        },
        "outputId": "17fcd3e3-5723-4002-89ba-04be8f069fcd"
      },
      "source": [
        "model = nvidia_model()\n",
        "print(model.summary())"
      ],
      "execution_count": 76,
      "outputs": [
        {
          "output_type": "stream",
          "text": [
            "WARNING:tensorflow:From /usr/local/lib/python3.6/dist-packages/keras/backend/tensorflow_backend.py:3733: calling dropout (from tensorflow.python.ops.nn_ops) with keep_prob is deprecated and will be removed in a future version.\n",
            "Instructions for updating:\n",
            "Please use `rate` instead of `keep_prob`. Rate should be set to `rate = 1 - keep_prob`.\n",
            "WARNING:tensorflow:From /usr/local/lib/python3.6/dist-packages/keras/backend/tensorflow_backend.py:4432: The name tf.random_uniform is deprecated. Please use tf.random.uniform instead.\n",
            "\n",
            "WARNING:tensorflow:From /usr/local/lib/python3.6/dist-packages/keras/optimizers.py:793: The name tf.train.Optimizer is deprecated. Please use tf.compat.v1.train.Optimizer instead.\n",
            "\n",
            "Model: \"sequential_1\"\n",
            "_________________________________________________________________\n",
            "Layer (type)                 Output Shape              Param #   \n",
            "=================================================================\n",
            "resnet50 (Model)             (None, 4, 4, 2048)        23587712  \n",
            "_________________________________________________________________\n",
            "dropout_1 (Dropout)          (None, 4, 4, 2048)        0         \n",
            "_________________________________________________________________\n",
            "flatten_1 (Flatten)          (None, 32768)             0         \n",
            "_________________________________________________________________\n",
            "dense_1 (Dense)              (None, 100)               3276900   \n",
            "_________________________________________________________________\n",
            "dropout_2 (Dropout)          (None, 100)               0         \n",
            "_________________________________________________________________\n",
            "dense_2 (Dense)              (None, 50)                5050      \n",
            "_________________________________________________________________\n",
            "dropout_3 (Dropout)          (None, 50)                0         \n",
            "_________________________________________________________________\n",
            "dense_3 (Dense)              (None, 10)                510       \n",
            "_________________________________________________________________\n",
            "dropout_4 (Dropout)          (None, 10)                0         \n",
            "_________________________________________________________________\n",
            "dense_4 (Dense)              (None, 1)                 11        \n",
            "=================================================================\n",
            "Total params: 26,870,183\n",
            "Trainable params: 4,337,191\n",
            "Non-trainable params: 22,532,992\n",
            "_________________________________________________________________\n",
            "None\n"
          ],
          "name": "stdout"
        }
      ]
    },
    {
      "cell_type": "code",
      "metadata": {
        "id": "69QvX7JmXeS7",
        "colab_type": "code",
        "colab": {
          "base_uri": "https://localhost:8080/",
          "height": 322
        },
        "outputId": "2380c4de-ad82-4f2e-b172-87ced765e3cb"
      },
      "source": [
        "history = model.fit(X_train, Y_train, epochs=25, validation_data=(X_valid, Y_valid), batch_size=128, verbose=1, shuffle=1)"
      ],
      "execution_count": 77,
      "outputs": [
        {
          "output_type": "error",
          "ename": "ValueError",
          "evalue": "ignored",
          "traceback": [
            "\u001b[0;31m---------------------------------------------------------------------------\u001b[0m",
            "\u001b[0;31mValueError\u001b[0m                                Traceback (most recent call last)",
            "\u001b[0;32m<ipython-input-77-adb48fcf6b91>\u001b[0m in \u001b[0;36m<module>\u001b[0;34m()\u001b[0m\n\u001b[0;32m----> 1\u001b[0;31m \u001b[0mhistory\u001b[0m \u001b[0;34m=\u001b[0m \u001b[0mmodel\u001b[0m\u001b[0;34m.\u001b[0m\u001b[0mfit\u001b[0m\u001b[0;34m(\u001b[0m\u001b[0mX_train\u001b[0m\u001b[0;34m,\u001b[0m \u001b[0mY_train\u001b[0m\u001b[0;34m,\u001b[0m \u001b[0mepochs\u001b[0m\u001b[0;34m=\u001b[0m\u001b[0;36m25\u001b[0m\u001b[0;34m,\u001b[0m \u001b[0mvalidation_data\u001b[0m\u001b[0;34m=\u001b[0m\u001b[0;34m(\u001b[0m\u001b[0mX_valid\u001b[0m\u001b[0;34m,\u001b[0m \u001b[0mY_valid\u001b[0m\u001b[0;34m)\u001b[0m\u001b[0;34m,\u001b[0m \u001b[0mbatch_size\u001b[0m\u001b[0;34m=\u001b[0m\u001b[0;36m128\u001b[0m\u001b[0;34m,\u001b[0m \u001b[0mverbose\u001b[0m\u001b[0;34m=\u001b[0m\u001b[0;36m1\u001b[0m\u001b[0;34m,\u001b[0m \u001b[0mshuffle\u001b[0m\u001b[0;34m=\u001b[0m\u001b[0;36m1\u001b[0m\u001b[0;34m)\u001b[0m\u001b[0;34m\u001b[0m\u001b[0;34m\u001b[0m\u001b[0m\n\u001b[0m",
            "\u001b[0;32m/usr/local/lib/python3.6/dist-packages/keras/engine/training.py\u001b[0m in \u001b[0;36mfit\u001b[0;34m(self, x, y, batch_size, epochs, verbose, callbacks, validation_split, validation_data, shuffle, class_weight, sample_weight, initial_epoch, steps_per_epoch, validation_steps, validation_freq, max_queue_size, workers, use_multiprocessing, **kwargs)\u001b[0m\n\u001b[1;32m   1087\u001b[0m             \u001b[0msample_weight\u001b[0m\u001b[0;34m=\u001b[0m\u001b[0msample_weight\u001b[0m\u001b[0;34m,\u001b[0m\u001b[0;34m\u001b[0m\u001b[0;34m\u001b[0m\u001b[0m\n\u001b[1;32m   1088\u001b[0m             \u001b[0mclass_weight\u001b[0m\u001b[0;34m=\u001b[0m\u001b[0mclass_weight\u001b[0m\u001b[0;34m,\u001b[0m\u001b[0;34m\u001b[0m\u001b[0;34m\u001b[0m\u001b[0m\n\u001b[0;32m-> 1089\u001b[0;31m             batch_size=batch_size)\n\u001b[0m\u001b[1;32m   1090\u001b[0m \u001b[0;34m\u001b[0m\u001b[0m\n\u001b[1;32m   1091\u001b[0m         \u001b[0;31m# Prepare validation data.\u001b[0m\u001b[0;34m\u001b[0m\u001b[0;34m\u001b[0m\u001b[0;34m\u001b[0m\u001b[0m\n",
            "\u001b[0;32m/usr/local/lib/python3.6/dist-packages/keras/engine/training.py\u001b[0m in \u001b[0;36m_standardize_user_data\u001b[0;34m(self, x, y, sample_weight, class_weight, check_array_lengths, batch_size)\u001b[0m\n\u001b[1;32m    755\u001b[0m             \u001b[0mfeed_input_shapes\u001b[0m\u001b[0;34m,\u001b[0m\u001b[0;34m\u001b[0m\u001b[0;34m\u001b[0m\u001b[0m\n\u001b[1;32m    756\u001b[0m             \u001b[0mcheck_batch_axis\u001b[0m\u001b[0;34m=\u001b[0m\u001b[0;32mFalse\u001b[0m\u001b[0;34m,\u001b[0m  \u001b[0;31m# Don't enforce the batch size.\u001b[0m\u001b[0;34m\u001b[0m\u001b[0;34m\u001b[0m\u001b[0m\n\u001b[0;32m--> 757\u001b[0;31m             exception_prefix='input')\n\u001b[0m\u001b[1;32m    758\u001b[0m \u001b[0;34m\u001b[0m\u001b[0m\n\u001b[1;32m    759\u001b[0m         \u001b[0;32mif\u001b[0m \u001b[0my\u001b[0m \u001b[0;32mis\u001b[0m \u001b[0;32mnot\u001b[0m \u001b[0;32mNone\u001b[0m\u001b[0;34m:\u001b[0m\u001b[0;34m\u001b[0m\u001b[0;34m\u001b[0m\u001b[0m\n",
            "\u001b[0;32m/usr/local/lib/python3.6/dist-packages/keras/engine/training_utils.py\u001b[0m in \u001b[0;36mstandardize_input_data\u001b[0;34m(data, names, shapes, check_batch_axis, exception_prefix)\u001b[0m\n\u001b[1;32m    129\u001b[0m                         \u001b[0;34m': expected '\u001b[0m \u001b[0;34m+\u001b[0m \u001b[0mnames\u001b[0m\u001b[0;34m[\u001b[0m\u001b[0mi\u001b[0m\u001b[0;34m]\u001b[0m \u001b[0;34m+\u001b[0m \u001b[0;34m' to have '\u001b[0m \u001b[0;34m+\u001b[0m\u001b[0;34m\u001b[0m\u001b[0;34m\u001b[0m\u001b[0m\n\u001b[1;32m    130\u001b[0m                         \u001b[0mstr\u001b[0m\u001b[0;34m(\u001b[0m\u001b[0mlen\u001b[0m\u001b[0;34m(\u001b[0m\u001b[0mshape\u001b[0m\u001b[0;34m)\u001b[0m\u001b[0;34m)\u001b[0m \u001b[0;34m+\u001b[0m \u001b[0;34m' dimensions, but got array '\u001b[0m\u001b[0;34m\u001b[0m\u001b[0;34m\u001b[0m\u001b[0m\n\u001b[0;32m--> 131\u001b[0;31m                         'with shape ' + str(data_shape))\n\u001b[0m\u001b[1;32m    132\u001b[0m                 \u001b[0;32mif\u001b[0m \u001b[0;32mnot\u001b[0m \u001b[0mcheck_batch_axis\u001b[0m\u001b[0;34m:\u001b[0m\u001b[0;34m\u001b[0m\u001b[0;34m\u001b[0m\u001b[0m\n\u001b[1;32m    133\u001b[0m                     \u001b[0mdata_shape\u001b[0m \u001b[0;34m=\u001b[0m \u001b[0mdata_shape\u001b[0m\u001b[0;34m[\u001b[0m\u001b[0;36m1\u001b[0m\u001b[0;34m:\u001b[0m\u001b[0;34m]\u001b[0m\u001b[0;34m\u001b[0m\u001b[0;34m\u001b[0m\u001b[0m\n",
            "\u001b[0;31mValueError\u001b[0m: Error when checking input: expected resnet50_input to have 4 dimensions, but got array with shape (432, 1)"
          ]
        }
      ]
    },
    {
      "cell_type": "code",
      "metadata": {
        "id": "0yAn2tY2YPmY",
        "colab_type": "code",
        "colab": {
          "base_uri": "https://localhost:8080/",
          "height": 243
        },
        "outputId": "4b8b6a11-a8a8-4cfa-862d-587323d71d63"
      },
      "source": [
        "#Finally, I trained the model for 25 epochs with a batch size of 128. \n",
        "#Also, I plotted the training and the validation loss as a function of epochs.\n",
        "\n",
        "plt.plot(history.history['loss'])\n",
        "plt.plot(history.history['val_loss'])\n",
        "plt.legend(['training', 'validation'])\n",
        "plt.title('Loss')\n",
        "plt.xlabel('Epoch')"
      ],
      "execution_count": 79,
      "outputs": [
        {
          "output_type": "error",
          "ename": "NameError",
          "evalue": "ignored",
          "traceback": [
            "\u001b[0;31m---------------------------------------------------------------------------\u001b[0m",
            "\u001b[0;31mNameError\u001b[0m                                 Traceback (most recent call last)",
            "\u001b[0;32m<ipython-input-79-31aaed67083e>\u001b[0m in \u001b[0;36m<module>\u001b[0;34m()\u001b[0m\n\u001b[1;32m      1\u001b[0m \u001b[0;34m\u001b[0m\u001b[0m\n\u001b[0;32m----> 2\u001b[0;31m \u001b[0mplt\u001b[0m\u001b[0;34m.\u001b[0m\u001b[0mplot\u001b[0m\u001b[0;34m(\u001b[0m\u001b[0mhistory\u001b[0m\u001b[0;34m.\u001b[0m\u001b[0mhistory\u001b[0m\u001b[0;34m[\u001b[0m\u001b[0;34m'loss'\u001b[0m\u001b[0;34m]\u001b[0m\u001b[0;34m)\u001b[0m\u001b[0;34m\u001b[0m\u001b[0;34m\u001b[0m\u001b[0m\n\u001b[0m\u001b[1;32m      3\u001b[0m \u001b[0mplt\u001b[0m\u001b[0;34m.\u001b[0m\u001b[0mplot\u001b[0m\u001b[0;34m(\u001b[0m\u001b[0mhistory\u001b[0m\u001b[0;34m.\u001b[0m\u001b[0mhistory\u001b[0m\u001b[0;34m[\u001b[0m\u001b[0;34m'val_loss'\u001b[0m\u001b[0;34m]\u001b[0m\u001b[0;34m)\u001b[0m\u001b[0;34m\u001b[0m\u001b[0;34m\u001b[0m\u001b[0m\n\u001b[1;32m      4\u001b[0m \u001b[0mplt\u001b[0m\u001b[0;34m.\u001b[0m\u001b[0mlegend\u001b[0m\u001b[0;34m(\u001b[0m\u001b[0;34m[\u001b[0m\u001b[0;34m'training'\u001b[0m\u001b[0;34m,\u001b[0m \u001b[0;34m'validation'\u001b[0m\u001b[0;34m]\u001b[0m\u001b[0;34m)\u001b[0m\u001b[0;34m\u001b[0m\u001b[0;34m\u001b[0m\u001b[0m\n\u001b[1;32m      5\u001b[0m \u001b[0mplt\u001b[0m\u001b[0;34m.\u001b[0m\u001b[0mtitle\u001b[0m\u001b[0;34m(\u001b[0m\u001b[0;34m'Loss'\u001b[0m\u001b[0;34m)\u001b[0m\u001b[0;34m\u001b[0m\u001b[0;34m\u001b[0m\u001b[0m\n",
            "\u001b[0;31mNameError\u001b[0m: name 'history' is not defined"
          ]
        }
      ]
    },
    {
      "cell_type": "code",
      "metadata": {
        "id": "Pzl36i95YqQm",
        "colab_type": "code",
        "colab": {}
      },
      "source": [
        ""
      ],
      "execution_count": 0,
      "outputs": []
    }
  ]
}