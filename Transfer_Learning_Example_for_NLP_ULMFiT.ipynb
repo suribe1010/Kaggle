{
  "nbformat": 4,
  "nbformat_minor": 0,
  "metadata": {
    "colab": {
      "name": "Transfer Learning Example for NLP. ULMFiT.ipynb",
      "provenance": [],
      "authorship_tag": "ABX9TyMtK47oP0U0zp/D+6ow3NBY",
      "include_colab_link": true
    },
    "kernelspec": {
      "name": "python3",
      "display_name": "Python 3"
    },
    "accelerator": "GPU"
  },
  "cells": [
    {
      "cell_type": "markdown",
      "metadata": {
        "id": "view-in-github",
        "colab_type": "text"
      },
      "source": [
        "<a href=\"https://colab.research.google.com/github/suribe1010/Kaggle/blob/master/Transfer_Learning_Example_for_NLP_ULMFiT.ipynb\" target=\"_parent\"><img src=\"https://colab.research.google.com/assets/colab-badge.svg\" alt=\"Open In Colab\"/></a>"
      ]
    },
    {
      "cell_type": "code",
      "metadata": {
        "id": "H1g4VtLtdPaU",
        "colab_type": "code",
        "colab": {}
      },
      "source": [
        "!pip install -q torch==1.4.0 torchvision"
      ],
      "execution_count": 0,
      "outputs": []
    },
    {
      "cell_type": "code",
      "metadata": {
        "id": "x3SLZeuzehU4",
        "colab_type": "code",
        "colab": {
          "base_uri": "https://localhost:8080/",
          "height": 707
        },
        "outputId": "c839d8ac-331b-47a3-a3a5-d745591e75ea"
      },
      "source": [
        "!pip install fastai\n"
      ],
      "execution_count": 3,
      "outputs": [
        {
          "output_type": "stream",
          "text": [
            "Requirement already satisfied: fastai in /usr/local/lib/python3.6/dist-packages (1.0.60)\n",
            "Requirement already satisfied: torchvision in /usr/local/lib/python3.6/dist-packages (from fastai) (0.5.0)\n",
            "Requirement already satisfied: Pillow in /usr/local/lib/python3.6/dist-packages (from fastai) (6.2.2)\n",
            "Requirement already satisfied: beautifulsoup4 in /usr/local/lib/python3.6/dist-packages (from fastai) (4.6.3)\n",
            "Requirement already satisfied: matplotlib in /usr/local/lib/python3.6/dist-packages (from fastai) (3.1.3)\n",
            "Requirement already satisfied: numpy>=1.15 in /usr/local/lib/python3.6/dist-packages (from fastai) (1.17.5)\n",
            "Requirement already satisfied: torch>=1.0.0 in /usr/local/lib/python3.6/dist-packages (from fastai) (1.4.0)\n",
            "Requirement already satisfied: dataclasses; python_version < \"3.7\" in /usr/local/lib/python3.6/dist-packages (from fastai) (0.7)\n",
            "Requirement already satisfied: pyyaml in /usr/local/lib/python3.6/dist-packages (from fastai) (3.13)\n",
            "Requirement already satisfied: nvidia-ml-py3 in /usr/local/lib/python3.6/dist-packages (from fastai) (7.352.0)\n",
            "Requirement already satisfied: requests in /usr/local/lib/python3.6/dist-packages (from fastai) (2.21.0)\n",
            "Requirement already satisfied: pandas in /usr/local/lib/python3.6/dist-packages (from fastai) (0.25.3)\n",
            "Requirement already satisfied: spacy>=2.0.18 in /usr/local/lib/python3.6/dist-packages (from fastai) (2.1.9)\n",
            "Requirement already satisfied: fastprogress>=0.2.1 in /usr/local/lib/python3.6/dist-packages (from fastai) (0.2.2)\n",
            "Requirement already satisfied: packaging in /usr/local/lib/python3.6/dist-packages (from fastai) (20.1)\n",
            "Requirement already satisfied: numexpr in /usr/local/lib/python3.6/dist-packages (from fastai) (2.7.1)\n",
            "Requirement already satisfied: scipy in /usr/local/lib/python3.6/dist-packages (from fastai) (1.4.1)\n",
            "Requirement already satisfied: bottleneck in /usr/local/lib/python3.6/dist-packages (from fastai) (1.3.1)\n",
            "Requirement already satisfied: six in /usr/local/lib/python3.6/dist-packages (from torchvision->fastai) (1.12.0)\n",
            "Requirement already satisfied: kiwisolver>=1.0.1 in /usr/local/lib/python3.6/dist-packages (from matplotlib->fastai) (1.1.0)\n",
            "Requirement already satisfied: cycler>=0.10 in /usr/local/lib/python3.6/dist-packages (from matplotlib->fastai) (0.10.0)\n",
            "Requirement already satisfied: python-dateutil>=2.1 in /usr/local/lib/python3.6/dist-packages (from matplotlib->fastai) (2.6.1)\n",
            "Requirement already satisfied: pyparsing!=2.0.4,!=2.1.2,!=2.1.6,>=2.0.1 in /usr/local/lib/python3.6/dist-packages (from matplotlib->fastai) (2.4.6)\n",
            "Requirement already satisfied: urllib3<1.25,>=1.21.1 in /usr/local/lib/python3.6/dist-packages (from requests->fastai) (1.24.3)\n",
            "Requirement already satisfied: idna<2.9,>=2.5 in /usr/local/lib/python3.6/dist-packages (from requests->fastai) (2.8)\n",
            "Requirement already satisfied: certifi>=2017.4.17 in /usr/local/lib/python3.6/dist-packages (from requests->fastai) (2019.11.28)\n",
            "Requirement already satisfied: chardet<3.1.0,>=3.0.2 in /usr/local/lib/python3.6/dist-packages (from requests->fastai) (3.0.4)\n",
            "Requirement already satisfied: pytz>=2017.2 in /usr/local/lib/python3.6/dist-packages (from pandas->fastai) (2018.9)\n",
            "Requirement already satisfied: thinc<7.1.0,>=7.0.8 in /usr/local/lib/python3.6/dist-packages (from spacy>=2.0.18->fastai) (7.0.8)\n",
            "Requirement already satisfied: cymem<2.1.0,>=2.0.2 in /usr/local/lib/python3.6/dist-packages (from spacy>=2.0.18->fastai) (2.0.3)\n",
            "Requirement already satisfied: murmurhash<1.1.0,>=0.28.0 in /usr/local/lib/python3.6/dist-packages (from spacy>=2.0.18->fastai) (1.0.2)\n",
            "Requirement already satisfied: wasabi<1.1.0,>=0.2.0 in /usr/local/lib/python3.6/dist-packages (from spacy>=2.0.18->fastai) (0.6.0)\n",
            "Requirement already satisfied: preshed<2.1.0,>=2.0.1 in /usr/local/lib/python3.6/dist-packages (from spacy>=2.0.18->fastai) (2.0.1)\n",
            "Requirement already satisfied: srsly<1.1.0,>=0.0.6 in /usr/local/lib/python3.6/dist-packages (from spacy>=2.0.18->fastai) (1.0.1)\n",
            "Requirement already satisfied: blis<0.3.0,>=0.2.2 in /usr/local/lib/python3.6/dist-packages (from spacy>=2.0.18->fastai) (0.2.4)\n",
            "Requirement already satisfied: plac<1.0.0,>=0.9.6 in /usr/local/lib/python3.6/dist-packages (from spacy>=2.0.18->fastai) (0.9.6)\n",
            "Requirement already satisfied: setuptools in /usr/local/lib/python3.6/dist-packages (from kiwisolver>=1.0.1->matplotlib->fastai) (45.1.0)\n",
            "Requirement already satisfied: tqdm<5.0.0,>=4.10.0 in /usr/local/lib/python3.6/dist-packages (from thinc<7.1.0,>=7.0.8->spacy>=2.0.18->fastai) (4.28.1)\n"
          ],
          "name": "stdout"
        }
      ]
    },
    {
      "cell_type": "code",
      "metadata": {
        "id": "-uAZqnzYhOFu",
        "colab_type": "code",
        "colab": {}
      },
      "source": [
        "import fastai\n",
        "from fastai import *\n",
        "from fastai.text import *\n",
        "import pandas as pd\n",
        "import numpy as np\n",
        "from functools import partial\n",
        "import io\n",
        "import os\n"
      ],
      "execution_count": 0,
      "outputs": []
    },
    {
      "cell_type": "code",
      "metadata": {
        "id": "UguOCSvjhQtA",
        "colab_type": "code",
        "colab": {
          "base_uri": "https://localhost:8080/",
          "height": 53
        },
        "outputId": "3b199f7c-7606-47ee-db16-741b2293bba6"
      },
      "source": [
        "from sklearn.datasets import fetch_20newsgroups\n",
        "dataset = fetch_20newsgroups(shuffle=True, random_state=1, remove=('headers','footers', 'quotes'))"
      ],
      "execution_count": 5,
      "outputs": [
        {
          "output_type": "stream",
          "text": [
            "Downloading 20news dataset. This may take a few minutes.\n",
            "Downloading dataset from https://ndownloader.figshare.com/files/5975967 (14 MB)\n"
          ],
          "name": "stderr"
        }
      ]
    },
    {
      "cell_type": "code",
      "metadata": {
        "id": "ZdF9RzRDhmRj",
        "colab_type": "code",
        "colab": {}
      },
      "source": [
        "documents=dataset.data"
      ],
      "execution_count": 0,
      "outputs": []
    },
    {
      "cell_type": "code",
      "metadata": {
        "id": "y52vzK_Lh206",
        "colab_type": "code",
        "colab": {}
      },
      "source": [
        ""
      ],
      "execution_count": 0,
      "outputs": []
    },
    {
      "cell_type": "code",
      "metadata": {
        "id": "y5REZ08Eh4D3",
        "colab_type": "code",
        "colab": {
          "base_uri": "https://localhost:8080/",
          "height": 424
        },
        "outputId": "363c122c-ffae-4765-a1de-55983febf207"
      },
      "source": [
        "df = pd.DataFrame({'label': dataset.target, 'text': dataset.data})\n",
        "df"
      ],
      "execution_count": 7,
      "outputs": [
        {
          "output_type": "execute_result",
          "data": {
            "text/html": [
              "<div>\n",
              "<style scoped>\n",
              "    .dataframe tbody tr th:only-of-type {\n",
              "        vertical-align: middle;\n",
              "    }\n",
              "\n",
              "    .dataframe tbody tr th {\n",
              "        vertical-align: top;\n",
              "    }\n",
              "\n",
              "    .dataframe thead th {\n",
              "        text-align: right;\n",
              "    }\n",
              "</style>\n",
              "<table border=\"1\" class=\"dataframe\">\n",
              "  <thead>\n",
              "    <tr style=\"text-align: right;\">\n",
              "      <th></th>\n",
              "      <th>label</th>\n",
              "      <th>text</th>\n",
              "    </tr>\n",
              "  </thead>\n",
              "  <tbody>\n",
              "    <tr>\n",
              "      <th>0</th>\n",
              "      <td>17</td>\n",
              "      <td>Well i'm not sure about the story nad it did s...</td>\n",
              "    </tr>\n",
              "    <tr>\n",
              "      <th>1</th>\n",
              "      <td>0</td>\n",
              "      <td>\\n\\n\\n\\n\\n\\n\\nYeah, do you expect people to re...</td>\n",
              "    </tr>\n",
              "    <tr>\n",
              "      <th>2</th>\n",
              "      <td>17</td>\n",
              "      <td>Although I realize that principle is not one o...</td>\n",
              "    </tr>\n",
              "    <tr>\n",
              "      <th>3</th>\n",
              "      <td>11</td>\n",
              "      <td>Notwithstanding all the legitimate fuss about ...</td>\n",
              "    </tr>\n",
              "    <tr>\n",
              "      <th>4</th>\n",
              "      <td>10</td>\n",
              "      <td>Well, I will have to change the scoring on my ...</td>\n",
              "    </tr>\n",
              "    <tr>\n",
              "      <th>...</th>\n",
              "      <td>...</td>\n",
              "      <td>...</td>\n",
              "    </tr>\n",
              "    <tr>\n",
              "      <th>11309</th>\n",
              "      <td>17</td>\n",
              "      <td>Danny Rubenstein, an Israeli journalist, will ...</td>\n",
              "    </tr>\n",
              "    <tr>\n",
              "      <th>11310</th>\n",
              "      <td>13</td>\n",
              "      <td>\\n</td>\n",
              "    </tr>\n",
              "    <tr>\n",
              "      <th>11311</th>\n",
              "      <td>9</td>\n",
              "      <td>\\nI agree.  Home runs off Clemens are always m...</td>\n",
              "    </tr>\n",
              "    <tr>\n",
              "      <th>11312</th>\n",
              "      <td>4</td>\n",
              "      <td>I used HP DeskJet with Orange Micros Grappler ...</td>\n",
              "    </tr>\n",
              "    <tr>\n",
              "      <th>11313</th>\n",
              "      <td>9</td>\n",
              "      <td>^^^^^^\\n...</td>\n",
              "    </tr>\n",
              "  </tbody>\n",
              "</table>\n",
              "<p>11314 rows × 2 columns</p>\n",
              "</div>"
            ],
            "text/plain": [
              "       label                                               text\n",
              "0         17  Well i'm not sure about the story nad it did s...\n",
              "1          0  \\n\\n\\n\\n\\n\\n\\nYeah, do you expect people to re...\n",
              "2         17  Although I realize that principle is not one o...\n",
              "3         11  Notwithstanding all the legitimate fuss about ...\n",
              "4         10  Well, I will have to change the scoring on my ...\n",
              "...      ...                                                ...\n",
              "11309     17  Danny Rubenstein, an Israeli journalist, will ...\n",
              "11310     13                                                 \\n\n",
              "11311      9  \\nI agree.  Home runs off Clemens are always m...\n",
              "11312      4  I used HP DeskJet with Orange Micros Grappler ...\n",
              "11313      9                                        ^^^^^^\\n...\n",
              "\n",
              "[11314 rows x 2 columns]"
            ]
          },
          "metadata": {
            "tags": []
          },
          "execution_count": 7
        }
      ]
    },
    {
      "cell_type": "code",
      "metadata": {
        "id": "KGsz3drvl71-",
        "colab_type": "code",
        "colab": {
          "base_uri": "https://localhost:8080/",
          "height": 424
        },
        "outputId": "b3aa54ca-826d-401d-9e1c-26da7b04eb0c"
      },
      "source": [
        "df = df[df['label'].isin([1,10])] \n",
        "df"
      ],
      "execution_count": 8,
      "outputs": [
        {
          "output_type": "execute_result",
          "data": {
            "text/html": [
              "<div>\n",
              "<style scoped>\n",
              "    .dataframe tbody tr th:only-of-type {\n",
              "        vertical-align: middle;\n",
              "    }\n",
              "\n",
              "    .dataframe tbody tr th {\n",
              "        vertical-align: top;\n",
              "    }\n",
              "\n",
              "    .dataframe thead th {\n",
              "        text-align: right;\n",
              "    }\n",
              "</style>\n",
              "<table border=\"1\" class=\"dataframe\">\n",
              "  <thead>\n",
              "    <tr style=\"text-align: right;\">\n",
              "      <th></th>\n",
              "      <th>label</th>\n",
              "      <th>text</th>\n",
              "    </tr>\n",
              "  </thead>\n",
              "  <tbody>\n",
              "    <tr>\n",
              "      <th>4</th>\n",
              "      <td>10</td>\n",
              "      <td>Well, I will have to change the scoring on my ...</td>\n",
              "    </tr>\n",
              "    <tr>\n",
              "      <th>10</th>\n",
              "      <td>1</td>\n",
              "      <td>Archive-name: graphics/resources-list/part1\\nL...</td>\n",
              "    </tr>\n",
              "    <tr>\n",
              "      <th>17</th>\n",
              "      <td>10</td>\n",
              "      <td>\\nAnd of course, Mike Ramsey was (at one time)...</td>\n",
              "    </tr>\n",
              "    <tr>\n",
              "      <th>24</th>\n",
              "      <td>10</td>\n",
              "      <td>As I promised, I would give you the name of th...</td>\n",
              "    </tr>\n",
              "    <tr>\n",
              "      <th>28</th>\n",
              "      <td>10</td>\n",
              "      <td>GAME(S) OF 4/15\\n---------------\\nADIRONDACK 6...</td>\n",
              "    </tr>\n",
              "    <tr>\n",
              "      <th>...</th>\n",
              "      <td>...</td>\n",
              "      <td>...</td>\n",
              "    </tr>\n",
              "    <tr>\n",
              "      <th>11248</th>\n",
              "      <td>10</td>\n",
              "      <td>The Hawks win!!  Jermey Roenick scored his 50 ...</td>\n",
              "    </tr>\n",
              "    <tr>\n",
              "      <th>11259</th>\n",
              "      <td>10</td>\n",
              "      <td>I think that NHLPA' 93 is the best video game ...</td>\n",
              "    </tr>\n",
              "    <tr>\n",
              "      <th>11267</th>\n",
              "      <td>1</td>\n",
              "      <td>\\nI am in the market for a 24-bit graphics car...</td>\n",
              "    </tr>\n",
              "    <tr>\n",
              "      <th>11288</th>\n",
              "      <td>1</td>\n",
              "      <td>Hi there,\\n\\nis there anybody who know a polyg...</td>\n",
              "    </tr>\n",
              "    <tr>\n",
              "      <th>11302</th>\n",
              "      <td>10</td>\n",
              "      <td>You might want to clarify the 11 game winning ...</td>\n",
              "    </tr>\n",
              "  </tbody>\n",
              "</table>\n",
              "<p>1184 rows × 2 columns</p>\n",
              "</div>"
            ],
            "text/plain": [
              "       label                                               text\n",
              "4         10  Well, I will have to change the scoring on my ...\n",
              "10         1  Archive-name: graphics/resources-list/part1\\nL...\n",
              "17        10  \\nAnd of course, Mike Ramsey was (at one time)...\n",
              "24        10  As I promised, I would give you the name of th...\n",
              "28        10  GAME(S) OF 4/15\\n---------------\\nADIRONDACK 6...\n",
              "...      ...                                                ...\n",
              "11248     10  The Hawks win!!  Jermey Roenick scored his 50 ...\n",
              "11259     10  I think that NHLPA' 93 is the best video game ...\n",
              "11267      1  \\nI am in the market for a 24-bit graphics car...\n",
              "11288      1  Hi there,\\n\\nis there anybody who know a polyg...\n",
              "11302     10  You might want to clarify the 11 game winning ...\n",
              "\n",
              "[1184 rows x 2 columns]"
            ]
          },
          "metadata": {
            "tags": []
          },
          "execution_count": 8
        }
      ]
    },
    {
      "cell_type": "code",
      "metadata": {
        "id": "JpGDSgbRl82V",
        "colab_type": "code",
        "colab": {
          "base_uri": "https://localhost:8080/",
          "height": 424
        },
        "outputId": "e40a01ef-2f0f-44f9-f751-e5960a2078ec"
      },
      "source": [
        "df = df.reset_index(drop = True)\n",
        "df"
      ],
      "execution_count": 9,
      "outputs": [
        {
          "output_type": "execute_result",
          "data": {
            "text/html": [
              "<div>\n",
              "<style scoped>\n",
              "    .dataframe tbody tr th:only-of-type {\n",
              "        vertical-align: middle;\n",
              "    }\n",
              "\n",
              "    .dataframe tbody tr th {\n",
              "        vertical-align: top;\n",
              "    }\n",
              "\n",
              "    .dataframe thead th {\n",
              "        text-align: right;\n",
              "    }\n",
              "</style>\n",
              "<table border=\"1\" class=\"dataframe\">\n",
              "  <thead>\n",
              "    <tr style=\"text-align: right;\">\n",
              "      <th></th>\n",
              "      <th>label</th>\n",
              "      <th>text</th>\n",
              "    </tr>\n",
              "  </thead>\n",
              "  <tbody>\n",
              "    <tr>\n",
              "      <th>0</th>\n",
              "      <td>10</td>\n",
              "      <td>Well, I will have to change the scoring on my ...</td>\n",
              "    </tr>\n",
              "    <tr>\n",
              "      <th>1</th>\n",
              "      <td>1</td>\n",
              "      <td>Archive-name: graphics/resources-list/part1\\nL...</td>\n",
              "    </tr>\n",
              "    <tr>\n",
              "      <th>2</th>\n",
              "      <td>10</td>\n",
              "      <td>\\nAnd of course, Mike Ramsey was (at one time)...</td>\n",
              "    </tr>\n",
              "    <tr>\n",
              "      <th>3</th>\n",
              "      <td>10</td>\n",
              "      <td>As I promised, I would give you the name of th...</td>\n",
              "    </tr>\n",
              "    <tr>\n",
              "      <th>4</th>\n",
              "      <td>10</td>\n",
              "      <td>GAME(S) OF 4/15\\n---------------\\nADIRONDACK 6...</td>\n",
              "    </tr>\n",
              "    <tr>\n",
              "      <th>...</th>\n",
              "      <td>...</td>\n",
              "      <td>...</td>\n",
              "    </tr>\n",
              "    <tr>\n",
              "      <th>1179</th>\n",
              "      <td>10</td>\n",
              "      <td>The Hawks win!!  Jermey Roenick scored his 50 ...</td>\n",
              "    </tr>\n",
              "    <tr>\n",
              "      <th>1180</th>\n",
              "      <td>10</td>\n",
              "      <td>I think that NHLPA' 93 is the best video game ...</td>\n",
              "    </tr>\n",
              "    <tr>\n",
              "      <th>1181</th>\n",
              "      <td>1</td>\n",
              "      <td>\\nI am in the market for a 24-bit graphics car...</td>\n",
              "    </tr>\n",
              "    <tr>\n",
              "      <th>1182</th>\n",
              "      <td>1</td>\n",
              "      <td>Hi there,\\n\\nis there anybody who know a polyg...</td>\n",
              "    </tr>\n",
              "    <tr>\n",
              "      <th>1183</th>\n",
              "      <td>10</td>\n",
              "      <td>You might want to clarify the 11 game winning ...</td>\n",
              "    </tr>\n",
              "  </tbody>\n",
              "</table>\n",
              "<p>1184 rows × 2 columns</p>\n",
              "</div>"
            ],
            "text/plain": [
              "      label                                               text\n",
              "0        10  Well, I will have to change the scoring on my ...\n",
              "1         1  Archive-name: graphics/resources-list/part1\\nL...\n",
              "2        10  \\nAnd of course, Mike Ramsey was (at one time)...\n",
              "3        10  As I promised, I would give you the name of th...\n",
              "4        10  GAME(S) OF 4/15\\n---------------\\nADIRONDACK 6...\n",
              "...     ...                                                ...\n",
              "1179     10  The Hawks win!!  Jermey Roenick scored his 50 ...\n",
              "1180     10  I think that NHLPA' 93 is the best video game ...\n",
              "1181      1  \\nI am in the market for a 24-bit graphics car...\n",
              "1182      1  Hi there,\\n\\nis there anybody who know a polyg...\n",
              "1183     10  You might want to clarify the 11 game winning ...\n",
              "\n",
              "[1184 rows x 2 columns]"
            ]
          },
          "metadata": {
            "tags": []
          },
          "execution_count": 9
        }
      ]
    },
    {
      "cell_type": "code",
      "metadata": {
        "id": "MTmDj9oxnkrI",
        "colab_type": "code",
        "colab": {
          "base_uri": "https://localhost:8080/",
          "height": 72
        },
        "outputId": "1f90880c-0002-4afd-f2cb-dafaa1581cc2"
      },
      "source": [
        "df['label'].value_counts()"
      ],
      "execution_count": 10,
      "outputs": [
        {
          "output_type": "execute_result",
          "data": {
            "text/plain": [
              "10    600\n",
              "1     584\n",
              "Name: label, dtype: int64"
            ]
          },
          "metadata": {
            "tags": []
          },
          "execution_count": 10
        }
      ]
    },
    {
      "cell_type": "code",
      "metadata": {
        "id": "xkUV7jproTXN",
        "colab_type": "code",
        "colab": {
          "base_uri": "https://localhost:8080/",
          "height": 424
        },
        "outputId": "7a38b51c-d946-45ba-ca8d-9728ba31d754"
      },
      "source": [
        "# Data Preprocessing\n",
        "df['text'] = df['text'].str.replace(\"[^a-zA-Z]\",\" \")\n",
        "df"
      ],
      "execution_count": 12,
      "outputs": [
        {
          "output_type": "execute_result",
          "data": {
            "text/html": [
              "<div>\n",
              "<style scoped>\n",
              "    .dataframe tbody tr th:only-of-type {\n",
              "        vertical-align: middle;\n",
              "    }\n",
              "\n",
              "    .dataframe tbody tr th {\n",
              "        vertical-align: top;\n",
              "    }\n",
              "\n",
              "    .dataframe thead th {\n",
              "        text-align: right;\n",
              "    }\n",
              "</style>\n",
              "<table border=\"1\" class=\"dataframe\">\n",
              "  <thead>\n",
              "    <tr style=\"text-align: right;\">\n",
              "      <th></th>\n",
              "      <th>label</th>\n",
              "      <th>text</th>\n",
              "    </tr>\n",
              "  </thead>\n",
              "  <tbody>\n",
              "    <tr>\n",
              "      <th>0</th>\n",
              "      <td>10</td>\n",
              "      <td>Well  I will have to change the scoring on my ...</td>\n",
              "    </tr>\n",
              "    <tr>\n",
              "      <th>1</th>\n",
              "      <td>1</td>\n",
              "      <td>Archive name  graphics resources list part  La...</td>\n",
              "    </tr>\n",
              "    <tr>\n",
              "      <th>2</th>\n",
              "      <td>10</td>\n",
              "      <td>And of course  Mike Ramsey was  at one time  ...</td>\n",
              "    </tr>\n",
              "    <tr>\n",
              "      <th>3</th>\n",
              "      <td>10</td>\n",
              "      <td>As I promised  I would give you the name of th...</td>\n",
              "    </tr>\n",
              "    <tr>\n",
              "      <th>4</th>\n",
              "      <td>10</td>\n",
              "      <td>GAME S  OF                      ADIRONDACK   C...</td>\n",
              "    </tr>\n",
              "    <tr>\n",
              "      <th>...</th>\n",
              "      <td>...</td>\n",
              "      <td>...</td>\n",
              "    </tr>\n",
              "    <tr>\n",
              "      <th>1179</th>\n",
              "      <td>10</td>\n",
              "      <td>The Hawks win    Jermey Roenick scored his    ...</td>\n",
              "    </tr>\n",
              "    <tr>\n",
              "      <th>1180</th>\n",
              "      <td>10</td>\n",
              "      <td>I think that NHLPA     is the best video game ...</td>\n",
              "    </tr>\n",
              "    <tr>\n",
              "      <th>1181</th>\n",
              "      <td>1</td>\n",
              "      <td>I am in the market for a    bit graphics card...</td>\n",
              "    </tr>\n",
              "    <tr>\n",
              "      <th>1182</th>\n",
              "      <td>1</td>\n",
              "      <td>Hi there   is there anybody who know a polygon...</td>\n",
              "    </tr>\n",
              "    <tr>\n",
              "      <th>1183</th>\n",
              "      <td>10</td>\n",
              "      <td>You might want to clarify the    game winning ...</td>\n",
              "    </tr>\n",
              "  </tbody>\n",
              "</table>\n",
              "<p>1184 rows × 2 columns</p>\n",
              "</div>"
            ],
            "text/plain": [
              "      label                                               text\n",
              "0        10  Well  I will have to change the scoring on my ...\n",
              "1         1  Archive name  graphics resources list part  La...\n",
              "2        10   And of course  Mike Ramsey was  at one time  ...\n",
              "3        10  As I promised  I would give you the name of th...\n",
              "4        10  GAME S  OF                      ADIRONDACK   C...\n",
              "...     ...                                                ...\n",
              "1179     10  The Hawks win    Jermey Roenick scored his    ...\n",
              "1180     10  I think that NHLPA     is the best video game ...\n",
              "1181      1   I am in the market for a    bit graphics card...\n",
              "1182      1  Hi there   is there anybody who know a polygon...\n",
              "1183     10  You might want to clarify the    game winning ...\n",
              "\n",
              "[1184 rows x 2 columns]"
            ]
          },
          "metadata": {
            "tags": []
          },
          "execution_count": 12
        }
      ]
    },
    {
      "cell_type": "code",
      "metadata": {
        "id": "ZVshXzm3p2qI",
        "colab_type": "code",
        "colab": {
          "base_uri": "https://localhost:8080/",
          "height": 271
        },
        "outputId": "932e6991-258f-47ab-e04e-bbc38d6ec970"
      },
      "source": [
        "# Get rid of stopwords\n",
        "import nltk \n",
        "nltk.download('stopwords')\n",
        "from nltk.corpus import stopwords\n",
        "stop_words = stopwords.words('english')\n",
        "\n",
        "# Tokenization\n",
        "tokenized_doc = df['text'].apply(lambda x: x.split())\n",
        "tokenized_doc"
      ],
      "execution_count": 19,
      "outputs": [
        {
          "output_type": "stream",
          "text": [
            "[nltk_data] Downloading package stopwords to /root/nltk_data...\n",
            "[nltk_data]   Package stopwords is already up-to-date!\n"
          ],
          "name": "stdout"
        },
        {
          "output_type": "execute_result",
          "data": {
            "text/plain": [
              "0       [Well, I, will, have, to, change, the, scoring...\n",
              "1       [Archive, name, graphics, resources, list, par...\n",
              "2       [And, of, course, Mike, Ramsey, was, at, one, ...\n",
              "3       [As, I, promised, I, would, give, you, the, na...\n",
              "4       [GAME, S, OF, ADIRONDACK, CDI, Adirondack, lea...\n",
              "                              ...                        \n",
              "1179    [The, Hawks, win, Jermey, Roenick, scored, his...\n",
              "1180    [I, think, that, NHLPA, is, the, best, video, ...\n",
              "1181    [I, am, in, the, market, for, a, bit, graphics...\n",
              "1182    [Hi, there, is, there, anybody, who, know, a, ...\n",
              "1183    [You, might, want, to, clarify, the, game, win...\n",
              "Name: text, Length: 1184, dtype: object"
            ]
          },
          "metadata": {
            "tags": []
          },
          "execution_count": 19
        }
      ]
    },
    {
      "cell_type": "code",
      "metadata": {
        "id": "am95EErwGDbP",
        "colab_type": "code",
        "colab": {
          "base_uri": "https://localhost:8080/",
          "height": 235
        },
        "outputId": "2db00578-fc2a-4154-92ed-eea82049a8a3"
      },
      "source": [
        "# Remove stop words\n",
        "tokenized_doc = tokenized_doc.apply(lambda x: [item for item in x if item not in stop_words])\n",
        "tokenized_doc"
      ],
      "execution_count": 25,
      "outputs": [
        {
          "output_type": "execute_result",
          "data": {
            "text/plain": [
              "0       [Well, I, change, scoring, playoff, pool, Unfo...\n",
              "1       [Archive, name, graphics, resources, list, par...\n",
              "2       [And, course, Mike, Ramsey, one, time, captain...\n",
              "3       [As, I, promised, I, would, give, name, Panthe...\n",
              "4       [GAME, S, OF, ADIRONDACK, CDI, Adirondack, lea...\n",
              "                              ...                        \n",
              "1179    [The, Hawks, win, Jermey, Roenick, scored, th,...\n",
              "1180    [I, think, NHLPA, best, video, game, available...\n",
              "1181    [I, market, bit, graphics, card, PC, ISA, bus,...\n",
              "1182    [Hi, anybody, know, polygon, reduction, algori...\n",
              "1183    [You, might, want, clarify, game, winning, str...\n",
              "Name: text, Length: 1184, dtype: object"
            ]
          },
          "metadata": {
            "tags": []
          },
          "execution_count": 25
        }
      ]
    },
    {
      "cell_type": "code",
      "metadata": {
        "id": "Z19qzRlnI2Ca",
        "colab_type": "code",
        "colab": {}
      },
      "source": [
        "# De-tokenization\n"
      ],
      "execution_count": 0,
      "outputs": []
    }
  ]
}