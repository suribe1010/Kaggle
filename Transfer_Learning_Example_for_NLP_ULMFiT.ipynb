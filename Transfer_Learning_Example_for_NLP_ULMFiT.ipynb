{
  "nbformat": 4,
  "nbformat_minor": 0,
  "metadata": {
    "colab": {
      "name": "Transfer Learning Example for NLP. ULMFiT.ipynb",
      "provenance": [],
      "authorship_tag": "ABX9TyNBF1esUbkFLPQzQ+dx34Jq",
      "include_colab_link": true
    },
    "kernelspec": {
      "name": "python3",
      "display_name": "Python 3"
    },
    "accelerator": "GPU"
  },
  "cells": [
    {
      "cell_type": "markdown",
      "metadata": {
        "id": "view-in-github",
        "colab_type": "text"
      },
      "source": [
        "<a href=\"https://colab.research.google.com/github/suribe1010/Kaggle/blob/master/Transfer_Learning_Example_for_NLP_ULMFiT.ipynb\" target=\"_parent\"><img src=\"https://colab.research.google.com/assets/colab-badge.svg\" alt=\"Open In Colab\"/></a>"
      ]
    },
    {
      "cell_type": "code",
      "metadata": {
        "id": "H1g4VtLtdPaU",
        "colab_type": "code",
        "colab": {}
      },
      "source": [
        "!pip install -q torch==1.4.0 torchvision"
      ],
      "execution_count": 0,
      "outputs": []
    },
    {
      "cell_type": "code",
      "metadata": {
        "id": "x3SLZeuzehU4",
        "colab_type": "code",
        "colab": {
          "base_uri": "https://localhost:8080/",
          "height": 707
        },
        "outputId": "c839d8ac-331b-47a3-a3a5-d745591e75ea"
      },
      "source": [
        "!pip install fastai\n"
      ],
      "execution_count": 3,
      "outputs": [
        {
          "output_type": "stream",
          "text": [
            "Requirement already satisfied: fastai in /usr/local/lib/python3.6/dist-packages (1.0.60)\n",
            "Requirement already satisfied: torchvision in /usr/local/lib/python3.6/dist-packages (from fastai) (0.5.0)\n",
            "Requirement already satisfied: Pillow in /usr/local/lib/python3.6/dist-packages (from fastai) (6.2.2)\n",
            "Requirement already satisfied: beautifulsoup4 in /usr/local/lib/python3.6/dist-packages (from fastai) (4.6.3)\n",
            "Requirement already satisfied: matplotlib in /usr/local/lib/python3.6/dist-packages (from fastai) (3.1.3)\n",
            "Requirement already satisfied: numpy>=1.15 in /usr/local/lib/python3.6/dist-packages (from fastai) (1.17.5)\n",
            "Requirement already satisfied: torch>=1.0.0 in /usr/local/lib/python3.6/dist-packages (from fastai) (1.4.0)\n",
            "Requirement already satisfied: dataclasses; python_version < \"3.7\" in /usr/local/lib/python3.6/dist-packages (from fastai) (0.7)\n",
            "Requirement already satisfied: pyyaml in /usr/local/lib/python3.6/dist-packages (from fastai) (3.13)\n",
            "Requirement already satisfied: nvidia-ml-py3 in /usr/local/lib/python3.6/dist-packages (from fastai) (7.352.0)\n",
            "Requirement already satisfied: requests in /usr/local/lib/python3.6/dist-packages (from fastai) (2.21.0)\n",
            "Requirement already satisfied: pandas in /usr/local/lib/python3.6/dist-packages (from fastai) (0.25.3)\n",
            "Requirement already satisfied: spacy>=2.0.18 in /usr/local/lib/python3.6/dist-packages (from fastai) (2.1.9)\n",
            "Requirement already satisfied: fastprogress>=0.2.1 in /usr/local/lib/python3.6/dist-packages (from fastai) (0.2.2)\n",
            "Requirement already satisfied: packaging in /usr/local/lib/python3.6/dist-packages (from fastai) (20.1)\n",
            "Requirement already satisfied: numexpr in /usr/local/lib/python3.6/dist-packages (from fastai) (2.7.1)\n",
            "Requirement already satisfied: scipy in /usr/local/lib/python3.6/dist-packages (from fastai) (1.4.1)\n",
            "Requirement already satisfied: bottleneck in /usr/local/lib/python3.6/dist-packages (from fastai) (1.3.1)\n",
            "Requirement already satisfied: six in /usr/local/lib/python3.6/dist-packages (from torchvision->fastai) (1.12.0)\n",
            "Requirement already satisfied: kiwisolver>=1.0.1 in /usr/local/lib/python3.6/dist-packages (from matplotlib->fastai) (1.1.0)\n",
            "Requirement already satisfied: cycler>=0.10 in /usr/local/lib/python3.6/dist-packages (from matplotlib->fastai) (0.10.0)\n",
            "Requirement already satisfied: python-dateutil>=2.1 in /usr/local/lib/python3.6/dist-packages (from matplotlib->fastai) (2.6.1)\n",
            "Requirement already satisfied: pyparsing!=2.0.4,!=2.1.2,!=2.1.6,>=2.0.1 in /usr/local/lib/python3.6/dist-packages (from matplotlib->fastai) (2.4.6)\n",
            "Requirement already satisfied: urllib3<1.25,>=1.21.1 in /usr/local/lib/python3.6/dist-packages (from requests->fastai) (1.24.3)\n",
            "Requirement already satisfied: idna<2.9,>=2.5 in /usr/local/lib/python3.6/dist-packages (from requests->fastai) (2.8)\n",
            "Requirement already satisfied: certifi>=2017.4.17 in /usr/local/lib/python3.6/dist-packages (from requests->fastai) (2019.11.28)\n",
            "Requirement already satisfied: chardet<3.1.0,>=3.0.2 in /usr/local/lib/python3.6/dist-packages (from requests->fastai) (3.0.4)\n",
            "Requirement already satisfied: pytz>=2017.2 in /usr/local/lib/python3.6/dist-packages (from pandas->fastai) (2018.9)\n",
            "Requirement already satisfied: thinc<7.1.0,>=7.0.8 in /usr/local/lib/python3.6/dist-packages (from spacy>=2.0.18->fastai) (7.0.8)\n",
            "Requirement already satisfied: cymem<2.1.0,>=2.0.2 in /usr/local/lib/python3.6/dist-packages (from spacy>=2.0.18->fastai) (2.0.3)\n",
            "Requirement already satisfied: murmurhash<1.1.0,>=0.28.0 in /usr/local/lib/python3.6/dist-packages (from spacy>=2.0.18->fastai) (1.0.2)\n",
            "Requirement already satisfied: wasabi<1.1.0,>=0.2.0 in /usr/local/lib/python3.6/dist-packages (from spacy>=2.0.18->fastai) (0.6.0)\n",
            "Requirement already satisfied: preshed<2.1.0,>=2.0.1 in /usr/local/lib/python3.6/dist-packages (from spacy>=2.0.18->fastai) (2.0.1)\n",
            "Requirement already satisfied: srsly<1.1.0,>=0.0.6 in /usr/local/lib/python3.6/dist-packages (from spacy>=2.0.18->fastai) (1.0.1)\n",
            "Requirement already satisfied: blis<0.3.0,>=0.2.2 in /usr/local/lib/python3.6/dist-packages (from spacy>=2.0.18->fastai) (0.2.4)\n",
            "Requirement already satisfied: plac<1.0.0,>=0.9.6 in /usr/local/lib/python3.6/dist-packages (from spacy>=2.0.18->fastai) (0.9.6)\n",
            "Requirement already satisfied: setuptools in /usr/local/lib/python3.6/dist-packages (from kiwisolver>=1.0.1->matplotlib->fastai) (45.1.0)\n",
            "Requirement already satisfied: tqdm<5.0.0,>=4.10.0 in /usr/local/lib/python3.6/dist-packages (from thinc<7.1.0,>=7.0.8->spacy>=2.0.18->fastai) (4.28.1)\n"
          ],
          "name": "stdout"
        }
      ]
    },
    {
      "cell_type": "code",
      "metadata": {
        "id": "-uAZqnzYhOFu",
        "colab_type": "code",
        "colab": {}
      },
      "source": [
        "import fastai\n",
        "from fastai import *\n",
        "from fastai.text import *\n",
        "import pandas as pd\n",
        "import numpy as np\n",
        "from functools import partial\n",
        "import io\n",
        "import os\n"
      ],
      "execution_count": 0,
      "outputs": []
    },
    {
      "cell_type": "code",
      "metadata": {
        "id": "UguOCSvjhQtA",
        "colab_type": "code",
        "colab": {
          "base_uri": "https://localhost:8080/",
          "height": 53
        },
        "outputId": "3b199f7c-7606-47ee-db16-741b2293bba6"
      },
      "source": [
        "from sklearn.datasets import fetch_20newsgroups\n",
        "dataset = fetch_20newsgroups(shuffle=True, random_state=1, remove=('headers','footers', 'quotes'))"
      ],
      "execution_count": 5,
      "outputs": [
        {
          "output_type": "stream",
          "text": [
            "Downloading 20news dataset. This may take a few minutes.\n",
            "Downloading dataset from https://ndownloader.figshare.com/files/5975967 (14 MB)\n"
          ],
          "name": "stderr"
        }
      ]
    },
    {
      "cell_type": "code",
      "metadata": {
        "id": "ZdF9RzRDhmRj",
        "colab_type": "code",
        "colab": {}
      },
      "source": [
        "documents=dataset.data"
      ],
      "execution_count": 0,
      "outputs": []
    },
    {
      "cell_type": "code",
      "metadata": {
        "id": "y52vzK_Lh206",
        "colab_type": "code",
        "colab": {}
      },
      "source": [
        ""
      ],
      "execution_count": 0,
      "outputs": []
    },
    {
      "cell_type": "code",
      "metadata": {
        "id": "y5REZ08Eh4D3",
        "colab_type": "code",
        "colab": {
          "base_uri": "https://localhost:8080/",
          "height": 424
        },
        "outputId": "363c122c-ffae-4765-a1de-55983febf207"
      },
      "source": [
        "df = pd.DataFrame({'label': dataset.target, 'text': dataset.data})\n",
        "df"
      ],
      "execution_count": 7,
      "outputs": [
        {
          "output_type": "execute_result",
          "data": {
            "text/html": [
              "<div>\n",
              "<style scoped>\n",
              "    .dataframe tbody tr th:only-of-type {\n",
              "        vertical-align: middle;\n",
              "    }\n",
              "\n",
              "    .dataframe tbody tr th {\n",
              "        vertical-align: top;\n",
              "    }\n",
              "\n",
              "    .dataframe thead th {\n",
              "        text-align: right;\n",
              "    }\n",
              "</style>\n",
              "<table border=\"1\" class=\"dataframe\">\n",
              "  <thead>\n",
              "    <tr style=\"text-align: right;\">\n",
              "      <th></th>\n",
              "      <th>label</th>\n",
              "      <th>text</th>\n",
              "    </tr>\n",
              "  </thead>\n",
              "  <tbody>\n",
              "    <tr>\n",
              "      <th>0</th>\n",
              "      <td>17</td>\n",
              "      <td>Well i'm not sure about the story nad it did s...</td>\n",
              "    </tr>\n",
              "    <tr>\n",
              "      <th>1</th>\n",
              "      <td>0</td>\n",
              "      <td>\\n\\n\\n\\n\\n\\n\\nYeah, do you expect people to re...</td>\n",
              "    </tr>\n",
              "    <tr>\n",
              "      <th>2</th>\n",
              "      <td>17</td>\n",
              "      <td>Although I realize that principle is not one o...</td>\n",
              "    </tr>\n",
              "    <tr>\n",
              "      <th>3</th>\n",
              "      <td>11</td>\n",
              "      <td>Notwithstanding all the legitimate fuss about ...</td>\n",
              "    </tr>\n",
              "    <tr>\n",
              "      <th>4</th>\n",
              "      <td>10</td>\n",
              "      <td>Well, I will have to change the scoring on my ...</td>\n",
              "    </tr>\n",
              "    <tr>\n",
              "      <th>...</th>\n",
              "      <td>...</td>\n",
              "      <td>...</td>\n",
              "    </tr>\n",
              "    <tr>\n",
              "      <th>11309</th>\n",
              "      <td>17</td>\n",
              "      <td>Danny Rubenstein, an Israeli journalist, will ...</td>\n",
              "    </tr>\n",
              "    <tr>\n",
              "      <th>11310</th>\n",
              "      <td>13</td>\n",
              "      <td>\\n</td>\n",
              "    </tr>\n",
              "    <tr>\n",
              "      <th>11311</th>\n",
              "      <td>9</td>\n",
              "      <td>\\nI agree.  Home runs off Clemens are always m...</td>\n",
              "    </tr>\n",
              "    <tr>\n",
              "      <th>11312</th>\n",
              "      <td>4</td>\n",
              "      <td>I used HP DeskJet with Orange Micros Grappler ...</td>\n",
              "    </tr>\n",
              "    <tr>\n",
              "      <th>11313</th>\n",
              "      <td>9</td>\n",
              "      <td>^^^^^^\\n...</td>\n",
              "    </tr>\n",
              "  </tbody>\n",
              "</table>\n",
              "<p>11314 rows × 2 columns</p>\n",
              "</div>"
            ],
            "text/plain": [
              "       label                                               text\n",
              "0         17  Well i'm not sure about the story nad it did s...\n",
              "1          0  \\n\\n\\n\\n\\n\\n\\nYeah, do you expect people to re...\n",
              "2         17  Although I realize that principle is not one o...\n",
              "3         11  Notwithstanding all the legitimate fuss about ...\n",
              "4         10  Well, I will have to change the scoring on my ...\n",
              "...      ...                                                ...\n",
              "11309     17  Danny Rubenstein, an Israeli journalist, will ...\n",
              "11310     13                                                 \\n\n",
              "11311      9  \\nI agree.  Home runs off Clemens are always m...\n",
              "11312      4  I used HP DeskJet with Orange Micros Grappler ...\n",
              "11313      9                                        ^^^^^^\\n...\n",
              "\n",
              "[11314 rows x 2 columns]"
            ]
          },
          "metadata": {
            "tags": []
          },
          "execution_count": 7
        }
      ]
    },
    {
      "cell_type": "code",
      "metadata": {
        "id": "KGsz3drvl71-",
        "colab_type": "code",
        "colab": {
          "base_uri": "https://localhost:8080/",
          "height": 424
        },
        "outputId": "b3aa54ca-826d-401d-9e1c-26da7b04eb0c"
      },
      "source": [
        "df = df[df['label'].isin([1,10])] \n",
        "df"
      ],
      "execution_count": 8,
      "outputs": [
        {
          "output_type": "execute_result",
          "data": {
            "text/html": [
              "<div>\n",
              "<style scoped>\n",
              "    .dataframe tbody tr th:only-of-type {\n",
              "        vertical-align: middle;\n",
              "    }\n",
              "\n",
              "    .dataframe tbody tr th {\n",
              "        vertical-align: top;\n",
              "    }\n",
              "\n",
              "    .dataframe thead th {\n",
              "        text-align: right;\n",
              "    }\n",
              "</style>\n",
              "<table border=\"1\" class=\"dataframe\">\n",
              "  <thead>\n",
              "    <tr style=\"text-align: right;\">\n",
              "      <th></th>\n",
              "      <th>label</th>\n",
              "      <th>text</th>\n",
              "    </tr>\n",
              "  </thead>\n",
              "  <tbody>\n",
              "    <tr>\n",
              "      <th>4</th>\n",
              "      <td>10</td>\n",
              "      <td>Well, I will have to change the scoring on my ...</td>\n",
              "    </tr>\n",
              "    <tr>\n",
              "      <th>10</th>\n",
              "      <td>1</td>\n",
              "      <td>Archive-name: graphics/resources-list/part1\\nL...</td>\n",
              "    </tr>\n",
              "    <tr>\n",
              "      <th>17</th>\n",
              "      <td>10</td>\n",
              "      <td>\\nAnd of course, Mike Ramsey was (at one time)...</td>\n",
              "    </tr>\n",
              "    <tr>\n",
              "      <th>24</th>\n",
              "      <td>10</td>\n",
              "      <td>As I promised, I would give you the name of th...</td>\n",
              "    </tr>\n",
              "    <tr>\n",
              "      <th>28</th>\n",
              "      <td>10</td>\n",
              "      <td>GAME(S) OF 4/15\\n---------------\\nADIRONDACK 6...</td>\n",
              "    </tr>\n",
              "    <tr>\n",
              "      <th>...</th>\n",
              "      <td>...</td>\n",
              "      <td>...</td>\n",
              "    </tr>\n",
              "    <tr>\n",
              "      <th>11248</th>\n",
              "      <td>10</td>\n",
              "      <td>The Hawks win!!  Jermey Roenick scored his 50 ...</td>\n",
              "    </tr>\n",
              "    <tr>\n",
              "      <th>11259</th>\n",
              "      <td>10</td>\n",
              "      <td>I think that NHLPA' 93 is the best video game ...</td>\n",
              "    </tr>\n",
              "    <tr>\n",
              "      <th>11267</th>\n",
              "      <td>1</td>\n",
              "      <td>\\nI am in the market for a 24-bit graphics car...</td>\n",
              "    </tr>\n",
              "    <tr>\n",
              "      <th>11288</th>\n",
              "      <td>1</td>\n",
              "      <td>Hi there,\\n\\nis there anybody who know a polyg...</td>\n",
              "    </tr>\n",
              "    <tr>\n",
              "      <th>11302</th>\n",
              "      <td>10</td>\n",
              "      <td>You might want to clarify the 11 game winning ...</td>\n",
              "    </tr>\n",
              "  </tbody>\n",
              "</table>\n",
              "<p>1184 rows × 2 columns</p>\n",
              "</div>"
            ],
            "text/plain": [
              "       label                                               text\n",
              "4         10  Well, I will have to change the scoring on my ...\n",
              "10         1  Archive-name: graphics/resources-list/part1\\nL...\n",
              "17        10  \\nAnd of course, Mike Ramsey was (at one time)...\n",
              "24        10  As I promised, I would give you the name of th...\n",
              "28        10  GAME(S) OF 4/15\\n---------------\\nADIRONDACK 6...\n",
              "...      ...                                                ...\n",
              "11248     10  The Hawks win!!  Jermey Roenick scored his 50 ...\n",
              "11259     10  I think that NHLPA' 93 is the best video game ...\n",
              "11267      1  \\nI am in the market for a 24-bit graphics car...\n",
              "11288      1  Hi there,\\n\\nis there anybody who know a polyg...\n",
              "11302     10  You might want to clarify the 11 game winning ...\n",
              "\n",
              "[1184 rows x 2 columns]"
            ]
          },
          "metadata": {
            "tags": []
          },
          "execution_count": 8
        }
      ]
    },
    {
      "cell_type": "code",
      "metadata": {
        "id": "JpGDSgbRl82V",
        "colab_type": "code",
        "colab": {
          "base_uri": "https://localhost:8080/",
          "height": 424
        },
        "outputId": "e40a01ef-2f0f-44f9-f751-e5960a2078ec"
      },
      "source": [
        "df = df.reset_index(drop = True)\n",
        "df"
      ],
      "execution_count": 9,
      "outputs": [
        {
          "output_type": "execute_result",
          "data": {
            "text/html": [
              "<div>\n",
              "<style scoped>\n",
              "    .dataframe tbody tr th:only-of-type {\n",
              "        vertical-align: middle;\n",
              "    }\n",
              "\n",
              "    .dataframe tbody tr th {\n",
              "        vertical-align: top;\n",
              "    }\n",
              "\n",
              "    .dataframe thead th {\n",
              "        text-align: right;\n",
              "    }\n",
              "</style>\n",
              "<table border=\"1\" class=\"dataframe\">\n",
              "  <thead>\n",
              "    <tr style=\"text-align: right;\">\n",
              "      <th></th>\n",
              "      <th>label</th>\n",
              "      <th>text</th>\n",
              "    </tr>\n",
              "  </thead>\n",
              "  <tbody>\n",
              "    <tr>\n",
              "      <th>0</th>\n",
              "      <td>10</td>\n",
              "      <td>Well, I will have to change the scoring on my ...</td>\n",
              "    </tr>\n",
              "    <tr>\n",
              "      <th>1</th>\n",
              "      <td>1</td>\n",
              "      <td>Archive-name: graphics/resources-list/part1\\nL...</td>\n",
              "    </tr>\n",
              "    <tr>\n",
              "      <th>2</th>\n",
              "      <td>10</td>\n",
              "      <td>\\nAnd of course, Mike Ramsey was (at one time)...</td>\n",
              "    </tr>\n",
              "    <tr>\n",
              "      <th>3</th>\n",
              "      <td>10</td>\n",
              "      <td>As I promised, I would give you the name of th...</td>\n",
              "    </tr>\n",
              "    <tr>\n",
              "      <th>4</th>\n",
              "      <td>10</td>\n",
              "      <td>GAME(S) OF 4/15\\n---------------\\nADIRONDACK 6...</td>\n",
              "    </tr>\n",
              "    <tr>\n",
              "      <th>...</th>\n",
              "      <td>...</td>\n",
              "      <td>...</td>\n",
              "    </tr>\n",
              "    <tr>\n",
              "      <th>1179</th>\n",
              "      <td>10</td>\n",
              "      <td>The Hawks win!!  Jermey Roenick scored his 50 ...</td>\n",
              "    </tr>\n",
              "    <tr>\n",
              "      <th>1180</th>\n",
              "      <td>10</td>\n",
              "      <td>I think that NHLPA' 93 is the best video game ...</td>\n",
              "    </tr>\n",
              "    <tr>\n",
              "      <th>1181</th>\n",
              "      <td>1</td>\n",
              "      <td>\\nI am in the market for a 24-bit graphics car...</td>\n",
              "    </tr>\n",
              "    <tr>\n",
              "      <th>1182</th>\n",
              "      <td>1</td>\n",
              "      <td>Hi there,\\n\\nis there anybody who know a polyg...</td>\n",
              "    </tr>\n",
              "    <tr>\n",
              "      <th>1183</th>\n",
              "      <td>10</td>\n",
              "      <td>You might want to clarify the 11 game winning ...</td>\n",
              "    </tr>\n",
              "  </tbody>\n",
              "</table>\n",
              "<p>1184 rows × 2 columns</p>\n",
              "</div>"
            ],
            "text/plain": [
              "      label                                               text\n",
              "0        10  Well, I will have to change the scoring on my ...\n",
              "1         1  Archive-name: graphics/resources-list/part1\\nL...\n",
              "2        10  \\nAnd of course, Mike Ramsey was (at one time)...\n",
              "3        10  As I promised, I would give you the name of th...\n",
              "4        10  GAME(S) OF 4/15\\n---------------\\nADIRONDACK 6...\n",
              "...     ...                                                ...\n",
              "1179     10  The Hawks win!!  Jermey Roenick scored his 50 ...\n",
              "1180     10  I think that NHLPA' 93 is the best video game ...\n",
              "1181      1  \\nI am in the market for a 24-bit graphics car...\n",
              "1182      1  Hi there,\\n\\nis there anybody who know a polyg...\n",
              "1183     10  You might want to clarify the 11 game winning ...\n",
              "\n",
              "[1184 rows x 2 columns]"
            ]
          },
          "metadata": {
            "tags": []
          },
          "execution_count": 9
        }
      ]
    },
    {
      "cell_type": "code",
      "metadata": {
        "id": "MTmDj9oxnkrI",
        "colab_type": "code",
        "colab": {
          "base_uri": "https://localhost:8080/",
          "height": 72
        },
        "outputId": "1f90880c-0002-4afd-f2cb-dafaa1581cc2"
      },
      "source": [
        "df['label'].value_counts()"
      ],
      "execution_count": 10,
      "outputs": [
        {
          "output_type": "execute_result",
          "data": {
            "text/plain": [
              "10    600\n",
              "1     584\n",
              "Name: label, dtype: int64"
            ]
          },
          "metadata": {
            "tags": []
          },
          "execution_count": 10
        }
      ]
    },
    {
      "cell_type": "code",
      "metadata": {
        "id": "xkUV7jproTXN",
        "colab_type": "code",
        "colab": {
          "base_uri": "https://localhost:8080/",
          "height": 424
        },
        "outputId": "0f94ebd6-f175-4a54-de82-cac32ee94b61"
      },
      "source": [
        "# Data Preprocessing\n",
        "df['text'] = df['text'].str.replace(\"[^a-zA-Z]\",\" \")\n",
        "df\n"
      ],
      "execution_count": 43,
      "outputs": [
        {
          "output_type": "execute_result",
          "data": {
            "text/html": [
              "<div>\n",
              "<style scoped>\n",
              "    .dataframe tbody tr th:only-of-type {\n",
              "        vertical-align: middle;\n",
              "    }\n",
              "\n",
              "    .dataframe tbody tr th {\n",
              "        vertical-align: top;\n",
              "    }\n",
              "\n",
              "    .dataframe thead th {\n",
              "        text-align: right;\n",
              "    }\n",
              "</style>\n",
              "<table border=\"1\" class=\"dataframe\">\n",
              "  <thead>\n",
              "    <tr style=\"text-align: right;\">\n",
              "      <th></th>\n",
              "      <th>label</th>\n",
              "      <th>text</th>\n",
              "    </tr>\n",
              "  </thead>\n",
              "  <tbody>\n",
              "    <tr>\n",
              "      <th>0</th>\n",
              "      <td>10</td>\n",
              "      <td>Well  I will have to change the scoring on my ...</td>\n",
              "    </tr>\n",
              "    <tr>\n",
              "      <th>1</th>\n",
              "      <td>1</td>\n",
              "      <td>Archive name  graphics resources list part  La...</td>\n",
              "    </tr>\n",
              "    <tr>\n",
              "      <th>2</th>\n",
              "      <td>10</td>\n",
              "      <td>And of course  Mike Ramsey was  at one time  ...</td>\n",
              "    </tr>\n",
              "    <tr>\n",
              "      <th>3</th>\n",
              "      <td>10</td>\n",
              "      <td>As I promised  I would give you the name of th...</td>\n",
              "    </tr>\n",
              "    <tr>\n",
              "      <th>4</th>\n",
              "      <td>10</td>\n",
              "      <td>GAME S  OF                      ADIRONDACK   C...</td>\n",
              "    </tr>\n",
              "    <tr>\n",
              "      <th>...</th>\n",
              "      <td>...</td>\n",
              "      <td>...</td>\n",
              "    </tr>\n",
              "    <tr>\n",
              "      <th>1179</th>\n",
              "      <td>10</td>\n",
              "      <td>The Hawks win    Jermey Roenick scored his    ...</td>\n",
              "    </tr>\n",
              "    <tr>\n",
              "      <th>1180</th>\n",
              "      <td>10</td>\n",
              "      <td>I think that NHLPA     is the best video game ...</td>\n",
              "    </tr>\n",
              "    <tr>\n",
              "      <th>1181</th>\n",
              "      <td>1</td>\n",
              "      <td>I am in the market for a    bit graphics card...</td>\n",
              "    </tr>\n",
              "    <tr>\n",
              "      <th>1182</th>\n",
              "      <td>1</td>\n",
              "      <td>Hi there   is there anybody who know a polygon...</td>\n",
              "    </tr>\n",
              "    <tr>\n",
              "      <th>1183</th>\n",
              "      <td>10</td>\n",
              "      <td>You might want to clarify the    game winning ...</td>\n",
              "    </tr>\n",
              "  </tbody>\n",
              "</table>\n",
              "<p>1184 rows × 2 columns</p>\n",
              "</div>"
            ],
            "text/plain": [
              "      label                                               text\n",
              "0        10  Well  I will have to change the scoring on my ...\n",
              "1         1  Archive name  graphics resources list part  La...\n",
              "2        10   And of course  Mike Ramsey was  at one time  ...\n",
              "3        10  As I promised  I would give you the name of th...\n",
              "4        10  GAME S  OF                      ADIRONDACK   C...\n",
              "...     ...                                                ...\n",
              "1179     10  The Hawks win    Jermey Roenick scored his    ...\n",
              "1180     10  I think that NHLPA     is the best video game ...\n",
              "1181      1   I am in the market for a    bit graphics card...\n",
              "1182      1  Hi there   is there anybody who know a polygon...\n",
              "1183     10  You might want to clarify the    game winning ...\n",
              "\n",
              "[1184 rows x 2 columns]"
            ]
          },
          "metadata": {
            "tags": []
          },
          "execution_count": 43
        }
      ]
    },
    {
      "cell_type": "code",
      "metadata": {
        "id": "ZVshXzm3p2qI",
        "colab_type": "code",
        "colab": {
          "base_uri": "https://localhost:8080/",
          "height": 271
        },
        "outputId": "c098e49c-a80b-41ad-aa9e-a9f074a26528"
      },
      "source": [
        "# Get rid of stopwords\n",
        "import nltk \n",
        "nltk.download('stopwords')\n",
        "from nltk.corpus import stopwords\n",
        "stop_words = stopwords.words('english')\n",
        "\n",
        "# Tokenization\n",
        "tokenized_doc = df['text'].apply(lambda x: x.split())\n",
        "tokenized_doc"
      ],
      "execution_count": 44,
      "outputs": [
        {
          "output_type": "stream",
          "text": [
            "[nltk_data] Downloading package stopwords to /root/nltk_data...\n",
            "[nltk_data]   Package stopwords is already up-to-date!\n"
          ],
          "name": "stdout"
        },
        {
          "output_type": "execute_result",
          "data": {
            "text/plain": [
              "0       [Well, I, will, have, to, change, the, scoring...\n",
              "1       [Archive, name, graphics, resources, list, par...\n",
              "2       [And, of, course, Mike, Ramsey, was, at, one, ...\n",
              "3       [As, I, promised, I, would, give, you, the, na...\n",
              "4       [GAME, S, OF, ADIRONDACK, CDI, Adirondack, lea...\n",
              "                              ...                        \n",
              "1179    [The, Hawks, win, Jermey, Roenick, scored, his...\n",
              "1180    [I, think, that, NHLPA, is, the, best, video, ...\n",
              "1181    [I, am, in, the, market, for, a, bit, graphics...\n",
              "1182    [Hi, there, is, there, anybody, who, know, a, ...\n",
              "1183    [You, might, want, to, clarify, the, game, win...\n",
              "Name: text, Length: 1184, dtype: object"
            ]
          },
          "metadata": {
            "tags": []
          },
          "execution_count": 44
        }
      ]
    },
    {
      "cell_type": "code",
      "metadata": {
        "id": "am95EErwGDbP",
        "colab_type": "code",
        "colab": {
          "base_uri": "https://localhost:8080/",
          "height": 235
        },
        "outputId": "ffe33aed-e3b6-4d0d-c0de-e43822afc00f"
      },
      "source": [
        "# Remove stop words\n",
        "tokenized_doc = tokenized_doc.apply(lambda x: [item for item in x if item not in stop_words])\n",
        "tokenized_doc"
      ],
      "execution_count": 45,
      "outputs": [
        {
          "output_type": "execute_result",
          "data": {
            "text/plain": [
              "0       [Well, I, change, scoring, playoff, pool, Unfo...\n",
              "1       [Archive, name, graphics, resources, list, par...\n",
              "2       [And, course, Mike, Ramsey, one, time, captain...\n",
              "3       [As, I, promised, I, would, give, name, Panthe...\n",
              "4       [GAME, S, OF, ADIRONDACK, CDI, Adirondack, lea...\n",
              "                              ...                        \n",
              "1179    [The, Hawks, win, Jermey, Roenick, scored, th,...\n",
              "1180    [I, think, NHLPA, best, video, game, available...\n",
              "1181    [I, market, bit, graphics, card, PC, ISA, bus,...\n",
              "1182    [Hi, anybody, know, polygon, reduction, algori...\n",
              "1183    [You, might, want, clarify, game, winning, str...\n",
              "Name: text, Length: 1184, dtype: object"
            ]
          },
          "metadata": {
            "tags": []
          },
          "execution_count": 45
        }
      ]
    },
    {
      "cell_type": "code",
      "metadata": {
        "id": "Z19qzRlnI2Ca",
        "colab_type": "code",
        "colab": {
          "base_uri": "https://localhost:8080/",
          "height": 424
        },
        "outputId": "a4f87a5c-62b8-40c5-db71-fbcf4798cc21"
      },
      "source": [
        "# De-tokenization\n",
        "detokenized_doc=[]\n",
        "for i in range (len(df)):\n",
        "  t = ' '.join(tokenized_doc[i])\n",
        "  detokenized_doc.append(t)\n",
        "df['text'] = detokenized_doc\n",
        "df"
      ],
      "execution_count": 58,
      "outputs": [
        {
          "output_type": "execute_result",
          "data": {
            "text/html": [
              "<div>\n",
              "<style scoped>\n",
              "    .dataframe tbody tr th:only-of-type {\n",
              "        vertical-align: middle;\n",
              "    }\n",
              "\n",
              "    .dataframe tbody tr th {\n",
              "        vertical-align: top;\n",
              "    }\n",
              "\n",
              "    .dataframe thead th {\n",
              "        text-align: right;\n",
              "    }\n",
              "</style>\n",
              "<table border=\"1\" class=\"dataframe\">\n",
              "  <thead>\n",
              "    <tr style=\"text-align: right;\">\n",
              "      <th></th>\n",
              "      <th>label</th>\n",
              "      <th>text</th>\n",
              "    </tr>\n",
              "  </thead>\n",
              "  <tbody>\n",
              "    <tr>\n",
              "      <th>0</th>\n",
              "      <td>10</td>\n",
              "      <td>Well I change scoring playoff pool Unfortunate...</td>\n",
              "    </tr>\n",
              "    <tr>\n",
              "      <th>1</th>\n",
              "      <td>1</td>\n",
              "      <td>Archive name graphics resources list part Last...</td>\n",
              "    </tr>\n",
              "    <tr>\n",
              "      <th>2</th>\n",
              "      <td>10</td>\n",
              "      <td>And course Mike Ramsey one time captain Buffal...</td>\n",
              "    </tr>\n",
              "    <tr>\n",
              "      <th>3</th>\n",
              "      <td>10</td>\n",
              "      <td>As I promised I would give name Panther presid...</td>\n",
              "    </tr>\n",
              "    <tr>\n",
              "      <th>4</th>\n",
              "      <td>10</td>\n",
              "      <td>GAME S OF ADIRONDACK CDI Adirondack leads seri...</td>\n",
              "    </tr>\n",
              "    <tr>\n",
              "      <th>...</th>\n",
              "      <td>...</td>\n",
              "      <td>...</td>\n",
              "    </tr>\n",
              "    <tr>\n",
              "      <th>1179</th>\n",
              "      <td>10</td>\n",
              "      <td>The Hawks win Jermey Roenick scored th goal Ha...</td>\n",
              "    </tr>\n",
              "    <tr>\n",
              "      <th>1180</th>\n",
              "      <td>10</td>\n",
              "      <td>I think NHLPA best video game available course...</td>\n",
              "    </tr>\n",
              "    <tr>\n",
              "      <th>1181</th>\n",
              "      <td>1</td>\n",
              "      <td>I market bit graphics card PC ISA bus wonderin...</td>\n",
              "    </tr>\n",
              "    <tr>\n",
              "      <th>1182</th>\n",
              "      <td>1</td>\n",
              "      <td>Hi anybody know polygon reduction algorithm ma...</td>\n",
              "    </tr>\n",
              "    <tr>\n",
              "      <th>1183</th>\n",
              "      <td>10</td>\n",
              "      <td>You might want clarify game winning streak Tha...</td>\n",
              "    </tr>\n",
              "  </tbody>\n",
              "</table>\n",
              "<p>1184 rows × 2 columns</p>\n",
              "</div>"
            ],
            "text/plain": [
              "      label                                               text\n",
              "0        10  Well I change scoring playoff pool Unfortunate...\n",
              "1         1  Archive name graphics resources list part Last...\n",
              "2        10  And course Mike Ramsey one time captain Buffal...\n",
              "3        10  As I promised I would give name Panther presid...\n",
              "4        10  GAME S OF ADIRONDACK CDI Adirondack leads seri...\n",
              "...     ...                                                ...\n",
              "1179     10  The Hawks win Jermey Roenick scored th goal Ha...\n",
              "1180     10  I think NHLPA best video game available course...\n",
              "1181      1  I market bit graphics card PC ISA bus wonderin...\n",
              "1182      1  Hi anybody know polygon reduction algorithm ma...\n",
              "1183     10  You might want clarify game winning streak Tha...\n",
              "\n",
              "[1184 rows x 2 columns]"
            ]
          },
          "metadata": {
            "tags": []
          },
          "execution_count": 58
        }
      ]
    },
    {
      "cell_type": "code",
      "metadata": {
        "id": "ZUg0kfJYK3N-",
        "colab_type": "code",
        "colab": {
          "base_uri": "https://localhost:8080/",
          "height": 424
        },
        "outputId": "a5ba9c54-3023-4dbf-b006-682c75002bbf"
      },
      "source": [
        "# Split into training(60%) and validation(40%) sets\n",
        "from sklearn.model_selection import train_test_split\n",
        "df_train, df_valid = train_test_split(df, stratify=df['label'], test_size=0.4, random_state = 12)\n",
        "df_train.shape\n",
        "df_train"
      ],
      "execution_count": 69,
      "outputs": [
        {
          "output_type": "execute_result",
          "data": {
            "text/html": [
              "<div>\n",
              "<style scoped>\n",
              "    .dataframe tbody tr th:only-of-type {\n",
              "        vertical-align: middle;\n",
              "    }\n",
              "\n",
              "    .dataframe tbody tr th {\n",
              "        vertical-align: top;\n",
              "    }\n",
              "\n",
              "    .dataframe thead th {\n",
              "        text-align: right;\n",
              "    }\n",
              "</style>\n",
              "<table border=\"1\" class=\"dataframe\">\n",
              "  <thead>\n",
              "    <tr style=\"text-align: right;\">\n",
              "      <th></th>\n",
              "      <th>label</th>\n",
              "      <th>text</th>\n",
              "    </tr>\n",
              "  </thead>\n",
              "  <tbody>\n",
              "    <tr>\n",
              "      <th>1018</th>\n",
              "      <td>10</td>\n",
              "      <td>It looks like Edmonton Oilers decided take Eur...</td>\n",
              "    </tr>\n",
              "    <tr>\n",
              "      <th>762</th>\n",
              "      <td>10</td>\n",
              "      <td>This kills Speaking die hard I I read died har...</td>\n",
              "    </tr>\n",
              "    <tr>\n",
              "      <th>768</th>\n",
              "      <td>1</td>\n",
              "      <td>The idea clip one polygon using another polygo...</td>\n",
              "    </tr>\n",
              "    <tr>\n",
              "      <th>152</th>\n",
              "      <td>10</td>\n",
              "      <td>I Edmonton usually least OFTEN case treated ac...</td>\n",
              "    </tr>\n",
              "    <tr>\n",
              "      <th>426</th>\n",
              "      <td>10</td>\n",
              "      <td>You know absolutely right I think round player...</td>\n",
              "    </tr>\n",
              "    <tr>\n",
              "      <th>...</th>\n",
              "      <td>...</td>\n",
              "      <td>...</td>\n",
              "    </tr>\n",
              "    <tr>\n",
              "      <th>833</th>\n",
              "      <td>1</td>\n",
              "      <td>Forty two six times nine</td>\n",
              "    </tr>\n",
              "    <tr>\n",
              "      <th>378</th>\n",
              "      <td>10</td>\n",
              "      <td>Re Eric True fortunately get find would like w...</td>\n",
              "    </tr>\n",
              "    <tr>\n",
              "      <th>791</th>\n",
              "      <td>10</td>\n",
              "      <td>Well tentative rules anyway And course since s...</td>\n",
              "    </tr>\n",
              "    <tr>\n",
              "      <th>200</th>\n",
              "      <td>10</td>\n",
              "      <td>The FLYERS closed season last night th straigh...</td>\n",
              "    </tr>\n",
              "    <tr>\n",
              "      <th>801</th>\n",
              "      <td>1</td>\n",
              "      <td>Actually I trying write something like I encou...</td>\n",
              "    </tr>\n",
              "  </tbody>\n",
              "</table>\n",
              "<p>710 rows × 2 columns</p>\n",
              "</div>"
            ],
            "text/plain": [
              "      label                                               text\n",
              "1018     10  It looks like Edmonton Oilers decided take Eur...\n",
              "762      10  This kills Speaking die hard I I read died har...\n",
              "768       1  The idea clip one polygon using another polygo...\n",
              "152      10  I Edmonton usually least OFTEN case treated ac...\n",
              "426      10  You know absolutely right I think round player...\n",
              "...     ...                                                ...\n",
              "833       1                           Forty two six times nine\n",
              "378      10  Re Eric True fortunately get find would like w...\n",
              "791      10  Well tentative rules anyway And course since s...\n",
              "200      10  The FLYERS closed season last night th straigh...\n",
              "801       1  Actually I trying write something like I encou...\n",
              "\n",
              "[710 rows x 2 columns]"
            ]
          },
          "metadata": {
            "tags": []
          },
          "execution_count": 69
        }
      ]
    },
    {
      "cell_type": "code",
      "metadata": {
        "id": "9dUzxCyiN8uc",
        "colab_type": "code",
        "colab": {
          "base_uri": "https://localhost:8080/",
          "height": 17
        },
        "outputId": "9b138b1a-5fc0-460d-f678-3642bfa88aa4"
      },
      "source": [
        "# Prepare the data for the language model data\n",
        "data_lm = TextLMDataBunch.from_df(train_df=df_train, valid_df=df_valid, path=\"\")\n"
      ],
      "execution_count": 71,
      "outputs": [
        {
          "output_type": "display_data",
          "data": {
            "text/html": [
              ""
            ],
            "text/plain": [
              "<IPython.core.display.HTML object>"
            ]
          },
          "metadata": {
            "tags": []
          }
        },
        {
          "output_type": "display_data",
          "data": {
            "text/html": [
              ""
            ],
            "text/plain": [
              "<IPython.core.display.HTML object>"
            ]
          },
          "metadata": {
            "tags": []
          }
        }
      ]
    },
    {
      "cell_type": "code",
      "metadata": {
        "id": "GOPoSlypOaK6",
        "colab_type": "code",
        "colab": {
          "base_uri": "https://localhost:8080/",
          "height": 346
        },
        "outputId": "43a89df7-799f-4d32-bdc0-af0cc2949240"
      },
      "source": [
        "# Prepare the data for classification model\n",
        "data_clas = TextClasDataBunch.from_df(path=\" \", train_df = df_train, valid_df = df_valid, vocab = data_lm.train_ds.vocab, bs=32)\n",
        "data_clas"
      ],
      "execution_count": 74,
      "outputs": [
        {
          "output_type": "display_data",
          "data": {
            "text/html": [
              ""
            ],
            "text/plain": [
              "<IPython.core.display.HTML object>"
            ]
          },
          "metadata": {
            "tags": []
          }
        },
        {
          "output_type": "display_data",
          "data": {
            "text/html": [
              ""
            ],
            "text/plain": [
              "<IPython.core.display.HTML object>"
            ]
          },
          "metadata": {
            "tags": []
          }
        },
        {
          "output_type": "execute_result",
          "data": {
            "text/plain": [
              "TextClasDataBunch;\n",
              "\n",
              "Train: LabelList (710 items)\n",
              "x: TextList\n",
              "xxbos xxmaj it looks like xxmaj edmonton xxmaj oilers decided take xxmaj european xxunk spring xxmaj ranford xxmaj tugnutt xxmaj benning xxmaj manson xxmaj smith xxmaj buchberger xxmaj corson playing xxmaj canada xxmaj podein xxmaj weight playing xxup us xxmaj is xxmaj kravchuk playing xxmaj xxunk i know nagging injuries late season xxmaj podein interesting case eligible play xxmaj cape xxmaj breton xxup ahl playoffs like xxmaj kovalev xxmaj zubov xxmaj andersson obviously xxmaj sather xxmaj pocklington total xxunk everyone makes certainly case massively xxunk xxmaj paramount xxmaj new xxmaj york xxmaj rangers,xxbos xxmaj this xxunk xxmaj speaking die hard i i read xxunk hard xxunk xxmaj toronto xxmaj cup finals xxmaj first anyone planet heard team xxmaj detroit xxmaj al xxmaj xxunk however spell idiot name must xxmaj chicago xxup espn said even close xxmaj chicago xxunk win xxmaj norris xxmaj division xxmaj playoffs team close xxmaj everyone picking xxmaj chicago i get says easy choice xxmaj god xxmaj chicago xxmaj wings division point two followed closely xxmaj toronto also good team xxmaj as xxmaj leafs beating xxmaj detroit doubt even going get xxmaj chicago xxmaj if even xxunk get past xxmaj hawks would probably face xxmaj vancouver lose xxmaj as xxmaj the xxmaj habs reaching xxmaj finals forget xxmaj even i devoted xxmaj wings fan watch xxmaj penguins easily three xxunk xxmaj cup winners xxmaj lemieux xxmaj jagr xxmaj tocchet xxmaj stevens xxmaj barrasso done deal xxmaj sorry xxmaj detroit wait xxunk next year xxmaj but hey xxmaj paul picks everyone right xxunk xxmaj leafs xxmaj finals xxmaj yeah xxmaj if make i walk xxmaj toronto get tickets mile walk xxmaj ryan,xxbos xxmaj the idea clip one polygon using another polygon necessarily rectangular window xxmaj my problem finding new vertices resulting xxunk first one xxmaj is simply matter extending usual algorithm whereby edges one polygon checked another polygon xxmaj is simpler way xxmaj comments welcome,xxbos i xxmaj edmonton usually least xxup often case xxunk actual xxup abc xxunk xxmaj kings xxmaj flames game i whoever said earlier xxmaj don xxmaj xxunk er xxmaj whitman poor commentator hockey xxmaj normally xxmaj oilers still playing xxunk i would turn sound listen radio broadcast get decent play play announcing,xxbos xxmaj you know absolutely right i think round players xxmaj european xxunk ship em back came xxmaj let see start i dunno xxmaj lemieux xxmaj hmmm sounds like xxmaj french blood xxmaj hey xxmaj france part xxmaj europe xxmaj send xxmaj xxunk xxunk boy back xxmaj sheesh i think would hard find xxmaj native xxmaj americans xxmaj native xxmaj canadians matter would xxunk claim great continent xxmaj ya see believe xxunk xxunk sort xxmaj if really think xxmaj mogilny xxmaj bure xxmaj selanne et al improved xxup nhl i sure understand game\n",
              "y: CategoryList\n",
              "10,10,1,10,10\n",
              "Path:  ;\n",
              "\n",
              "Valid: LabelList (474 items)\n",
              "x: TextList\n",
              "xxbos i looking source code radiosity method i know kind machine want program xxmaj radiance comes c source code i ftp access i tell get via way,xxbos i interested information xxunk imaging sun workstation xxmaj for part i need know hardware available interface system whether xxunk rates sufficient produce quality image xxunk xxmaj any information subject would greatly appreciated,xxbos xxmaj does anyone xxup nhl xxup standings xxmaj march th i need xxup xxunk project xxmaj please post email xxup thanks,xxbos a little xxunk xxmaj basic xxmaj mike info xxmaj for xxmaj xxunk xxunk xxup abc announcing xxunk xxmaj devils xxmaj isles xxmaj pittsburgh xxmaj gary xxmaj thorne play play xxmaj bill xxmaj clement color xxmaj al xxmaj xxunk xxunk xxunk outside xxunk xxunk xxmaj this xxunk primarily seen xxmaj east xxmaj coast xxmaj st xxmaj louis xxmaj chicago xxmaj mike xxmaj xxunk play play xxmaj jim xxmaj xxunk color xxmaj tom xxmaj xxunk xxunk xxunk xxmaj this xxunk primarily seen xxmaj midwest parts xxmaj south xxup la xxmaj calgary xxmaj al xxmaj do xxmaj you xxmaj believe xxmaj xxunk xxmaj michaels play play xxmaj john xxmaj davidson color xxmaj mark xxmaj jones xxunk reporter xxmaj this xxunk seen xxmaj western xxup usa xxmaj montreal xxunk xxmaj xxunk xxmaj xxunk xxunk studio xxup abc xxmaj up xxmaj close xxmaj personal xxmaj mario xxmaj saturday xxmaj wide xxmaj world xxmaj sports xxup edt xxmaj sunday first xxup nhl playoff regular network xxunk years counting silly xxmaj all xxmaj star games xxup xxunk last years xxmaj for xxmaj sunday games xxup abc use xxunk behind goal super super xxunk xxunk close xxunk player faces face xxunk xxup espn xxup abc able use new favorite xxunk ice level shot xxmaj pittsburgh many seats would removed xxunk xxmaj in case blowout xxunk xxmaj pittsburgh xxup abc switch xxmaj chicago game come back xxmaj pittsburgh game updates game gets closer xxmaj xxunk xxup abc xxunk huge ratings hockey standards since xxmaj top xxup us xxup tv markets involved xxup ny xxunk area xxup ny xxmaj islanders xxup nj xxmaj devils xxmaj chicago blackhawks xxup la xxmaj kings xxmaj stay tuned xxmaj thanks xxmaj mike,xxbos xxmaj world xxmaj championships xxmaj germany xxmaj group a results xxup sweden xxup canada st nd xxup can xxmaj geoff xxmaj sanderson xxmaj kevin xxmaj dineen xxup xxunk xxmaj patrik xxmaj xxunk xxmaj jan xxmaj xxunk pp rd xxup can xxmaj geoff xxmaj sanderson ps xxup can xxmaj mike xxmaj gartner xxmaj greg xxmaj xxunk xxmaj adam xxmaj graves xxup can xxmaj rod xxmaj brind xxmaj amour xxmaj shayne xxmaj corson xxmaj shots goal xxmaj penalties xxmaj attendance xxmaj referee xxmaj sweden min xxmaj rob xxmaj xxunk xxup usa xxmaj canada min xxmaj bill xxmaj ranford stopped shots lead xxmaj canada victory well played game xxmaj the first period started give away xxmaj canadian defenseman xxmaj xxunk came alone xxmaj ranford put puck xxunk xxmaj ranford xxmaj later xxmaj kevin xxmaj dineen great opportunity xxmaj soderstrom played well xxmaj xxunk xxmaj nilsson couple great xxunk set xxmaj jan xxmaj xxunk xxmaj ranford came big xxmaj period ended xxunk edge xxmaj sweden creating opportunities xxmaj second period action saw xxmaj tommy xxmaj soderstrom making xxup great save xxmaj mark xxmaj recchi made xxunk cross ice pass xxmaj lindros xxmaj eric one xxunk puck xxmaj soderstrom make glove hand save xxmaj at minute mark xxmaj canada started applying pressure xxmaj xxunk xxmaj sanderson xxmaj dineen xxmaj brind xxmaj amour worked hard kept puck xxmaj xxunk zone xxmaj dineen gave puck xxmaj sanderson skated around xxunk xxmaj swedish defenseman came xxmaj soderstrom made wrist shot went xxmaj soderstrom far post xxmaj canada xxmaj the xxmaj xxunk picked game xxmaj peter xxmaj xxunk shot hit xxmaj ranford post inside went parallel goal line xxmaj then xxmaj gartner got penalty xxmaj xxunk power play xxmaj jan xxmaj xxunk took shot slot xxmaj ranford gave rebound xxmaj xxunk saw xxmaj xxunk far post passed puck xxmaj ranford beat xxmaj third period started periods xxmaj xxunk pressure xxmaj canadians always xxunk close xxmaj xxunk goal xxmaj at xxmaj canada created great chances xxmaj xxunk xxmaj xxunk forced cover puck xxmaj xxunk goal crease since xxmaj soderstrom lost sight xxmaj that xxunk penalty shot since defenseman cover puck goal crease xxmaj geoff xxmaj sanderson took penalty shot first ever explained xxunk put low xxmaj soderstrom stick side close post xxmaj excellent penalty shot give xxmaj canada go ahead goal xxmaj canada increased lead suspect xxunk xxmaj gartner xxunk bouncing puck past xxmaj soderstrom make xxmaj the xxmaj xxunk xxunk gas produce good scoring chances periods xxmaj the goal came second left xxmaj rod xxmaj brind xxmaj amour scoring rebound xxmaj soderstrom xxmaj swedish defense already xxunk xxunk room a good game best xxup wc far goalies playing great xxmaj soderstrom best player xxmaj sweden xxmaj ranford even played better xxmaj soderstrom tells something xxmaj ranford xxmaj probably best goalie world comments game xxmaj canada played disciplined defense xxmaj ranford pointed easy play well good defense xxmaj lindros played a xxup lot played well xxmaj sanderson xxunk game xxunk two goals xxmaj the xxmaj xxunk xxmaj naslund xxmaj xxunk line xxmaj sweden best along xxmaj xxunk xxmaj xxunk xxmaj nilsson xxmaj swedish defense played well xxunk xxunk xxmaj peter xxmaj xxunk task xxunk xxunk xxunk xxmaj eric xxmaj lindros managed well xxmaj ranger defenseman xxmaj peter xxmaj andersson finally got go xxup wc considering xxunk xxmaj germany hours game played well xxmaj swedish coach xxmaj xxunk xxmaj xxunk xxunk game xxunk xxmaj xxunk xxunk score xxunk linesman mistake goal xxmaj lines information follows xxup italy xxup switzerland st nd xxup xxunk xxmaj xxunk rd xxmaj penalties xxup xxunk min xxup xxunk min xxmaj referee xxmaj xxunk xxmaj xxunk xxmaj slovakia xxmaj attendance xxmaj group b results xxup czech xxup republic xxup germany st nd xxup xxunk xxmaj xxunk xxmaj xxunk xxup xxunk xxmaj jiri xxmaj xxunk xxup xxunk xxmaj petr xxmaj xxunk rd xxup xxunk xxmaj xxunk xxmaj xxunk xxup xxunk xxmaj josef xxmaj beranek xxmaj penalties xxup xxunk min xxup xxunk min min min game penalty xxmaj referee xxmaj xxunk xxmaj xxunk xxmaj canada xxmaj attendance xxmaj the xxmaj xxunk clearly better xxmaj xxunk xxmaj german crowd showed xxunk throwing stuff ice xxup finland xxup usa st nd xxup xxunk xxmaj xxunk xxmaj xxunk rd xxup usa xxmaj ed xxmaj olczyk xxmaj penalties xxup xxunk min xxup usa min xxmaj referee xxmaj xxunk xxmaj xxunk xxmaj russia xxmaj attendance i hope xxmaj xxunk provide information game i see whole game xxmaj the xxmaj xxunk took lead xxmaj xxunk xxmaj xxunk slap shot blue line soft goal xxunk xxmaj mike xxmaj richter xxmaj as far play second period goes xxmaj xxunk seemed control lead warranted i saw xxup sweden xxup canada xxmaj goaltender xxmaj tommy xxmaj soderstrom xxmaj bill xxmaj ranford xxmaj defense xxmaj kenneth xxmaj xxunk xxmaj norm xxmaj maciver xxmaj fredrik xxmaj stillman xxmaj dave xxmaj manson xxmaj peter xxmaj xxunk xxmaj geoff xxmaj smith xxmaj peter xxmaj andersson xxmaj brian xxmaj benning xxmaj xxunk xxmaj xxunk xxmaj terry xxmaj carkner xxmaj roger xxmaj xxunk xxmaj garry xxmaj galley xxmaj derek xxmaj xxunk xxmaj forwards xxmaj mikael xxmaj xxunk xxmaj dave xxmaj gagner xxmaj thomas xxmaj xxunk xxmaj adam xxmaj graves xxmaj mikael xxmaj andersson xxmaj mike xxmaj gartner xxmaj markus xxmaj naslund xxmaj paul xxmaj kariya xxmaj peter xxmaj xxunk xxmaj eric xxmaj lindros xxmaj jonas xxmaj xxunk xxmaj mark xxmaj recchi xxmaj patrik xxmaj xxunk xxmaj rod xxmaj brind xxmaj amour xxmaj jan xxmaj xxunk xxmaj shayne xxmaj corson xxmaj xxunk xxmaj nilsson xxmaj kevin xxmaj dineen xxmaj xxunk xxmaj xxunk xxmaj geoff xxmaj sanderson xxmaj michael xxmaj nylander xxmaj greg xxmaj xxunk xxmaj andersson xxmaj xxunk xxmaj brian xxmaj savage xxmaj kelly xxmaj buchberger\n",
              "y: CategoryList\n",
              "1,1,10,10,10\n",
              "Path:  ;\n",
              "\n",
              "Test: None"
            ]
          },
          "metadata": {
            "tags": []
          },
          "execution_count": 74
        }
      ]
    },
    {
      "cell_type": "code",
      "metadata": {
        "id": "sW9AJkEITU9A",
        "colab_type": "code",
        "colab": {}
      },
      "source": [
        "# FINE-TUNING THE PRE-TRAINED MODEL\n",
        "# Create a learner object: learn. It will directly create a model\n",
        "\n",
        "learn = language_model_learner(data_lm, arch = AWD_LSTM, pretrained = True,  \n",
        "                               drop_mult=0.7)\n",
        "\n",
        "\n"
      ],
      "execution_count": 0,
      "outputs": []
    },
    {
      "cell_type": "code",
      "metadata": {
        "id": "IQnkv58tXxnZ",
        "colab_type": "code",
        "colab": {
          "base_uri": "https://localhost:8080/",
          "height": 81
        },
        "outputId": "dba94b01-ff0e-46bc-bf63-d9601c0d09ad"
      },
      "source": [
        "# Train the learner object with learning rate = 1e-2\n",
        "learn.fit_one_cycle(1, 1e-2)\n"
      ],
      "execution_count": 120,
      "outputs": [
        {
          "output_type": "display_data",
          "data": {
            "text/html": [
              "<table border=\"1\" class=\"dataframe\">\n",
              "  <thead>\n",
              "    <tr style=\"text-align: left;\">\n",
              "      <th>epoch</th>\n",
              "      <th>train_loss</th>\n",
              "      <th>valid_loss</th>\n",
              "      <th>accuracy</th>\n",
              "      <th>time</th>\n",
              "    </tr>\n",
              "  </thead>\n",
              "  <tbody>\n",
              "    <tr>\n",
              "      <td>0</td>\n",
              "      <td>0.690997</td>\n",
              "      <td>0.700306</td>\n",
              "      <td>0.493671</td>\n",
              "      <td>00:14</td>\n",
              "    </tr>\n",
              "  </tbody>\n",
              "</table>"
            ],
            "text/plain": [
              "<IPython.core.display.HTML object>"
            ]
          },
          "metadata": {
            "tags": []
          }
        }
      ]
    },
    {
      "cell_type": "code",
      "metadata": {
        "id": "kogbvE8_kE7w",
        "colab_type": "code",
        "colab": {
          "base_uri": "https://localhost:8080/",
          "height": 282
        },
        "outputId": "2ad12e31-8775-48e5-fe80-ac0468da8392"
      },
      "source": [
        "learn.recorder.plot()"
      ],
      "execution_count": 121,
      "outputs": [
        {
          "output_type": "display_data",
          "data": {
            "image/png": "[encoded data removed]",
            "text/plain": [
              "<Figure size 432x288 with 1 Axes>"
            ]
          },
          "metadata": {
            "tags": []
          }
        }
      ]
    },
    {
      "cell_type": "code",
      "metadata": {
        "id": "3hC85wiZZU2h",
        "colab_type": "code",
        "colab": {}
      },
      "source": [
        "# Save this encoder to use it for classification later\n",
        "learn.save_encoder('ft_enc')"
      ],
      "execution_count": 0,
      "outputs": []
    },
    {
      "cell_type": "code",
      "metadata": {
        "id": "SCFF2u80kD06",
        "colab_type": "code",
        "colab": {}
      },
      "source": [
        ""
      ],
      "execution_count": 0,
      "outputs": []
    },
    {
      "cell_type": "code",
      "metadata": {
        "id": "LtHxP-SPaA3d",
        "colab_type": "code",
        "colab": {
          "base_uri": "https://localhost:8080/",
          "height": 1000
        },
        "outputId": "a15f999c-89ec-4f5a-ae46-6756c224512f"
      },
      "source": [
        "# Use the data_clas object to build a classifier with our fine-tuned encoder\n",
        "learn = text_classifier_learner(data_clas, arch = AWD_LSTM, drop_mult=0.7) \n",
        "learn.load_encoder('ft_enc')\n"
      ],
      "execution_count": 117,
      "outputs": [
        {
          "output_type": "execute_result",
          "data": {
            "text/plain": [
              "RNNLearner(data=TextClasDataBunch;\n",
              "\n",
              "Train: LabelList (710 items)\n",
              "x: TextList\n",
              "xxbos xxmaj it looks like xxmaj edmonton xxmaj oilers decided take xxmaj european xxunk spring xxmaj ranford xxmaj tugnutt xxmaj benning xxmaj manson xxmaj smith xxmaj buchberger xxmaj corson playing xxmaj canada xxmaj podein xxmaj weight playing xxup us xxmaj is xxmaj kravchuk playing xxmaj xxunk i know nagging injuries late season xxmaj podein interesting case eligible play xxmaj cape xxmaj breton xxup ahl playoffs like xxmaj kovalev xxmaj zubov xxmaj andersson obviously xxmaj sather xxmaj pocklington total xxunk everyone makes certainly case massively xxunk xxmaj paramount xxmaj new xxmaj york xxmaj rangers,xxbos xxmaj this xxunk xxmaj speaking die hard i i read xxunk hard xxunk xxmaj toronto xxmaj cup finals xxmaj first anyone planet heard team xxmaj detroit xxmaj al xxmaj xxunk however spell idiot name must xxmaj chicago xxup espn said even close xxmaj chicago xxunk win xxmaj norris xxmaj division xxmaj playoffs team close xxmaj everyone picking xxmaj chicago i get says easy choice xxmaj god xxmaj chicago xxmaj wings division point two followed closely xxmaj toronto also good team xxmaj as xxmaj leafs beating xxmaj detroit doubt even going get xxmaj chicago xxmaj if even xxunk get past xxmaj hawks would probably face xxmaj vancouver lose xxmaj as xxmaj the xxmaj habs reaching xxmaj finals forget xxmaj even i devoted xxmaj wings fan watch xxmaj penguins easily three xxunk xxmaj cup winners xxmaj lemieux xxmaj jagr xxmaj tocchet xxmaj stevens xxmaj barrasso done deal xxmaj sorry xxmaj detroit wait xxunk next year xxmaj but hey xxmaj paul picks everyone right xxunk xxmaj leafs xxmaj finals xxmaj yeah xxmaj if make i walk xxmaj toronto get tickets mile walk xxmaj ryan,xxbos xxmaj the idea clip one polygon using another polygon necessarily rectangular window xxmaj my problem finding new vertices resulting xxunk first one xxmaj is simply matter extending usual algorithm whereby edges one polygon checked another polygon xxmaj is simpler way xxmaj comments welcome,xxbos i xxmaj edmonton usually least xxup often case xxunk actual xxup abc xxunk xxmaj kings xxmaj flames game i whoever said earlier xxmaj don xxmaj xxunk er xxmaj whitman poor commentator hockey xxmaj normally xxmaj oilers still playing xxunk i would turn sound listen radio broadcast get decent play play announcing,xxbos xxmaj you know absolutely right i think round players xxmaj european xxunk ship em back came xxmaj let see start i dunno xxmaj lemieux xxmaj hmmm sounds like xxmaj french blood xxmaj hey xxmaj france part xxmaj europe xxmaj send xxmaj xxunk xxunk boy back xxmaj sheesh i think would hard find xxmaj native xxmaj americans xxmaj native xxmaj canadians matter would xxunk claim great continent xxmaj ya see believe xxunk xxunk sort xxmaj if really think xxmaj mogilny xxmaj bure xxmaj selanne et al improved xxup nhl i sure understand game\n",
              "y: CategoryList\n",
              "10,10,1,10,10\n",
              "Path:  ;\n",
              "\n",
              "Valid: LabelList (474 items)\n",
              "x: TextList\n",
              "xxbos i looking source code radiosity method i know kind machine want program xxmaj radiance comes c source code i ftp access i tell get via way,xxbos i interested information xxunk imaging sun workstation xxmaj for part i need know hardware available interface system whether xxunk rates sufficient produce quality image xxunk xxmaj any information subject would greatly appreciated,xxbos xxmaj does anyone xxup nhl xxup standings xxmaj march th i need xxup xxunk project xxmaj please post email xxup thanks,xxbos a little xxunk xxmaj basic xxmaj mike info xxmaj for xxmaj xxunk xxunk xxup abc announcing xxunk xxmaj devils xxmaj isles xxmaj pittsburgh xxmaj gary xxmaj thorne play play xxmaj bill xxmaj clement color xxmaj al xxmaj xxunk xxunk xxunk outside xxunk xxunk xxmaj this xxunk primarily seen xxmaj east xxmaj coast xxmaj st xxmaj louis xxmaj chicago xxmaj mike xxmaj xxunk play play xxmaj jim xxmaj xxunk color xxmaj tom xxmaj xxunk xxunk xxunk xxmaj this xxunk primarily seen xxmaj midwest parts xxmaj south xxup la xxmaj calgary xxmaj al xxmaj do xxmaj you xxmaj believe xxmaj xxunk xxmaj michaels play play xxmaj john xxmaj davidson color xxmaj mark xxmaj jones xxunk reporter xxmaj this xxunk seen xxmaj western xxup usa xxmaj montreal xxunk xxmaj xxunk xxmaj xxunk xxunk studio xxup abc xxmaj up xxmaj close xxmaj personal xxmaj mario xxmaj saturday xxmaj wide xxmaj world xxmaj sports xxup edt xxmaj sunday first xxup nhl playoff regular network xxunk years counting silly xxmaj all xxmaj star games xxup xxunk last years xxmaj for xxmaj sunday games xxup abc use xxunk behind goal super super xxunk xxunk close xxunk player faces face xxunk xxup espn xxup abc able use new favorite xxunk ice level shot xxmaj pittsburgh many seats would removed xxunk xxmaj in case blowout xxunk xxmaj pittsburgh xxup abc switch xxmaj chicago game come back xxmaj pittsburgh game updates game gets closer xxmaj xxunk xxup abc xxunk huge ratings hockey standards since xxmaj top xxup us xxup tv markets involved xxup ny xxunk area xxup ny xxmaj islanders xxup nj xxmaj devils xxmaj chicago blackhawks xxup la xxmaj kings xxmaj stay tuned xxmaj thanks xxmaj mike,xxbos xxmaj world xxmaj championships xxmaj germany xxmaj group a results xxup sweden xxup canada st nd xxup can xxmaj geoff xxmaj sanderson xxmaj kevin xxmaj dineen xxup xxunk xxmaj patrik xxmaj xxunk xxmaj jan xxmaj xxunk pp rd xxup can xxmaj geoff xxmaj sanderson ps xxup can xxmaj mike xxmaj gartner xxmaj greg xxmaj xxunk xxmaj adam xxmaj graves xxup can xxmaj rod xxmaj brind xxmaj amour xxmaj shayne xxmaj corson xxmaj shots goal xxmaj penalties xxmaj attendance xxmaj referee xxmaj sweden min xxmaj rob xxmaj xxunk xxup usa xxmaj canada min xxmaj bill xxmaj ranford stopped shots lead xxmaj canada victory well played game xxmaj the first period started give away xxmaj canadian defenseman xxmaj xxunk came alone xxmaj ranford put puck xxunk xxmaj ranford xxmaj later xxmaj kevin xxmaj dineen great opportunity xxmaj soderstrom played well xxmaj xxunk xxmaj nilsson couple great xxunk set xxmaj jan xxmaj xxunk xxmaj ranford came big xxmaj period ended xxunk edge xxmaj sweden creating opportunities xxmaj second period action saw xxmaj tommy xxmaj soderstrom making xxup great save xxmaj mark xxmaj recchi made xxunk cross ice pass xxmaj lindros xxmaj eric one xxunk puck xxmaj soderstrom make glove hand save xxmaj at minute mark xxmaj canada started applying pressure xxmaj xxunk xxmaj sanderson xxmaj dineen xxmaj brind xxmaj amour worked hard kept puck xxmaj xxunk zone xxmaj dineen gave puck xxmaj sanderson skated around xxunk xxmaj swedish defenseman came xxmaj soderstrom made wrist shot went xxmaj soderstrom far post xxmaj canada xxmaj the xxmaj xxunk picked game xxmaj peter xxmaj xxunk shot hit xxmaj ranford post inside went parallel goal line xxmaj then xxmaj gartner got penalty xxmaj xxunk power play xxmaj jan xxmaj xxunk took shot slot xxmaj ranford gave rebound xxmaj xxunk saw xxmaj xxunk far post passed puck xxmaj ranford beat xxmaj third period started periods xxmaj xxunk pressure xxmaj canadians always xxunk close xxmaj xxunk goal xxmaj at xxmaj canada created great chances xxmaj xxunk xxmaj xxunk forced cover puck xxmaj xxunk goal crease since xxmaj soderstrom lost sight xxmaj that xxunk penalty shot since defenseman cover puck goal crease xxmaj geoff xxmaj sanderson took penalty shot first ever explained xxunk put low xxmaj soderstrom stick side close post xxmaj excellent penalty shot give xxmaj canada go ahead goal xxmaj canada increased lead suspect xxunk xxmaj gartner xxunk bouncing puck past xxmaj soderstrom make xxmaj the xxmaj xxunk xxunk gas produce good scoring chances periods xxmaj the goal came second left xxmaj rod xxmaj brind xxmaj amour scoring rebound xxmaj soderstrom xxmaj swedish defense already xxunk xxunk room a good game best xxup wc far goalies playing great xxmaj soderstrom best player xxmaj sweden xxmaj ranford even played better xxmaj soderstrom tells something xxmaj ranford xxmaj probably best goalie world comments game xxmaj canada played disciplined defense xxmaj ranford pointed easy play well good defense xxmaj lindros played a xxup lot played well xxmaj sanderson xxunk game xxunk two goals xxmaj the xxmaj xxunk xxmaj naslund xxmaj xxunk line xxmaj sweden best along xxmaj xxunk xxmaj xxunk xxmaj nilsson xxmaj swedish defense played well xxunk xxunk xxmaj peter xxmaj xxunk task xxunk xxunk xxunk xxmaj eric xxmaj lindros managed well xxmaj ranger defenseman xxmaj peter xxmaj andersson finally got go xxup wc considering xxunk xxmaj germany hours game played well xxmaj swedish coach xxmaj xxunk xxmaj xxunk xxunk game xxunk xxmaj xxunk xxunk score xxunk linesman mistake goal xxmaj lines information follows xxup italy xxup switzerland st nd xxup xxunk xxmaj xxunk rd xxmaj penalties xxup xxunk min xxup xxunk min xxmaj referee xxmaj xxunk xxmaj xxunk xxmaj slovakia xxmaj attendance xxmaj group b results xxup czech xxup republic xxup germany st nd xxup xxunk xxmaj xxunk xxmaj xxunk xxup xxunk xxmaj jiri xxmaj xxunk xxup xxunk xxmaj petr xxmaj xxunk rd xxup xxunk xxmaj xxunk xxmaj xxunk xxup xxunk xxmaj josef xxmaj beranek xxmaj penalties xxup xxunk min xxup xxunk min min min game penalty xxmaj referee xxmaj xxunk xxmaj xxunk xxmaj canada xxmaj attendance xxmaj the xxmaj xxunk clearly better xxmaj xxunk xxmaj german crowd showed xxunk throwing stuff ice xxup finland xxup usa st nd xxup xxunk xxmaj xxunk xxmaj xxunk rd xxup usa xxmaj ed xxmaj olczyk xxmaj penalties xxup xxunk min xxup usa min xxmaj referee xxmaj xxunk xxmaj xxunk xxmaj russia xxmaj attendance i hope xxmaj xxunk provide information game i see whole game xxmaj the xxmaj xxunk took lead xxmaj xxunk xxmaj xxunk slap shot blue line soft goal xxunk xxmaj mike xxmaj richter xxmaj as far play second period goes xxmaj xxunk seemed control lead warranted i saw xxup sweden xxup canada xxmaj goaltender xxmaj tommy xxmaj soderstrom xxmaj bill xxmaj ranford xxmaj defense xxmaj kenneth xxmaj xxunk xxmaj norm xxmaj maciver xxmaj fredrik xxmaj stillman xxmaj dave xxmaj manson xxmaj peter xxmaj xxunk xxmaj geoff xxmaj smith xxmaj peter xxmaj andersson xxmaj brian xxmaj benning xxmaj xxunk xxmaj xxunk xxmaj terry xxmaj carkner xxmaj roger xxmaj xxunk xxmaj garry xxmaj galley xxmaj derek xxmaj xxunk xxmaj forwards xxmaj mikael xxmaj xxunk xxmaj dave xxmaj gagner xxmaj thomas xxmaj xxunk xxmaj adam xxmaj graves xxmaj mikael xxmaj andersson xxmaj mike xxmaj gartner xxmaj markus xxmaj naslund xxmaj paul xxmaj kariya xxmaj peter xxmaj xxunk xxmaj eric xxmaj lindros xxmaj jonas xxmaj xxunk xxmaj mark xxmaj recchi xxmaj patrik xxmaj xxunk xxmaj rod xxmaj brind xxmaj amour xxmaj jan xxmaj xxunk xxmaj shayne xxmaj corson xxmaj xxunk xxmaj nilsson xxmaj kevin xxmaj dineen xxmaj xxunk xxmaj xxunk xxmaj geoff xxmaj sanderson xxmaj michael xxmaj nylander xxmaj greg xxmaj xxunk xxmaj andersson xxmaj xxunk xxmaj brian xxmaj savage xxmaj kelly xxmaj buchberger\n",
              "y: CategoryList\n",
              "1,1,10,10,10\n",
              "Path:  ;\n",
              "\n",
              "Test: None, model=SequentialRNN(\n",
              "  (0): MultiBatchEncoder(\n",
              "    (module): AWD_LSTM(\n",
              "      (encoder): Embedding(6600, 400, padding_idx=1)\n",
              "      (encoder_dp): EmbeddingDropout(\n",
              "        (emb): Embedding(6600, 400, padding_idx=1)\n",
              "      )\n",
              "      (rnns): ModuleList(\n",
              "        (0): WeightDropout(\n",
              "          (module): LSTM(400, 1152, batch_first=True)\n",
              "        )\n",
              "        (1): WeightDropout(\n",
              "          (module): LSTM(1152, 1152, batch_first=True)\n",
              "        )\n",
              "        (2): WeightDropout(\n",
              "          (module): LSTM(1152, 400, batch_first=True)\n",
              "        )\n",
              "      )\n",
              "      (input_dp): RNNDropout()\n",
              "      (hidden_dps): ModuleList(\n",
              "        (0): RNNDropout()\n",
              "        (1): RNNDropout()\n",
              "        (2): RNNDropout()\n",
              "      )\n",
              "    )\n",
              "  )\n",
              "  (1): PoolingLinearClassifier(\n",
              "    (layers): Sequential(\n",
              "      (0): BatchNorm1d(1200, eps=1e-05, momentum=0.1, affine=True, track_running_stats=True)\n",
              "      (1): Dropout(p=0.27999999999999997, inplace=False)\n",
              "      (2): Linear(in_features=1200, out_features=50, bias=True)\n",
              "      (3): ReLU(inplace=True)\n",
              "      (4): BatchNorm1d(50, eps=1e-05, momentum=0.1, affine=True, track_running_stats=True)\n",
              "      (5): Dropout(p=0.1, inplace=False)\n",
              "      (6): Linear(in_features=50, out_features=2, bias=True)\n",
              "    )\n",
              "  )\n",
              "), opt_func=functools.partial(<class 'torch.optim.adam.Adam'>, betas=(0.9, 0.99)), loss_func=FlattenedLoss of CrossEntropyLoss(), metrics=[<function accuracy at 0x7f0007ae7a60>], true_wd=True, bn_wd=True, wd=0.01, train_bn=True, path=PosixPath(' '), model_dir='models', callback_fns=[functools.partial(<class 'fastai.basic_train.Recorder'>, add_time=True, silent=False)], callbacks=[RNNTrainer\n",
              "learn: RNNLearner(data=TextClasDataBunch;\n",
              "\n",
              "Train: LabelList (710 items)\n",
              "x: TextList\n",
              "xxbos xxmaj it looks like xxmaj edmonton xxmaj oilers decided take xxmaj european xxunk spring xxmaj ranford xxmaj tugnutt xxmaj benning xxmaj manson xxmaj smith xxmaj buchberger xxmaj corson playing xxmaj canada xxmaj podein xxmaj weight playing xxup us xxmaj is xxmaj kravchuk playing xxmaj xxunk i know nagging injuries late season xxmaj podein interesting case eligible play xxmaj cape xxmaj breton xxup ahl playoffs like xxmaj kovalev xxmaj zubov xxmaj andersson obviously xxmaj sather xxmaj pocklington total xxunk everyone makes certainly case massively xxunk xxmaj paramount xxmaj new xxmaj york xxmaj rangers,xxbos xxmaj this xxunk xxmaj speaking die hard i i read xxunk hard xxunk xxmaj toronto xxmaj cup finals xxmaj first anyone planet heard team xxmaj detroit xxmaj al xxmaj xxunk however spell idiot name must xxmaj chicago xxup espn said even close xxmaj chicago xxunk win xxmaj norris xxmaj division xxmaj playoffs team close xxmaj everyone picking xxmaj chicago i get says easy choice xxmaj god xxmaj chicago xxmaj wings division point two followed closely xxmaj toronto also good team xxmaj as xxmaj leafs beating xxmaj detroit doubt even going get xxmaj chicago xxmaj if even xxunk get past xxmaj hawks would probably face xxmaj vancouver lose xxmaj as xxmaj the xxmaj habs reaching xxmaj finals forget xxmaj even i devoted xxmaj wings fan watch xxmaj penguins easily three xxunk xxmaj cup winners xxmaj lemieux xxmaj jagr xxmaj tocchet xxmaj stevens xxmaj barrasso done deal xxmaj sorry xxmaj detroit wait xxunk next year xxmaj but hey xxmaj paul picks everyone right xxunk xxmaj leafs xxmaj finals xxmaj yeah xxmaj if make i walk xxmaj toronto get tickets mile walk xxmaj ryan,xxbos xxmaj the idea clip one polygon using another polygon necessarily rectangular window xxmaj my problem finding new vertices resulting xxunk first one xxmaj is simply matter extending usual algorithm whereby edges one polygon checked another polygon xxmaj is simpler way xxmaj comments welcome,xxbos i xxmaj edmonton usually least xxup often case xxunk actual xxup abc xxunk xxmaj kings xxmaj flames game i whoever said earlier xxmaj don xxmaj xxunk er xxmaj whitman poor commentator hockey xxmaj normally xxmaj oilers still playing xxunk i would turn sound listen radio broadcast get decent play play announcing,xxbos xxmaj you know absolutely right i think round players xxmaj european xxunk ship em back came xxmaj let see start i dunno xxmaj lemieux xxmaj hmmm sounds like xxmaj french blood xxmaj hey xxmaj france part xxmaj europe xxmaj send xxmaj xxunk xxunk boy back xxmaj sheesh i think would hard find xxmaj native xxmaj americans xxmaj native xxmaj canadians matter would xxunk claim great continent xxmaj ya see believe xxunk xxunk sort xxmaj if really think xxmaj mogilny xxmaj bure xxmaj selanne et al improved xxup nhl i sure understand game\n",
              "y: CategoryList\n",
              "10,10,1,10,10\n",
              "Path:  ;\n",
              "\n",
              "Valid: LabelList (474 items)\n",
              "x: TextList\n",
              "xxbos i looking source code radiosity method i know kind machine want program xxmaj radiance comes c source code i ftp access i tell get via way,xxbos i interested information xxunk imaging sun workstation xxmaj for part i need know hardware available interface system whether xxunk rates sufficient produce quality image xxunk xxmaj any information subject would greatly appreciated,xxbos xxmaj does anyone xxup nhl xxup standings xxmaj march th i need xxup xxunk project xxmaj please post email xxup thanks,xxbos a little xxunk xxmaj basic xxmaj mike info xxmaj for xxmaj xxunk xxunk xxup abc announcing xxunk xxmaj devils xxmaj isles xxmaj pittsburgh xxmaj gary xxmaj thorne play play xxmaj bill xxmaj clement color xxmaj al xxmaj xxunk xxunk xxunk outside xxunk xxunk xxmaj this xxunk primarily seen xxmaj east xxmaj coast xxmaj st xxmaj louis xxmaj chicago xxmaj mike xxmaj xxunk play play xxmaj jim xxmaj xxunk color xxmaj tom xxmaj xxunk xxunk xxunk xxmaj this xxunk primarily seen xxmaj midwest parts xxmaj south xxup la xxmaj calgary xxmaj al xxmaj do xxmaj you xxmaj believe xxmaj xxunk xxmaj michaels play play xxmaj john xxmaj davidson color xxmaj mark xxmaj jones xxunk reporter xxmaj this xxunk seen xxmaj western xxup usa xxmaj montreal xxunk xxmaj xxunk xxmaj xxunk xxunk studio xxup abc xxmaj up xxmaj close xxmaj personal xxmaj mario xxmaj saturday xxmaj wide xxmaj world xxmaj sports xxup edt xxmaj sunday first xxup nhl playoff regular network xxunk years counting silly xxmaj all xxmaj star games xxup xxunk last years xxmaj for xxmaj sunday games xxup abc use xxunk behind goal super super xxunk xxunk close xxunk player faces face xxunk xxup espn xxup abc able use new favorite xxunk ice level shot xxmaj pittsburgh many seats would removed xxunk xxmaj in case blowout xxunk xxmaj pittsburgh xxup abc switch xxmaj chicago game come back xxmaj pittsburgh game updates game gets closer xxmaj xxunk xxup abc xxunk huge ratings hockey standards since xxmaj top xxup us xxup tv markets involved xxup ny xxunk area xxup ny xxmaj islanders xxup nj xxmaj devils xxmaj chicago blackhawks xxup la xxmaj kings xxmaj stay tuned xxmaj thanks xxmaj mike,xxbos xxmaj world xxmaj championships xxmaj germany xxmaj group a results xxup sweden xxup canada st nd xxup can xxmaj geoff xxmaj sanderson xxmaj kevin xxmaj dineen xxup xxunk xxmaj patrik xxmaj xxunk xxmaj jan xxmaj xxunk pp rd xxup can xxmaj geoff xxmaj sanderson ps xxup can xxmaj mike xxmaj gartner xxmaj greg xxmaj xxunk xxmaj adam xxmaj graves xxup can xxmaj rod xxmaj brind xxmaj amour xxmaj shayne xxmaj corson xxmaj shots goal xxmaj penalties xxmaj attendance xxmaj referee xxmaj sweden min xxmaj rob xxmaj xxunk xxup usa xxmaj canada min xxmaj bill xxmaj ranford stopped shots lead xxmaj canada victory well played game xxmaj the first period started give away xxmaj canadian defenseman xxmaj xxunk came alone xxmaj ranford put puck xxunk xxmaj ranford xxmaj later xxmaj kevin xxmaj dineen great opportunity xxmaj soderstrom played well xxmaj xxunk xxmaj nilsson couple great xxunk set xxmaj jan xxmaj xxunk xxmaj ranford came big xxmaj period ended xxunk edge xxmaj sweden creating opportunities xxmaj second period action saw xxmaj tommy xxmaj soderstrom making xxup great save xxmaj mark xxmaj recchi made xxunk cross ice pass xxmaj lindros xxmaj eric one xxunk puck xxmaj soderstrom make glove hand save xxmaj at minute mark xxmaj canada started applying pressure xxmaj xxunk xxmaj sanderson xxmaj dineen xxmaj brind xxmaj amour worked hard kept puck xxmaj xxunk zone xxmaj dineen gave puck xxmaj sanderson skated around xxunk xxmaj swedish defenseman came xxmaj soderstrom made wrist shot went xxmaj soderstrom far post xxmaj canada xxmaj the xxmaj xxunk picked game xxmaj peter xxmaj xxunk shot hit xxmaj ranford post inside went parallel goal line xxmaj then xxmaj gartner got penalty xxmaj xxunk power play xxmaj jan xxmaj xxunk took shot slot xxmaj ranford gave rebound xxmaj xxunk saw xxmaj xxunk far post passed puck xxmaj ranford beat xxmaj third period started periods xxmaj xxunk pressure xxmaj canadians always xxunk close xxmaj xxunk goal xxmaj at xxmaj canada created great chances xxmaj xxunk xxmaj xxunk forced cover puck xxmaj xxunk goal crease since xxmaj soderstrom lost sight xxmaj that xxunk penalty shot since defenseman cover puck goal crease xxmaj geoff xxmaj sanderson took penalty shot first ever explained xxunk put low xxmaj soderstrom stick side close post xxmaj excellent penalty shot give xxmaj canada go ahead goal xxmaj canada increased lead suspect xxunk xxmaj gartner xxunk bouncing puck past xxmaj soderstrom make xxmaj the xxmaj xxunk xxunk gas produce good scoring chances periods xxmaj the goal came second left xxmaj rod xxmaj brind xxmaj amour scoring rebound xxmaj soderstrom xxmaj swedish defense already xxunk xxunk room a good game best xxup wc far goalies playing great xxmaj soderstrom best player xxmaj sweden xxmaj ranford even played better xxmaj soderstrom tells something xxmaj ranford xxmaj probably best goalie world comments game xxmaj canada played disciplined defense xxmaj ranford pointed easy play well good defense xxmaj lindros played a xxup lot played well xxmaj sanderson xxunk game xxunk two goals xxmaj the xxmaj xxunk xxmaj naslund xxmaj xxunk line xxmaj sweden best along xxmaj xxunk xxmaj xxunk xxmaj nilsson xxmaj swedish defense played well xxunk xxunk xxmaj peter xxmaj xxunk task xxunk xxunk xxunk xxmaj eric xxmaj lindros managed well xxmaj ranger defenseman xxmaj peter xxmaj andersson finally got go xxup wc considering xxunk xxmaj germany hours game played well xxmaj swedish coach xxmaj xxunk xxmaj xxunk xxunk game xxunk xxmaj xxunk xxunk score xxunk linesman mistake goal xxmaj lines information follows xxup italy xxup switzerland st nd xxup xxunk xxmaj xxunk rd xxmaj penalties xxup xxunk min xxup xxunk min xxmaj referee xxmaj xxunk xxmaj xxunk xxmaj slovakia xxmaj attendance xxmaj group b results xxup czech xxup republic xxup germany st nd xxup xxunk xxmaj xxunk xxmaj xxunk xxup xxunk xxmaj jiri xxmaj xxunk xxup xxunk xxmaj petr xxmaj xxunk rd xxup xxunk xxmaj xxunk xxmaj xxunk xxup xxunk xxmaj josef xxmaj beranek xxmaj penalties xxup xxunk min xxup xxunk min min min game penalty xxmaj referee xxmaj xxunk xxmaj xxunk xxmaj canada xxmaj attendance xxmaj the xxmaj xxunk clearly better xxmaj xxunk xxmaj german crowd showed xxunk throwing stuff ice xxup finland xxup usa st nd xxup xxunk xxmaj xxunk xxmaj xxunk rd xxup usa xxmaj ed xxmaj olczyk xxmaj penalties xxup xxunk min xxup usa min xxmaj referee xxmaj xxunk xxmaj xxunk xxmaj russia xxmaj attendance i hope xxmaj xxunk provide information game i see whole game xxmaj the xxmaj xxunk took lead xxmaj xxunk xxmaj xxunk slap shot blue line soft goal xxunk xxmaj mike xxmaj richter xxmaj as far play second period goes xxmaj xxunk seemed control lead warranted i saw xxup sweden xxup canada xxmaj goaltender xxmaj tommy xxmaj soderstrom xxmaj bill xxmaj ranford xxmaj defense xxmaj kenneth xxmaj xxunk xxmaj norm xxmaj maciver xxmaj fredrik xxmaj stillman xxmaj dave xxmaj manson xxmaj peter xxmaj xxunk xxmaj geoff xxmaj smith xxmaj peter xxmaj andersson xxmaj brian xxmaj benning xxmaj xxunk xxmaj xxunk xxmaj terry xxmaj carkner xxmaj roger xxmaj xxunk xxmaj garry xxmaj galley xxmaj derek xxmaj xxunk xxmaj forwards xxmaj mikael xxmaj xxunk xxmaj dave xxmaj gagner xxmaj thomas xxmaj xxunk xxmaj adam xxmaj graves xxmaj mikael xxmaj andersson xxmaj mike xxmaj gartner xxmaj markus xxmaj naslund xxmaj paul xxmaj kariya xxmaj peter xxmaj xxunk xxmaj eric xxmaj lindros xxmaj jonas xxmaj xxunk xxmaj mark xxmaj recchi xxmaj patrik xxmaj xxunk xxmaj rod xxmaj brind xxmaj amour xxmaj jan xxmaj xxunk xxmaj shayne xxmaj corson xxmaj xxunk xxmaj nilsson xxmaj kevin xxmaj dineen xxmaj xxunk xxmaj xxunk xxmaj geoff xxmaj sanderson xxmaj michael xxmaj nylander xxmaj greg xxmaj xxunk xxmaj andersson xxmaj xxunk xxmaj brian xxmaj savage xxmaj kelly xxmaj buchberger\n",
              "y: CategoryList\n",
              "1,1,10,10,10\n",
              "Path:  ;\n",
              "\n",
              "Test: None, model=SequentialRNN(\n",
              "  (0): MultiBatchEncoder(\n",
              "    (module): AWD_LSTM(\n",
              "      (encoder): Embedding(6600, 400, padding_idx=1)\n",
              "      (encoder_dp): EmbeddingDropout(\n",
              "        (emb): Embedding(6600, 400, padding_idx=1)\n",
              "      )\n",
              "      (rnns): ModuleList(\n",
              "        (0): WeightDropout(\n",
              "          (module): LSTM(400, 1152, batch_first=True)\n",
              "        )\n",
              "        (1): WeightDropout(\n",
              "          (module): LSTM(1152, 1152, batch_first=True)\n",
              "        )\n",
              "        (2): WeightDropout(\n",
              "          (module): LSTM(1152, 400, batch_first=True)\n",
              "        )\n",
              "      )\n",
              "      (input_dp): RNNDropout()\n",
              "      (hidden_dps): ModuleList(\n",
              "        (0): RNNDropout()\n",
              "        (1): RNNDropout()\n",
              "        (2): RNNDropout()\n",
              "      )\n",
              "    )\n",
              "  )\n",
              "  (1): PoolingLinearClassifier(\n",
              "    (layers): Sequential(\n",
              "      (0): BatchNorm1d(1200, eps=1e-05, momentum=0.1, affine=True, track_running_stats=True)\n",
              "      (1): Dropout(p=0.27999999999999997, inplace=False)\n",
              "      (2): Linear(in_features=1200, out_features=50, bias=True)\n",
              "      (3): ReLU(inplace=True)\n",
              "      (4): BatchNorm1d(50, eps=1e-05, momentum=0.1, affine=True, track_running_stats=True)\n",
              "      (5): Dropout(p=0.1, inplace=False)\n",
              "      (6): Linear(in_features=50, out_features=2, bias=True)\n",
              "    )\n",
              "  )\n",
              "), opt_func=functools.partial(<class 'torch.optim.adam.Adam'>, betas=(0.9, 0.99)), loss_func=FlattenedLoss of CrossEntropyLoss(), metrics=[<function accuracy at 0x7f0007ae7a60>], true_wd=True, bn_wd=True, wd=0.01, train_bn=True, path=PosixPath(' '), model_dir='models', callback_fns=[functools.partial(<class 'fastai.basic_train.Recorder'>, add_time=True, silent=False)], callbacks=[...], layer_groups=[Sequential(\n",
              "  (0): Embedding(6600, 400, padding_idx=1)\n",
              "  (1): EmbeddingDropout(\n",
              "    (emb): Embedding(6600, 400, padding_idx=1)\n",
              "  )\n",
              "), Sequential(\n",
              "  (0): WeightDropout(\n",
              "    (module): LSTM(400, 1152, batch_first=True)\n",
              "  )\n",
              "  (1): RNNDropout()\n",
              "), Sequential(\n",
              "  (0): WeightDropout(\n",
              "    (module): LSTM(1152, 1152, batch_first=True)\n",
              "  )\n",
              "  (1): RNNDropout()\n",
              "), Sequential(\n",
              "  (0): WeightDropout(\n",
              "    (module): LSTM(1152, 400, batch_first=True)\n",
              "  )\n",
              "  (1): RNNDropout()\n",
              "), Sequential(\n",
              "  (0): PoolingLinearClassifier(\n",
              "    (layers): Sequential(\n",
              "      (0): BatchNorm1d(1200, eps=1e-05, momentum=0.1, affine=True, track_running_stats=True)\n",
              "      (1): Dropout(p=0.27999999999999997, inplace=False)\n",
              "      (2): Linear(in_features=1200, out_features=50, bias=True)\n",
              "      (3): ReLU(inplace=True)\n",
              "      (4): BatchNorm1d(50, eps=1e-05, momentum=0.1, affine=True, track_running_stats=True)\n",
              "      (5): Dropout(p=0.1, inplace=False)\n",
              "      (6): Linear(in_features=50, out_features=2, bias=True)\n",
              "    )\n",
              "  )\n",
              ")], add_time=True, silent=False)\n",
              "alpha: 2.0\n",
              "beta: 1.0], layer_groups=[Sequential(\n",
              "  (0): Embedding(6600, 400, padding_idx=1)\n",
              "  (1): EmbeddingDropout(\n",
              "    (emb): Embedding(6600, 400, padding_idx=1)\n",
              "  )\n",
              "), Sequential(\n",
              "  (0): WeightDropout(\n",
              "    (module): LSTM(400, 1152, batch_first=True)\n",
              "  )\n",
              "  (1): RNNDropout()\n",
              "), Sequential(\n",
              "  (0): WeightDropout(\n",
              "    (module): LSTM(1152, 1152, batch_first=True)\n",
              "  )\n",
              "  (1): RNNDropout()\n",
              "), Sequential(\n",
              "  (0): WeightDropout(\n",
              "    (module): LSTM(1152, 400, batch_first=True)\n",
              "  )\n",
              "  (1): RNNDropout()\n",
              "), Sequential(\n",
              "  (0): PoolingLinearClassifier(\n",
              "    (layers): Sequential(\n",
              "      (0): BatchNorm1d(1200, eps=1e-05, momentum=0.1, affine=True, track_running_stats=True)\n",
              "      (1): Dropout(p=0.27999999999999997, inplace=False)\n",
              "      (2): Linear(in_features=1200, out_features=50, bias=True)\n",
              "      (3): ReLU(inplace=True)\n",
              "      (4): BatchNorm1d(50, eps=1e-05, momentum=0.1, affine=True, track_running_stats=True)\n",
              "      (5): Dropout(p=0.1, inplace=False)\n",
              "      (6): Linear(in_features=50, out_features=2, bias=True)\n",
              "    )\n",
              "  )\n",
              ")], add_time=True, silent=False)"
            ]
          },
          "metadata": {
            "tags": []
          },
          "execution_count": 117
        }
      ]
    },
    {
      "cell_type": "code",
      "metadata": {
        "id": "X84mhnPNbyzv",
        "colab_type": "code",
        "colab": {
          "base_uri": "https://localhost:8080/",
          "height": 346
        },
        "outputId": "66b3d535-a2fd-4c48-a1b5-f401b129ed62"
      },
      "source": [
        "# We fit again the model\n",
        "learn.fit_one_cycle(1, 1e-2)\n",
        "learn.recorder.plot()"
      ],
      "execution_count": 122,
      "outputs": [
        {
          "output_type": "display_data",
          "data": {
            "text/html": [
              "<table border=\"1\" class=\"dataframe\">\n",
              "  <thead>\n",
              "    <tr style=\"text-align: left;\">\n",
              "      <th>epoch</th>\n",
              "      <th>train_loss</th>\n",
              "      <th>valid_loss</th>\n",
              "      <th>accuracy</th>\n",
              "      <th>time</th>\n",
              "    </tr>\n",
              "  </thead>\n",
              "  <tbody>\n",
              "    <tr>\n",
              "      <td>0</td>\n",
              "      <td>0.707904</td>\n",
              "      <td>0.693868</td>\n",
              "      <td>0.493671</td>\n",
              "      <td>00:14</td>\n",
              "    </tr>\n",
              "  </tbody>\n",
              "</table>"
            ],
            "text/plain": [
              "<IPython.core.display.HTML object>"
            ]
          },
          "metadata": {
            "tags": []
          }
        },
        {
          "output_type": "display_data",
          "data": {
            "image/png": "[encoded data removed]",
            "text/plain": [
              "<Figure size 432x288 with 1 Axes>"
            ]
          },
          "metadata": {
            "tags": []
          }
        }
      ]
    },
    {
      "cell_type": "code",
      "metadata": {
        "id": "Zvlucn22fFDl",
        "colab_type": "code",
        "colab": {
          "base_uri": "https://localhost:8080/",
          "height": 17
        },
        "outputId": "01bafc28-b19c-4ca8-90f4-5d46a9e44c60"
      },
      "source": [
        "# Predictions for the validation set\n",
        "preds, targets = learn.get_preds() \n",
        "predictions = np.argmax(preds, axis = 1)"
      ],
      "execution_count": 119,
      "outputs": [
        {
          "output_type": "display_data",
          "data": {
            "text/html": [
              ""
            ],
            "text/plain": [
              "<IPython.core.display.HTML object>"
            ]
          },
          "metadata": {
            "tags": []
          }
        }
      ]
    },
    {
      "cell_type": "code",
      "metadata": {
        "id": "mzrzsoo6ksy7",
        "colab_type": "code",
        "colab": {
          "base_uri": "https://localhost:8080/",
          "height": 239
        },
        "outputId": "c75b0380-bdfb-4336-88cf-d8531a49e02d"
      },
      "source": [
        "learn.lr_find()"
      ],
      "execution_count": 123,
      "outputs": [
        {
          "output_type": "display_data",
          "data": {
            "text/html": [
              "\n",
              "    <div>\n",
              "        <style>\n",
              "            /* Turns off some styling */\n",
              "            progress {\n",
              "                /* gets rid of default border in Firefox and Opera. */\n",
              "                border: none;\n",
              "                /* Needs to be in here for Safari polyfill so background images work as expected. */\n",
              "                background-size: auto;\n",
              "            }\n",
              "            .progress-bar-interrupted, .progress-bar-interrupted::-webkit-progress-bar {\n",
              "                background: #F44336;\n",
              "            }\n",
              "        </style>\n",
              "      <progress value='4' class='' max='5', style='width:300px; height:20px; vertical-align: middle;'></progress>\n",
              "      80.00% [4/5 00:42<00:10]\n",
              "    </div>\n",
              "    \n",
              "<table border=\"1\" class=\"dataframe\">\n",
              "  <thead>\n",
              "    <tr style=\"text-align: left;\">\n",
              "      <th>epoch</th>\n",
              "      <th>train_loss</th>\n",
              "      <th>valid_loss</th>\n",
              "      <th>accuracy</th>\n",
              "      <th>time</th>\n",
              "    </tr>\n",
              "  </thead>\n",
              "  <tbody>\n",
              "    <tr>\n",
              "      <td>0</td>\n",
              "      <td>0.691125</td>\n",
              "      <td>#na#</td>\n",
              "      <td>00:10</td>\n",
              "    </tr>\n",
              "    <tr>\n",
              "      <td>1</td>\n",
              "      <td>0.705106</td>\n",
              "      <td>#na#</td>\n",
              "      <td>00:10</td>\n",
              "    </tr>\n",
              "    <tr>\n",
              "      <td>2</td>\n",
              "      <td>0.695606</td>\n",
              "      <td>#na#</td>\n",
              "      <td>00:11</td>\n",
              "    </tr>\n",
              "    <tr>\n",
              "      <td>3</td>\n",
              "      <td>0.776076</td>\n",
              "      <td>#na#</td>\n",
              "      <td>00:11</td>\n",
              "    </tr>\n",
              "  </tbody>\n",
              "</table><p>\n",
              "\n",
              "    <div>\n",
              "        <style>\n",
              "            /* Turns off some styling */\n",
              "            progress {\n",
              "                /* gets rid of default border in Firefox and Opera. */\n",
              "                border: none;\n",
              "                /* Needs to be in here for Safari polyfill so background images work as expected. */\n",
              "                background-size: auto;\n",
              "            }\n",
              "            .progress-bar-interrupted, .progress-bar-interrupted::-webkit-progress-bar {\n",
              "                background: #F44336;\n",
              "            }\n",
              "        </style>\n",
              "      <progress value='8' class='' max='22', style='width:300px; height:20px; vertical-align: middle;'></progress>\n",
              "      36.36% [8/22 00:08<00:15 2.6536]\n",
              "    </div>\n",
              "    "
            ],
            "text/plain": [
              "<IPython.core.display.HTML object>"
            ]
          },
          "metadata": {
            "tags": []
          }
        },
        {
          "output_type": "stream",
          "text": [
            "LR Finder is complete, type {learner_name}.recorder.plot() to see the graph.\n"
          ],
          "name": "stdout"
        }
      ]
    },
    {
      "cell_type": "code",
      "metadata": {
        "id": "iO204qrug3Jb",
        "colab_type": "code",
        "colab": {}
      },
      "source": [
        "\n"
      ],
      "execution_count": 0,
      "outputs": []
    },
    {
      "cell_type": "code",
      "metadata": {
        "id": "qa30T0l0h3dB",
        "colab_type": "code",
        "colab": {
          "base_uri": "https://localhost:8080/",
          "height": 112
        },
        "outputId": "852d11c0-49d2-436a-d325-1390f95cfc32"
      },
      "source": [
        "# SOMETHING IS WRONG WITH THE PRE-TRAINED DATASET, BUT THE PROCEDURE SEEMS TO BE RIGHT\n",
        "pd.crosstab(predictions, targets)"
      ],
      "execution_count": 124,
      "outputs": [
        {
          "output_type": "execute_result",
          "data": {
            "text/html": [
              "<div>\n",
              "<style scoped>\n",
              "    .dataframe tbody tr th:only-of-type {\n",
              "        vertical-align: middle;\n",
              "    }\n",
              "\n",
              "    .dataframe tbody tr th {\n",
              "        vertical-align: top;\n",
              "    }\n",
              "\n",
              "    .dataframe thead th {\n",
              "        text-align: right;\n",
              "    }\n",
              "</style>\n",
              "<table border=\"1\" class=\"dataframe\">\n",
              "  <thead>\n",
              "    <tr style=\"text-align: right;\">\n",
              "      <th>col_0</th>\n",
              "      <th>0</th>\n",
              "      <th>1</th>\n",
              "    </tr>\n",
              "    <tr>\n",
              "      <th>row_0</th>\n",
              "      <th></th>\n",
              "      <th></th>\n",
              "    </tr>\n",
              "  </thead>\n",
              "  <tbody>\n",
              "    <tr>\n",
              "      <th>1</th>\n",
              "      <td>234</td>\n",
              "      <td>240</td>\n",
              "    </tr>\n",
              "  </tbody>\n",
              "</table>\n",
              "</div>"
            ],
            "text/plain": [
              "col_0    0    1\n",
              "row_0          \n",
              "1      234  240"
            ]
          },
          "metadata": {
            "tags": []
          },
          "execution_count": 124
        }
      ]
    },
    {
      "cell_type": "code",
      "metadata": {
        "id": "1V2hwn8qi8QY",
        "colab_type": "code",
        "colab": {}
      },
      "source": [
        ""
      ],
      "execution_count": 0,
      "outputs": []
    }
  ]
}